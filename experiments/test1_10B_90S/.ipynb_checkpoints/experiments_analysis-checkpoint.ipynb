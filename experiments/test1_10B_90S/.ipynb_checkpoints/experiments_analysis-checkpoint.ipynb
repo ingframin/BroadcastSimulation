{
 "cells": [
  {
   "cell_type": "code",
   "execution_count": 4,
   "metadata": {},
   "outputs": [],
   "source": [
    "import re\n",
    "from matplotlib import pyplot as pt\n",
    "\n",
    "MSG = re.compile(r'D[0-9]+-[0-9]+.*')\n",
    "\n",
    "def find_last(lines):\n",
    "    for l in lines[-1::]:\n",
    "        if len(l)>1:\n",
    "            return l\n",
    "\n",
    "def duration(l0,l1):\n",
    "    start = float(l0.split()[0])\n",
    "    stop = float(l1.split()[0])\n",
    "    return stop - start\n",
    "\n",
    "def get_windows(lines):\n",
    "    events = []\n",
    "    for l in lines:\n",
    "        if l =='' or 'count' in l:\n",
    "            continue\n",
    "        ls = l.split()\n",
    "        if len(ls)<2:\n",
    "            continue\n",
    "        e = (float(ls[0]),ls[1])\n",
    "        events.append(e)\n",
    "    w0 = None\n",
    "    \n",
    "    windows = []\n",
    "    w = []\n",
    "    for e in events:\n",
    "        if w0 == None:\n",
    "            w0 = e\n",
    "            w.append(w0)\n",
    "            continue\n",
    "        if w0 != None:\n",
    "            if e[0] - w0[0] < 1:\n",
    "                w.append(e)\n",
    "            else:\n",
    "                windows.append(w.copy())\n",
    "                w = []\n",
    "                w0 = e\n",
    "                w.append(w0)\n",
    "\n",
    "    return events,windows\n",
    "\n",
    "\n",
    "\n",
    "def computePrx(windows):\n",
    "    hist = {}\n",
    "    for w in windows:\n",
    "        c = 0\n",
    "        for e in w:\n",
    "            if MSG.match(e[1]):\n",
    "                c+=1\n",
    "        try:\n",
    "            hist[c] += 1\n",
    "        except:\n",
    "            hist[c] = 1\n",
    "    return hist\n"
   ]
  },
  {
   "cell_type": "code",
   "execution_count": 5,
   "metadata": {},
   "outputs": [],
   "source": [
    "f = open('res-1.txt')\n",
    "lines = f.readlines()\n",
    "f.close()\n",
    "f = open('res-2.txt')\n",
    "lines2 = f.readlines()\n",
    "f.close()"
   ]
  },
  {
   "cell_type": "code",
   "execution_count": 18,
   "metadata": {},
   "outputs": [],
   "source": [
    "e,w = get_windows(lines)\n",
    "d = duration(lines[0],find_last(lines))\n",
    "e2,w2 = get_windows(lines2)\n",
    "d2 = duration(lines2[0],find_last(lines2))"
   ]
  },
  {
   "cell_type": "code",
   "execution_count": 19,
   "metadata": {},
   "outputs": [
    {
     "data": {
      "image/png": "[encoded data removed]",
      "text/plain": [
       "<Figure size 432x288 with 1 Axes>"
      ]
     },
     "metadata": {
      "needs_background": "light"
     },
     "output_type": "display_data"
    }
   ],
   "source": [
    "h = computePrx(w)\n",
    "x = []\n",
    "y = []\n",
    "\n",
    "for c in sorted(h):\n",
    "    x.append(c)\n",
    "    y.append(h[c]/d)\n",
    "    \n",
    "h2 = computePrx(w2)\n",
    "x2 = []\n",
    "y2 = []\n",
    "\n",
    "for c in sorted(h2):\n",
    "    x2.append(c)\n",
    "    y2.append(h2[c]/d2)\n",
    "\n",
    "pt.plot(x,y)\n",
    "pt.plot(x2,y2)\n",
    "pt.show()"
   ]
  },
  {
   "cell_type": "code",
   "execution_count": null,
   "metadata": {},
   "outputs": [],
   "source": []
  }
 ],
 "metadata": {
  "kernelspec": {
   "display_name": "Python 3",
   "language": "python",
   "name": "python3"
  },
  "language_info": {
   "codemirror_mode": {
    "name": "ipython",
    "version": 3
   },
   "file_extension": ".py",
   "mimetype": "text/x-python",
   "name": "python",
   "nbconvert_exporter": "python",
   "pygments_lexer": "ipython3",
   "version": "3.7.4"
  }
 },
 "nbformat": 4,
 "nbformat_minor": 2
}
