{
 "cells": [
  {
   "cell_type": "code",
   "execution_count": 1,
   "metadata": {},
   "outputs": [],
   "source": [
    "from timestamp import *\n",
    "import re\n",
    "import numpy as np\n",
    "from matplotlib import pyplot as plt\n",
    "import scipy\n",
    "import scipy.stats\n",
    "import matplotlib\n",
    "from threading import Thread\n",
    "from analysis import *\n"
   ]
  },
  {
   "cell_type": "code",
   "execution_count": 2,
   "metadata": {},
   "outputs": [
    {
     "name": "stdout",
     "output_type": "stream",
     "text": [
      "Reception rate:  7.452668216555029\n",
      "Success: 45.327488%\n",
      "Transmission rate [msg/s]: 16.44175814993499\n",
      "Reception rate:  7.72913877409244\n",
      "Success: 47.109348%\n",
      "Transmission rate [msg/s]: 16.405130173901313\n",
      "scan freq(res-1):  8.188667566304739\n",
      "scan freq(res-2):  8.23056306422965\n",
      "Average Ttx (res-1):  30.254437321810972\n",
      "Average Ttx (res-2):  30.293790963776367\n",
      "Average Trx (res-1):  61.27881093687719\n",
      "Average Trx (res-2):  61.02217264189947\n",
      "Standard deviation: Ttx\n",
      "2.588484939213895\n",
      "3.005559875203809\n",
      "Standard deviation: Trx\n",
      "0.1983272622946031\n",
      "0.19030779423149205\n",
      "B1(%):  49.78240074513701\n",
      "S1(%):  50.21759925486299\n",
      "B2(%):  49.73542679935949\n",
      "S2(%):  50.264573200640505\n"
     ]
    }
   ],
   "source": [
    "res1 = read_file('res-1.txt')\n",
    "res2 = read_file('res-2.txt')\n",
    "\n",
    "h1 = analysis(res1,res2,'res-1','res-2')\n",
    "h2 = analysis(res2,res1,'res2','res-1')\n",
    "\n",
    "diff1 = compute_ttx(res1)\n",
    "diff2 = compute_ttx(res2)\n",
    "diff_r1 = compute_trx(res1)\n",
    "diff_r2 = compute_trx(res2)\n",
    "print('scan freq(res-1): ',scan_frequency(res1))\n",
    "print('scan freq(res-2): ',scan_frequency(res2))\n",
    "print('Average Ttx (res-1): ',np.average(diff1)/1000)\n",
    "print('Average Ttx (res-2): ',np.average(diff2)/1000)\n",
    "print('Average Trx (res-1): ',np.average(diff_r1)/1000)\n",
    "print('Average Trx (res-2): ',np.average(diff_r2)/1000)\n",
    "print('Standard deviation: Ttx')\n",
    "print(np.std(diff1)/1000)\n",
    "print(np.std(diff2)/1000)\n",
    "print('Standard deviation: Trx')\n",
    "print(np.std(diff_r1)/1000)\n",
    "print(np.std(diff_r2)/1000)\n",
    "B = 0\n",
    "S = 0\n",
    "for line in res1:\n",
    "    if '>' in line:\n",
    "        B+=1\n",
    "    if 'S' in line:\n",
    "        S+=1\n",
    "Btime = B*np.average(diff1)/1000\n",
    "Stime = S*np.average(diff_r1)/1000\n",
    "print('B1(%): ',100*Btime/(Btime+Stime))\n",
    "print('S1(%): ',100*Stime/(Btime+Stime))\n",
    "\n",
    "B = 0\n",
    "S = 0\n",
    "for line in res2:\n",
    "    if '>' in line:\n",
    "        B+=1\n",
    "    if 'S' in line:\n",
    "        S+=1\n",
    "Btime = B*np.average(diff2)/1000\n",
    "Stime = S*np.average(diff_r2)/1000\n",
    "print('B2(%): ',100*Btime/(Btime+Stime))\n",
    "print('S2(%): ',100*Stime/(Btime+Stime))"
   ]
  },
  {
   "cell_type": "code",
   "execution_count": 3,
   "metadata": {},
   "outputs": [
    {
     "data": {
      "image/png": "[encoded data removed]",
      "text/plain": [
       "<Figure size 432x288 with 1 Axes>"
      ]
     },
     "metadata": {
      "needs_background": "light"
     },
     "output_type": "display_data"
    }
   ],
   "source": [
    "plt.hist(h1,bins=20,density=True,histtype='step')\n",
    "plt.hist(h2,bins=20,density=True,histtype='step')\n",
    "plt.show()"
   ]
  },
  {
   "cell_type": "code",
   "execution_count": 4,
   "metadata": {},
   "outputs": [
    {
     "data": {
      "image/png": "[encoded data removed]",
      "text/plain": [
       "<Figure size 432x288 with 1 Axes>"
      ]
     },
     "metadata": {
      "needs_background": "light"
     },
     "output_type": "display_data"
    }
   ],
   "source": [
    "b=(40000-24000)/500\n",
    "plt.hist(diff1,bins=16,histtype='step',color='blue',density=True)\n",
    "plt.hist(diff2,bins=16,histtype='step',color='green',density=True)\n",
    "plt.xticks(ticks=range(24000,40000,1000), labels=['%d'%(x/1000) for x in range(24000,40000,1000)])\n",
    "#plt.yticks(ticks=[0,0.5e-4,1e-4,1.5e-4,2e-4,2.5e-4,3e-4,3.5e-4,4e-4], labels=['%.5f'%x for x in [0,0.5e-4,1e-4,1.5e-4,2e-4,2.5e-4,3e-4,3.5e-4,4e-4]])\n",
    "plt.axis([24000,40000,0,0.0021])\n",
    "plt.grid(True)\n",
    "plt.show()"
   ]
  },
  {
   "cell_type": "code",
   "execution_count": 5,
   "metadata": {},
   "outputs": [
    {
     "data": {
      "image/png": "[encoded data removed]",
      "text/plain": [
       "<Figure size 432x288 with 1 Axes>"
      ]
     },
     "metadata": {
      "needs_background": "light"
     },
     "output_type": "display_data"
    }
   ],
   "source": [
    "b=(63000-60500)/250\n",
    "plt.hist(diff_r1,bins=100,histtype='step',color='blue',density=True)\n",
    "plt.hist(diff_r2,bins=100,histtype='step',color='green',density=True)\n",
    "plt.xticks(ticks=range(60500,63000,500), labels=['%.2f'%(x/1000) for x in range(60500,63000,500)])\n",
    "#plt.yticks(ticks=[0,0.5e-3,1e-3,1.5e-3,2e-3,2.5e-3,3e-3,3.5e-3,4e-3], labels=['%.5f'%x for x in[0,0.5e-3,1e-3,1.5e-3,2e-3,2.5e-3,3e-3,3.5e-3,4e-3]])\n",
    "plt.axis([60500,63000,0,0.006])\n",
    "plt.grid(True)\n",
    "plt.show()"
   ]
  },
  {
   "cell_type": "code",
   "execution_count": null,
   "metadata": {},
   "outputs": [],
   "source": []
  }
 ],
 "metadata": {
  "kernelspec": {
   "display_name": "Python 3",
   "language": "python",
   "name": "python3"
  },
  "language_info": {
   "codemirror_mode": {
    "name": "ipython",
    "version": 3
   },
   "file_extension": ".py",
   "mimetype": "text/x-python",
   "name": "python",
   "nbconvert_exporter": "python",
   "pygments_lexer": "ipython3",
   "version": "3.7.4"
  }
 },
 "nbformat": 4,
 "nbformat_minor": 2
}
