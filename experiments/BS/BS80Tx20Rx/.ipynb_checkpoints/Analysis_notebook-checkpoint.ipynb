{
 "cells": [
  {
   "cell_type": "code",
   "execution_count": 1,
   "metadata": {},
   "outputs": [],
   "source": [
    "from timestamp import *\n",
    "import re\n",
    "import numpy as np\n",
    "from matplotlib import pyplot as plt\n",
    "import scipy\n",
    "import scipy.stats\n",
    "import matplotlib\n",
    "from threading import Thread\n",
    "from analysis import *\n"
   ]
  },
  {
   "cell_type": "code",
   "execution_count": 2,
   "metadata": {},
   "outputs": [
    {
     "name": "stdout",
     "output_type": "stream",
     "text": [
      "Reception rate:  4.771757205650408\n",
      "Success: 17.833050%\n",
      "Transmission rate [msg/s]: 26.75246308980998\n",
      "Reception rate:  4.713432501177872\n",
      "Success: 17.500970%\n",
      "Transmission rate [msg/s]: 26.93037452966766\n",
      "scan freq(res-1):  3.3554862978045397\n",
      "scan freq(res-2):  3.324593978179463\n",
      "Average Ttx (res-1):  29.672046934273993\n",
      "Average Ttx (res-2):  29.549439547039814\n",
      "Average Trx (res-1):  61.16368994422965\n",
      "Average Trx (res-2):  61.13902227671478\n",
      "Standard deviation: Ttx\n",
      "2.2251638667874185\n",
      "2.573501292615777\n",
      "Standard deviation: Trx\n",
      "0.17660162880126992\n",
      "0.16134042060107553\n",
      "B1(%):  79.45735328955809\n",
      "S1(%):  20.542646710441918\n",
      "B2(%):  79.65375832911803\n",
      "S2(%):  20.34624167088196\n"
     ]
    }
   ],
   "source": [
    "res1 = read_file('res-1.txt')\n",
    "res2 = read_file('res-2.txt')\n",
    "\n",
    "h1 = analysis(res1,res2,'res-1','res-2')\n",
    "h2 = analysis(res2,res1,'res2','res-1')\n",
    "\n",
    "diff1 = compute_ttx(res1)\n",
    "diff2 = compute_ttx(res2)\n",
    "diff_r1 = compute_trx(res1)\n",
    "diff_r2 = compute_trx(res2)\n",
    "print('scan freq(res-1): ',scan_frequency(res1))\n",
    "print('scan freq(res-2): ',scan_frequency(res2))\n",
    "print('Average Ttx (res-1): ',np.average(diff1)/1000)\n",
    "print('Average Ttx (res-2): ',np.average(diff2)/1000)\n",
    "print('Average Trx (res-1): ',np.average(diff_r1)/1000)\n",
    "print('Average Trx (res-2): ',np.average(diff_r2)/1000)\n",
    "print('Standard deviation: Ttx')\n",
    "print(np.std(diff1)/1000)\n",
    "print(np.std(diff2)/1000)\n",
    "print('Standard deviation: Trx')\n",
    "print(np.std(diff_r1)/1000)\n",
    "print(np.std(diff_r2)/1000)\n",
    "B = 0\n",
    "S = 0\n",
    "for line in res1:\n",
    "    if '>' in line:\n",
    "        B+=1\n",
    "    if 'S' in line:\n",
    "        S+=1\n",
    "Btime = B*np.average(diff1)/1000\n",
    "Stime = S*np.average(diff_r1)/1000\n",
    "print('B1(%): ',100*Btime/(Btime+Stime))\n",
    "print('S1(%): ',100*Stime/(Btime+Stime))\n",
    "\n",
    "B = 0\n",
    "S = 0\n",
    "for line in res2:\n",
    "    if '>' in line:\n",
    "        B+=1\n",
    "    if 'S' in line:\n",
    "        S+=1\n",
    "Btime = B*np.average(diff2)/1000\n",
    "Stime = S*np.average(diff_r2)/1000\n",
    "print('B2(%): ',100*Btime/(Btime+Stime))\n",
    "print('S2(%): ',100*Stime/(Btime+Stime))"
   ]
  },
  {
   "cell_type": "code",
   "execution_count": 3,
   "metadata": {},
   "outputs": [
    {
     "data": {
      "image/png": "[encoded data removed]",
      "text/plain": [
       "<Figure size 432x288 with 1 Axes>"
      ]
     },
     "metadata": {
      "needs_background": "light"
     },
     "output_type": "display_data"
    }
   ],
   "source": [
    "plt.hist(h1,density=True,histtype='step')\n",
    "plt.hist(h2,density=True,histtype='step')\n",
    "plt.show()"
   ]
  },
  {
   "cell_type": "code",
   "execution_count": 10,
   "metadata": {},
   "outputs": [
    {
     "data": {
      "image/png": "[encoded data removed]",
      "text/plain": [
       "<Figure size 432x288 with 1 Axes>"
      ]
     },
     "metadata": {
      "needs_background": "light"
     },
     "output_type": "display_data"
    }
   ],
   "source": [
    "b=(40000-24000)/500\n",
    "plt.hist(diff1,bins=int(b),histtype='step',color='blue',density=True)\n",
    "plt.hist(diff2,bins=int(b),histtype='step',color='green',density=True)\n",
    "#plt.xticks(ticks=range(24000,40000,1000), labels=['%d'%(x/1000) for x in range(24000,40000,1000)])\n",
    "#plt.yticks(ticks=[0,0.5e-4,1e-4,1.5e-4,2e-4,2.5e-4,3e-4,3.5e-4,4e-4], labels=['%.5f'%x for x in [0,0.5e-4,1e-4,1.5e-4,2e-4,2.5e-4,3e-4,3.5e-4,4e-4]])\n",
    "plt.axis([24000,40000,0,0.001])\n",
    "plt.grid(True)\n",
    "plt.show()"
   ]
  },
  {
   "cell_type": "code",
   "execution_count": 9,
   "metadata": {},
   "outputs": [
    {
     "data": {
      "image/png": "[encoded data removed]",
      "text/plain": [
       "<Figure size 432x288 with 1 Axes>"
      ]
     },
     "metadata": {
      "needs_background": "light"
     },
     "output_type": "display_data"
    }
   ],
   "source": [
    "b=(63000-60500)/250\n",
    "plt.hist(diff_r1,bins=int(b),histtype='step',color='blue',density=True)\n",
    "plt.hist(diff_r2,bins=int(b),histtype='step',color='green',density=True)\n",
    "#plt.xticks(ticks=range(60500,63000,500), labels=['%.2f'%(x/1000) for x in range(60500,63000,500)])\n",
    "#plt.yticks(ticks=[0,0.5e-3,1e-3,1.5e-3,2e-3,2.5e-3,3e-3,3.5e-3,4e-3], labels=['%.5f'%x for x in[0,0.5e-3,1e-3,1.5e-3,2e-3,2.5e-3,3e-3,3.5e-3,4e-3]])\n",
    "plt.axis([60500,63000,0,0.004])\n",
    "plt.grid(True)\n",
    "plt.show()"
   ]
  },
  {
   "cell_type": "code",
   "execution_count": null,
   "metadata": {},
   "outputs": [],
   "source": []
  }
 ],
 "metadata": {
  "kernelspec": {
   "display_name": "Python 3",
   "language": "python",
   "name": "python3"
  },
  "language_info": {
   "codemirror_mode": {
    "name": "ipython",
    "version": 3
   },
   "file_extension": ".py",
   "mimetype": "text/x-python",
   "name": "python",
   "nbconvert_exporter": "python",
   "pygments_lexer": "ipython3",
   "version": "3.7.4"
  }
 },
 "nbformat": 4,
 "nbformat_minor": 2
}
