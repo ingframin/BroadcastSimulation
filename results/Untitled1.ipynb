{
 "cells": [
  {
   "cell_type": "code",
   "execution_count": 1,
   "metadata": {},
   "outputs": [],
   "source": [
    "from math import e, factorial,log, gamma, sqrt, floor\n",
    "from matplotlib import pyplot as pt\n",
    "from numpy.random import geometric,exponential,poisson\n",
    "from scipy.stats import ks_2samp\n",
    "from scipy.stats import norm\n",
    "from numpy import linspace\n",
    "from IPython.display import Markdown\n",
    "from analysis import *"
   ]
  },
  {
   "cell_type": "code",
   "execution_count": 3,
   "metadata": {},
   "outputs": [],
   "source": [
    "f1 = open(\"r1-d0-result.txt\")\n",
    "raw1 = f1.read()\n",
    "f1.close()\n",
    "\n",
    "f2 = open(\"r1-d1-result.txt\")\n",
    "raw2 = f2.read()\n",
    "f2.close()\n",
    "\n",
    "f3 = open(\"r5-d0-result.txt\")\n",
    "raw3 = f3.read()\n",
    "f3.close()\n",
    "\n",
    "f4 = open(\"r5-d1-result.txt\")\n",
    "raw4 = f4.read()\n",
    "f4.close()\n",
    "\n",
    "f5 = open(\"r9-d0-result.txt\")\n",
    "raw5 = f5.read()\n",
    "f5.close()\n",
    "\n",
    "f6 = open(\"r9-d1-result.txt\")\n",
    "raw6 = f6.read()\n",
    "f6.close()\n",
    "\n",
    "Ttx = 1\n",
    "Trx = 10\n",
    "Tn = 1"
   ]
  },
  {
   "cell_type": "code",
   "execution_count": null,
   "metadata": {},
   "outputs": [],
   "source": [
    "Eb1,Es1,En1 = computeEvents(raw1,Ttx,Trx,Tn)\n",
    "Eb2,Es2,En2 = computeEvents(raw2,Ttx,Trx,Tn)\n",
    "Eb3,Es3,En3 = computeEvents(raw1,Ttx,Trx,Tn)\n",
    "Eb4,Es4,En4 = computeEvents(raw1,Ttx,Trx,Tn)\n",
    "Eb5,Es5,En5 = computeEvents(raw1,Ttx,Trx,Tn)\n",
    "Eb6,Es6,En6 = computeEvents(raw1,Ttx,Trx,Tn)"
   ]
  },
  {
   "cell_type": "code",
   "execution_count": null,
   "metadata": {},
   "outputs": [],
   "source": []
  }
 ],
 "metadata": {
  "kernelspec": {
   "display_name": "Python 3",
   "language": "python",
   "name": "python3"
  },
  "language_info": {
   "codemirror_mode": {
    "name": "ipython",
    "version": 3
   },
   "file_extension": ".py",
   "mimetype": "text/x-python",
   "name": "python",
   "nbconvert_exporter": "python",
   "pygments_lexer": "ipython3",
   "version": "3.6.2"
  }
 },
 "nbformat": 4,
 "nbformat_minor": 2
}
