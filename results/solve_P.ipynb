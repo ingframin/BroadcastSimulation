{
 "cells": [
  {
   "cell_type": "code",
   "execution_count": 16,
   "metadata": {},
   "outputs": [
    {
     "name": "stdout",
     "output_type": "stream",
     "text": [
      "0.20324767723351764\n",
      "0.09827043977990295\n",
      "0.6984818829865793\n"
     ]
    }
   ],
   "source": [
    "from scipy.optimize import fsolve\n",
    "Trx = 60\n",
    "Ttx = 21\n",
    "Tn = 100\n",
    "\n",
    "def equations(p):\n",
    "    x, y, z = p\n",
    "    return (Trx*x/(Trx*x+Ttx*z +Tn*y), Tn*y/(Trx*x+Ttx*z +Tn*y),Ttx*z/(Trx*x+Ttx*z+Tn*y))\n",
    "\n",
    "x, y, z =  fsolve(equations, (80,0 ,20))\n",
    "print(x/(x+y+z))\n",
    "print(y/(x+y+z))\n",
    "print(z/(x+y+z))"
   ]
  },
  {
   "cell_type": "code",
   "execution_count": null,
   "metadata": {},
   "outputs": [],
   "source": []
  }
 ],
 "metadata": {
  "kernelspec": {
   "display_name": "Python 3",
   "language": "python",
   "name": "python3"
  },
  "language_info": {
   "codemirror_mode": {
    "name": "ipython",
    "version": 3
   },
   "file_extension": ".py",
   "mimetype": "text/x-python",
   "name": "python",
   "nbconvert_exporter": "python",
   "pygments_lexer": "ipython3",
   "version": "3.7.4"
  }
 },
 "nbformat": 4,
 "nbformat_minor": 2
}
