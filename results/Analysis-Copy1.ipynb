{
 "cells": [
  {
   "cell_type": "code",
   "execution_count": 1,
   "metadata": {},
   "outputs": [],
   "source": [
    "from math import e, factorial,log, gamma, sqrt, floor\n",
    "from matplotlib import pyplot as pt\n",
    "from numpy.random import geometric,exponential,poisson\n",
    "from scipy.stats import ks_2samp\n",
    "from scipy.stats import norm\n",
    "from numpy import linspace\n",
    "from IPython.display import Markdown\n",
    "from analysis import *"
   ]
  },
  {
   "cell_type": "markdown",
   "metadata": {},
   "source": [
    "# Load data\n",
    "\n",
    "This is a comment\n"
   ]
  },
  {
   "cell_type": "code",
   "execution_count": 2,
   "metadata": {},
   "outputs": [
    {
     "ename": "FileNotFoundError",
     "evalue": "[Errno 2] No such file or directory: 'r0-d0-result.txt'",
     "output_type": "error",
     "traceback": [
      "\u001b[1;31m---------------------------------------------------------------------------\u001b[0m",
      "\u001b[1;31mFileNotFoundError\u001b[0m                         Traceback (most recent call last)",
      "\u001b[1;32m<ipython-input-2-a235be4639c6>\u001b[0m in \u001b[0;36m<module>\u001b[1;34m\u001b[0m\n\u001b[1;32m----> 1\u001b[1;33m \u001b[0mf1\u001b[0m \u001b[1;33m=\u001b[0m \u001b[0mopen\u001b[0m\u001b[1;33m(\u001b[0m\u001b[1;34m\"r0-d0-result.txt\"\u001b[0m\u001b[1;33m)\u001b[0m\u001b[1;33m\u001b[0m\u001b[1;33m\u001b[0m\u001b[0m\n\u001b[0m\u001b[0;32m      2\u001b[0m \u001b[0mraw1\u001b[0m \u001b[1;33m=\u001b[0m \u001b[0mf1\u001b[0m\u001b[1;33m.\u001b[0m\u001b[0mread\u001b[0m\u001b[1;33m(\u001b[0m\u001b[1;33m)\u001b[0m\u001b[1;33m\u001b[0m\u001b[1;33m\u001b[0m\u001b[0m\n\u001b[0;32m      3\u001b[0m \u001b[0mf1\u001b[0m\u001b[1;33m.\u001b[0m\u001b[0mclose\u001b[0m\u001b[1;33m(\u001b[0m\u001b[1;33m)\u001b[0m\u001b[1;33m\u001b[0m\u001b[1;33m\u001b[0m\u001b[0m\n\u001b[0;32m      4\u001b[0m \u001b[1;33m\u001b[0m\u001b[0m\n\u001b[0;32m      5\u001b[0m \u001b[0mf2\u001b[0m \u001b[1;33m=\u001b[0m \u001b[0mopen\u001b[0m\u001b[1;33m(\u001b[0m\u001b[1;34m\"r0-d1-result.txt\"\u001b[0m\u001b[1;33m)\u001b[0m\u001b[1;33m\u001b[0m\u001b[1;33m\u001b[0m\u001b[0m\n",
      "\u001b[1;31mFileNotFoundError\u001b[0m: [Errno 2] No such file or directory: 'r0-d0-result.txt'"
     ]
    }
   ],
   "source": [
    "f1 = open(\"r0-d0-result.txt\")\n",
    "raw1 = f1.read()\n",
    "f1.close()\n",
    "\n",
    "f2 = open(\"r0-d1-result.txt\")\n",
    "raw2 = f2.read()\n",
    "f2.close()\n",
    "\n",
    "f3 = open(\"r3-d0-result.txt\")\n",
    "raw3 = f3.read()\n",
    "f3.close()\n",
    "\n",
    "f4 = open(\"r3-d1-result.txt\")\n",
    "raw4 = f4.read()\n",
    "f4.close()\n",
    "\n",
    "f5 = open(\"r5-d0-result.txt\")\n",
    "raw5 = f5.read()\n",
    "f5.close()\n",
    "\n",
    "f6 = open(\"r5-d1-result.txt\")\n",
    "raw6 = f6.read()\n",
    "f6.close()\n",
    "\n",
    "f7 = open(\"r7-d0-result.txt\")\n",
    "raw7 = f7.read()\n",
    "f7.close()\n",
    "\n",
    "f8 = open(\"r7-d1-result.txt\")\n",
    "raw8 = f8.read()\n",
    "f8.close()\n"
   ]
  },
  {
   "cell_type": "code",
   "execution_count": null,
   "metadata": {},
   "outputs": [],
   "source": [
    "Ttx = 30\n",
    "Trx = 60\n",
    "Tn = 100\n",
    "    \n",
    "def compute_histogram(r1,r2):\n",
    "\n",
    "    Eb1,Es1,En1 = computeEvents(r1,Ttx,Trx,Tn)\n",
    "    Eb2,Es2,En2 = computeEvents(r2,Ttx,Trx,Tn)\n",
    "    display(Markdown('<span style=\"color: #af0000\">'+\"P(S) = %.6f\"%(Trx*Es1/len(r1))+'</span>'))\n",
    "    display(Markdown('<span style=\"color: #00af00\">'+\"P(N) = %.6f\"%(Tn*En1/len(r1))+'</span>'))\n",
    "    display(Markdown('<span style=\"color: #0000af\">'+\"P(B) = %.6f\"%(Ttx*Eb1/len(r1))+'</span>'))\n",
    "\n",
    "    Pb2 = Eb2*Ttx/(Eb2*Ttx+En2*Tn+Es2*Trx)\n",
    "    rt1 = Pb2/(Ttx/1000)\n",
    "    print(\"r(B)(Events/s) = %.6f\"%(rt1))\n",
    "    \n",
    "    hist1 = genWindowHistogram(r1,r2,1000,Eb2)\n",
    "    Esuc = checkSuccess(raw2,raw1)\n",
    "    Ps=Esuc/Eb2\n",
    "    print(Eb2)\n",
    "    print(Esuc)\n",
    "    print(Eb2/Esuc)\n",
    "    Ns = Ps*1000/Ttx\n",
    "    Nb = rt1*1000\n",
    "    print(\"Success probability evts: %.6f\"%(Ps))\n",
    "    return hist1,Eb1,Es1,En1,Ps"
   ]
  },
  {
   "cell_type": "code",
   "execution_count": null,
   "metadata": {
    "scrolled": false
   },
   "outputs": [],
   "source": [
    "hist1,Eb1,Es1,En1,Ps1 = compute_histogram(raw1,raw2)\n",
    "print(1-hist1[0])\n",
    "print('---------------------')\n",
    "hist2,Eb2,Es2,En2,Ps2 = compute_histogram(raw3,raw4)\n",
    "print(1-hist2[0])\n",
    "print('---------------------')\n",
    "hist3,Eb3,Es3,En3,Ps3 = compute_histogram(raw5,raw6)\n",
    "print(1-hist3[0])\n",
    "print('---------------------')\n",
    "hist4,Eb4,Es4,En4,Ps4 = compute_histogram(raw7,raw8)\n",
    "print(1-hist4[0])\n",
    "print('---------------------')"
   ]
  },
  {
   "cell_type": "code",
   "execution_count": null,
   "metadata": {},
   "outputs": [],
   "source": [
    "pt.rcParams[\"figure.figsize\"] = (20,10)\n",
    "pt.plot(range(len(hist1)),hist1,label=\"P(succ)= %.3f\"%(100*Ps1))\n",
    "pt.plot(range(len(hist2)),hist2,label=\"P(succ)= %.3f\"%(100*Ps2))\n",
    "pt.plot(range(len(hist3)),hist3,label=\"P(succ)= %.3f\"%(100*Ps3))\n",
    "pt.plot(range(len(hist4)),hist4,label=\"P(succ)= %.3f\"%(100*Ps4))\n",
    "\n",
    "pt.legend()\n",
    "pt.axis([0,67,0,0.3])\n",
    "pt.xticks(range(67), [str(n) for n in range(67)])\n",
    "pt.xlabel(r'$\\mathcal{k}$', fontsize = 18)\n",
    "pt.ylabel(r'P(k-messages-received)')\n",
    "pt.savefig('test.svg',format='svg',dpi=300, bbox_inches='tight')\n",
    "pt.grid(True)\n",
    "pt.show()"
   ]
  },
  {
   "cell_type": "code",
   "execution_count": null,
   "metadata": {},
   "outputs": [],
   "source": []
  },
  {
   "cell_type": "code",
   "execution_count": null,
   "metadata": {},
   "outputs": [],
   "source": []
  }
 ],
 "metadata": {
  "kernelspec": {
   "display_name": "Python 3",
   "language": "python",
   "name": "python3"
  },
  "language_info": {
   "codemirror_mode": {
    "name": "ipython",
    "version": 3
   },
   "file_extension": ".py",
   "mimetype": "text/x-python",
   "name": "python",
   "nbconvert_exporter": "python",
   "pygments_lexer": "ipython3",
   "version": "3.7.4"
  }
 },
 "nbformat": 4,
 "nbformat_minor": 2
}
