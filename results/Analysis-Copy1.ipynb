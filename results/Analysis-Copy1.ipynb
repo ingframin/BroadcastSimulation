{
 "cells": [
  {
   "cell_type": "code",
   "execution_count": 1,
   "metadata": {},
   "outputs": [],
   "source": [
    "from math import e, factorial,log, gamma, sqrt, floor\n",
    "from matplotlib import pyplot as pt\n",
    "from numpy.random import geometric,exponential,poisson\n",
    "from scipy.stats import ks_2samp\n",
    "from scipy.stats import norm\n",
    "from numpy import linspace\n",
    "from IPython.display import Markdown\n",
    "from analysis import *"
   ]
  },
  {
   "cell_type": "markdown",
   "metadata": {},
   "source": [
    "# Load data\n",
    "\n",
    "This is a comment\n"
   ]
  },
  {
   "cell_type": "code",
   "execution_count": 2,
   "metadata": {},
   "outputs": [],
   "source": [
    "f1 = open(\"r0-d0-result.txt\")\n",
    "raw1 = f1.read()\n",
    "f1.close()\n",
    "\n",
    "f2 = open(\"r0-d1-result.txt\")\n",
    "raw2 = f2.read()\n",
    "f2.close()\n",
    "\n",
    "f3 = open(\"r3-d0-result.txt\")\n",
    "raw3 = f3.read()\n",
    "f3.close()\n",
    "\n",
    "f4 = open(\"r3-d1-result.txt\")\n",
    "raw4 = f4.read()\n",
    "f4.close()\n",
    "\n",
    "f5 = open(\"r5-d0-result.txt\")\n",
    "raw5 = f5.read()\n",
    "f5.close()\n",
    "\n",
    "f6 = open(\"r5-d1-result.txt\")\n",
    "raw6 = f6.read()\n",
    "f6.close()\n",
    "\n",
    "f7 = open(\"r7-d0-result.txt\")\n",
    "raw7 = f7.read()\n",
    "f7.close()\n",
    "\n",
    "f8 = open(\"r7-d1-result.txt\")\n",
    "raw8 = f8.read()\n",
    "f8.close()\n"
   ]
  },
  {
   "cell_type": "code",
   "execution_count": 3,
   "metadata": {},
   "outputs": [],
   "source": [
    "Ttx = 23\n",
    "Trx = 60\n",
    "Tn = 100\n",
    "    \n",
    "def compute_histogram(r1,r2):\n",
    "\n",
    "    Eb1,Es1,En1 = computeEvents(r1,Ttx,Trx,Tn)\n",
    "    Eb2,Es2,En2 = computeEvents(r2,Ttx,Trx,Tn)\n",
    "    display(Markdown('<span style=\"color: #af0000\">'+\"P(S) = %.6f\"%(Trx*Es1/len(r1))+'</span>'))\n",
    "    display(Markdown('<span style=\"color: #00af00\">'+\"P(N) = %.6f\"%(Tn*En1/len(r1))+'</span>'))\n",
    "    display(Markdown('<span style=\"color: #0000af\">'+\"P(B) = %.6f\"%(Ttx*Eb1/len(r1))+'</span>'))\n",
    "\n",
    "    Pb2 = Eb2*Ttx/(Eb2*Ttx+En2*Tn+Es2*Trx)\n",
    "    rt1 = Pb2/(Ttx/1000)\n",
    "    print(\"r(B)(Events/s) = %.6f\"%(rt1))\n",
    "    \n",
    "    hist1 = genWindowHistogram(r1,r2,1000,Eb2)\n",
    "    Esuc = checkSuccess(raw2,raw1)\n",
    "    Ps=Esuc/Eb2\n",
    "    print(Eb2)\n",
    "    print(Esuc)\n",
    "    print(Eb2/Esuc)\n",
    "    Ns = Ps*1000/Ttx\n",
    "    Nb = rt1*1000\n",
    "    print(\"Success probability evts: %.6f\"%(Ps))\n",
    "    return hist1,Eb1,Es1,En1,Ps"
   ]
  },
  {
   "cell_type": "code",
   "execution_count": 4,
   "metadata": {
    "scrolled": false
   },
   "outputs": [
    {
     "data": {
      "text/markdown": [
       "<span style=\"color: #af0000\">P(S) = 0.722629</span>"
      ],
      "text/plain": [
       "<IPython.core.display.Markdown object>"
      ]
     },
     "metadata": {},
     "output_type": "display_data"
    },
    {
     "data": {
      "text/markdown": [
       "<span style=\"color: #00af00\">P(N) = 0.000000</span>"
      ],
      "text/plain": [
       "<IPython.core.display.Markdown object>"
      ]
     },
     "metadata": {},
     "output_type": "display_data"
    },
    {
     "data": {
      "text/markdown": [
       "<span style=\"color: #0000af\">P(B) = 0.277371</span>"
      ],
      "text/plain": [
       "<IPython.core.display.Markdown object>"
      ]
     },
     "metadata": {},
     "output_type": "display_data"
    },
    {
     "name": "stdout",
     "output_type": "stream",
     "text": [
      "r(B)(Events/s) = 12.023717\n",
      "1.0000000000000002\n",
      "499297\n",
      "360573\n",
      "1.3847320792183553\n",
      "Success probability evts: 0.722161\n",
      "0.9996384496721944\n",
      "---------------------\n"
     ]
    },
    {
     "data": {
      "text/markdown": [
       "<span style=\"color: #af0000\">P(S) = 0.301436</span>"
      ],
      "text/plain": [
       "<IPython.core.display.Markdown object>"
      ]
     },
     "metadata": {},
     "output_type": "display_data"
    },
    {
     "data": {
      "text/markdown": [
       "<span style=\"color: #00af00\">P(N) = 0.000000</span>"
      ],
      "text/plain": [
       "<IPython.core.display.Markdown object>"
      ]
     },
     "metadata": {},
     "output_type": "display_data"
    },
    {
     "data": {
      "text/markdown": [
       "<span style=\"color: #0000af\">P(B) = 0.698564</span>"
      ],
      "text/plain": [
       "<IPython.core.display.Markdown object>"
      ]
     },
     "metadata": {},
     "output_type": "display_data"
    },
    {
     "name": "stdout",
     "output_type": "stream",
     "text": [
      "r(B)(Events/s) = 30.442189\n",
      "1.0\n",
      "858994\n",
      "360573\n",
      "2.3823026127857605\n",
      "Success probability evts: 0.419762\n",
      "0.9955401387512388\n",
      "---------------------\n"
     ]
    },
    {
     "data": {
      "text/markdown": [
       "<span style=\"color: #af0000\">P(S) = 0.500006</span>"
      ],
      "text/plain": [
       "<IPython.core.display.Markdown object>"
      ]
     },
     "metadata": {},
     "output_type": "display_data"
    },
    {
     "data": {
      "text/markdown": [
       "<span style=\"color: #00af00\">P(N) = 0.000000</span>"
      ],
      "text/plain": [
       "<IPython.core.display.Markdown object>"
      ]
     },
     "metadata": {},
     "output_type": "display_data"
    },
    {
     "data": {
      "text/markdown": [
       "<span style=\"color: #0000af\">P(B) = 0.499994</span>"
      ],
      "text/plain": [
       "<IPython.core.display.Markdown object>"
      ]
     },
     "metadata": {},
     "output_type": "display_data"
    },
    {
     "name": "stdout",
     "output_type": "stream",
     "text": [
      "r(B)(Events/s) = 21.762226\n",
      "1.0\n",
      "723317\n",
      "360573\n",
      "2.006020972174844\n",
      "Success probability evts: 0.498499\n",
      "0.9993384254525771\n",
      "---------------------\n"
     ]
    },
    {
     "data": {
      "text/markdown": [
       "<span style=\"color: #af0000\">P(S) = 0.700464</span>"
      ],
      "text/plain": [
       "<IPython.core.display.Markdown object>"
      ]
     },
     "metadata": {},
     "output_type": "display_data"
    },
    {
     "data": {
      "text/markdown": [
       "<span style=\"color: #00af00\">P(N) = 0.000000</span>"
      ],
      "text/plain": [
       "<IPython.core.display.Markdown object>"
      ]
     },
     "metadata": {},
     "output_type": "display_data"
    },
    {
     "data": {
      "text/markdown": [
       "<span style=\"color: #0000af\">P(B) = 0.299536</span>"
      ],
      "text/plain": [
       "<IPython.core.display.Markdown object>"
      ]
     },
     "metadata": {},
     "output_type": "display_data"
    },
    {
     "name": "stdout",
     "output_type": "stream",
     "text": [
      "r(B)(Events/s) = 13.030432\n",
      "1.0\n",
      "527503\n",
      "360573\n",
      "1.4629575703116984\n",
      "Success probability evts: 0.683547\n",
      "0.9996295381575697\n",
      "---------------------\n"
     ]
    }
   ],
   "source": [
    "hist1,Eb1,Es1,En1,Ps1 = compute_histogram(raw1,raw2)\n",
    "print(1-hist1[0])\n",
    "print('---------------------')\n",
    "hist2,Eb2,Es2,En2,Ps2 = compute_histogram(raw3,raw4)\n",
    "print(1-hist2[0])\n",
    "print('---------------------')\n",
    "hist3,Eb3,Es3,En3,Ps3 = compute_histogram(raw5,raw6)\n",
    "print(1-hist3[0])\n",
    "print('---------------------')\n",
    "hist4,Eb4,Es4,En4,Ps4 = compute_histogram(raw7,raw8)\n",
    "print(1-hist4[0])\n",
    "print('---------------------')"
   ]
  },
  {
   "cell_type": "code",
   "execution_count": 5,
   "metadata": {},
   "outputs": [
    {
     "data": {
      "image/png": "[encoded data removed]",
      "text/plain": [
       "<Figure size 1440x720 with 1 Axes>"
      ]
     },
     "metadata": {
      "needs_background": "light"
     },
     "output_type": "display_data"
    }
   ],
   "source": [
    "pt.rcParams[\"figure.figsize\"] = (20,10)\n",
    "pt.plot(range(len(hist1)),hist1,label=\"P(succ)= %.3f\"%(100*Ps1))\n",
    "pt.plot(range(len(hist2)),hist2,label=\"P(succ)= %.3f\"%(100*Ps2))\n",
    "pt.plot(range(len(hist3)),hist3,label=\"P(succ)= %.3f\"%(100*Ps3))\n",
    "pt.plot(range(len(hist4)),hist4,label=\"P(succ)= %.3f\"%(100*Ps4))\n",
    "\n",
    "pt.legend()\n",
    "pt.axis([0,67,0,0.3])\n",
    "pt.xticks(range(67), [str(n) for n in range(67)])\n",
    "pt.xlabel(r'$\\mathcal{k}$', fontsize = 18)\n",
    "pt.ylabel(r'P(k-messages-received)')\n",
    "pt.savefig('test.svg',format='svg',dpi=300, bbox_inches='tight')\n",
    "pt.grid(True)\n",
    "pt.show()"
   ]
  },
  {
   "cell_type": "code",
   "execution_count": null,
   "metadata": {},
   "outputs": [],
   "source": []
  },
  {
   "cell_type": "code",
   "execution_count": null,
   "metadata": {},
   "outputs": [],
   "source": []
  }
 ],
 "metadata": {
  "kernelspec": {
   "display_name": "Python 3",
   "language": "python",
   "name": "python3"
  },
  "language_info": {
   "codemirror_mode": {
    "name": "ipython",
    "version": 3
   },
   "file_extension": ".py",
   "mimetype": "text/x-python",
   "name": "python",
   "nbconvert_exporter": "python",
   "pygments_lexer": "ipython3",
   "version": "3.7.4"
  }
 },
 "nbformat": 4,
 "nbformat_minor": 2
}
