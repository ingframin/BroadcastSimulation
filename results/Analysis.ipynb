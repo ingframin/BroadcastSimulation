{
 "cells": [
  {
   "cell_type": "code",
   "execution_count": 1,
   "metadata": {},
   "outputs": [],
   "source": [
    "from math import e, factorial,log, gamma, sqrt, floor\n",
    "from matplotlib import pyplot as pt\n",
    "from numpy.random import geometric,exponential,poisson\n",
    "from scipy.stats import ks_2samp\n",
    "from scipy.stats import norm\n",
    "from numpy import linspace\n",
    "from IPython.display import Markdown\n",
    "from analysis import *\n",
    "from threading import Thread"
   ]
  },
  {
   "cell_type": "code",
   "execution_count": null,
   "metadata": {},
   "outputs": [],
   "source": []
  },
  {
   "cell_type": "markdown",
   "metadata": {},
   "source": [
    "# Load data\n",
    "\n",
    "This is a comment\n"
   ]
  },
  {
   "cell_type": "code",
   "execution_count": 2,
   "metadata": {},
   "outputs": [],
   "source": [
    "f1 = open(\"r1-d0-result.txt\")\n",
    "raw1 = f1.read()\n",
    "f1.close()\n",
    "\n",
    "f2 = open(\"r1-d1-result.txt\")\n",
    "raw2 = f2.read()\n",
    "f2.close()\n",
    "\n",
    "f3 = open(\"r2-d0-result.txt\")\n",
    "raw3 = f3.read()\n",
    "f3.close()\n",
    "\n",
    "f4 = open(\"r2-d1-result.txt\")\n",
    "raw4 = f4.read()\n",
    "f4.close()\n",
    "\n",
    "f5 = open(\"r3-d0-result.txt\")\n",
    "raw5 = f5.read()\n",
    "f5.close()\n",
    "\n",
    "f6 = open(\"r3-d1-result.txt\")\n",
    "raw6 = f6.read()\n",
    "f6.close()\n",
    "\n",
    "f7 = open(\"r4-d0-result.txt\")\n",
    "raw7 = f7.read()\n",
    "f7.close()\n",
    "\n",
    "f8 = open(\"r4-d1-result.txt\")\n",
    "raw8 = f8.read()\n",
    "f8.close()\n",
    "\n",
    "f9 = open(\"r5-d0-result.txt\")\n",
    "raw9 = f9.read()\n",
    "f9.close()\n",
    "\n",
    "f10 = open(\"r5-d1-result.txt\")\n",
    "raw10 = f10.read()\n",
    "f10.close()\n",
    "\n",
    "f11 = open(\"r6-d0-result.txt\")\n",
    "raw11 = f11.read()\n",
    "f11.close()\n",
    "\n",
    "f12 = open(\"r6-d1-result.txt\")\n",
    "raw12 = f12.read()\n",
    "f12.close()\n",
    "\n",
    "\n",
    "f13 = open(\"r7-d0-result.txt\")\n",
    "raw13 = f13.read()\n",
    "f13.close()\n",
    "\n",
    "f14 = open(\"r7-d1-result.txt\")\n",
    "raw14 = f14.read()\n",
    "f14.close()\n",
    "\n",
    "\n",
    "f15 = open(\"r8-d0-result.txt\")\n",
    "raw15 = f15.read()\n",
    "f15.close()\n",
    "\n",
    "f16 = open(\"r8-d1-result.txt\")\n",
    "raw16 = f16.read()\n",
    "f16.close()\n",
    "\n"
   ]
  },
  {
   "cell_type": "code",
   "execution_count": 5,
   "metadata": {},
   "outputs": [],
   "source": [
    "Ttx = 30\n",
    "Trx = 60\n",
    "Tn = 100\n",
    "    \n",
    "def compute_histogram(r1,r2):\n",
    "\n",
    "    Eb1,Es1,En1 = computeEvents(r1,Ttx,Trx,Tn)\n",
    "    Eb2,Es2,En2 = computeEvents(r2,Ttx,Trx,Tn)\n",
    "    display(Markdown('<span style=\"color: #af0000\">'+\"P(S) = %.6f\"%(Trx*Es1/len(r1))+'</span>'))\n",
    "    display(Markdown('<span style=\"color: #00af00\">'+\"P(N) = %.6f\"%(Tn*En1/len(r1))+'</span>'))\n",
    "    display(Markdown('<span style=\"color: #0000af\">'+\"P(B) = %.6f\"%(Ttx*Eb1/len(r1))+'</span>'))\n",
    "\n",
    "    Pb2 = Eb2*Ttx/(Eb2*Ttx+En2*Tn+Es2*Trx)\n",
    "    rt1 = Pb2/(Ttx/1000)\n",
    "    \n",
    "    print(\"r(B)(Events/s) = %.6f\"%(rt1))\n",
    "    \n",
    "    hist1 = genWindowHistogram(r1,r2,1000)\n",
    "    Esuc = checkSuccess(r2,r1)\n",
    "    Ps=Esuc/Eb2\n",
    "    rs2 = Esuc*1000/len(r1)\n",
    "    print(\"r(Suuccess)(Events/s) = %.6f\"%rs2)\n",
    "    Pscan = Trx*Es1/len(r1)\n",
    "    r_scan = 1000*Pscan/Trx\n",
    "    print(\"r(S)(Events/s) = %.6f\"%r_scan)\n",
    "    Ns = Ps*1000/Ttx\n",
    "    Nb = rt1*1000\n",
    "    print(\"Success probability evts: %.6f\"%(Ps))\n",
    "    return hist1,Eb1,Es1,En1,Ps"
   ]
  },
  {
   "cell_type": "code",
   "execution_count": 6,
   "metadata": {
    "scrolled": false
   },
   "outputs": [
    {
     "data": {
      "text/markdown": [
       "<span style=\"color: #af0000\">P(S) = 0.200056</span>"
      ],
      "text/plain": [
       "<IPython.core.display.Markdown object>"
      ]
     },
     "metadata": {},
     "output_type": "display_data"
    },
    {
     "data": {
      "text/markdown": [
       "<span style=\"color: #00af00\">P(N) = 0.000000</span>"
      ],
      "text/plain": [
       "<IPython.core.display.Markdown object>"
      ]
     },
     "metadata": {},
     "output_type": "display_data"
    },
    {
     "data": {
      "text/markdown": [
       "<span style=\"color: #0000af\">P(B) = 0.799944</span>"
      ],
      "text/plain": [
       "<IPython.core.display.Markdown object>"
      ]
     },
     "metadata": {},
     "output_type": "display_data"
    },
    {
     "name": "stdout",
     "output_type": "stream",
     "text": [
      "r(B)(Events/s) = 26.663843\n",
      "1.0\n",
      "r(Suuccess)(Events/s) = 5.335051\n",
      "r(S)(Events/s) = 3.334270\n",
      "Success probability evts: 0.200082\n",
      "0.9695179754247865\n",
      "---------------------\n"
     ]
    },
    {
     "data": {
      "text/markdown": [
       "<span style=\"color: #af0000\">P(S) = 0.300227</span>"
      ],
      "text/plain": [
       "<IPython.core.display.Markdown object>"
      ]
     },
     "metadata": {},
     "output_type": "display_data"
    },
    {
     "data": {
      "text/markdown": [
       "<span style=\"color: #00af00\">P(N) = 0.000000</span>"
      ],
      "text/plain": [
       "<IPython.core.display.Markdown object>"
      ]
     },
     "metadata": {},
     "output_type": "display_data"
    },
    {
     "data": {
      "text/markdown": [
       "<span style=\"color: #0000af\">P(B) = 0.699773</span>"
      ],
      "text/plain": [
       "<IPython.core.display.Markdown object>"
      ]
     },
     "metadata": {},
     "output_type": "display_data"
    },
    {
     "name": "stdout",
     "output_type": "stream",
     "text": [
      "r(B)(Events/s) = 23.327207\n",
      "1.0000000000000002\n",
      "r(Suuccess)(Events/s) = 7.002876\n",
      "r(S)(Events/s) = 5.003790\n",
      "Success probability evts: 0.300210\n",
      "0.993991314176929\n",
      "---------------------\n"
     ]
    },
    {
     "data": {
      "text/markdown": [
       "<span style=\"color: #af0000\">P(S) = 0.400032</span>"
      ],
      "text/plain": [
       "<IPython.core.display.Markdown object>"
      ]
     },
     "metadata": {},
     "output_type": "display_data"
    },
    {
     "data": {
      "text/markdown": [
       "<span style=\"color: #00af00\">P(N) = 0.000000</span>"
      ],
      "text/plain": [
       "<IPython.core.display.Markdown object>"
      ]
     },
     "metadata": {},
     "output_type": "display_data"
    },
    {
     "data": {
      "text/markdown": [
       "<span style=\"color: #0000af\">P(B) = 0.599968</span>"
      ],
      "text/plain": [
       "<IPython.core.display.Markdown object>"
      ]
     },
     "metadata": {},
     "output_type": "display_data"
    },
    {
     "name": "stdout",
     "output_type": "stream",
     "text": [
      "r(B)(Events/s) = 20.001988\n",
      "0.9999999999999998\n",
      "r(Suuccess)(Events/s) = 8.000802\n",
      "r(S)(Events/s) = 6.667202\n",
      "Success probability evts: 0.400023\n",
      "0.9983760346445942\n",
      "---------------------\n"
     ]
    },
    {
     "data": {
      "text/markdown": [
       "<span style=\"color: #af0000\">P(S) = 0.500113</span>"
      ],
      "text/plain": [
       "<IPython.core.display.Markdown object>"
      ]
     },
     "metadata": {},
     "output_type": "display_data"
    },
    {
     "data": {
      "text/markdown": [
       "<span style=\"color: #00af00\">P(N) = 0.000000</span>"
      ],
      "text/plain": [
       "<IPython.core.display.Markdown object>"
      ]
     },
     "metadata": {},
     "output_type": "display_data"
    },
    {
     "data": {
      "text/markdown": [
       "<span style=\"color: #0000af\">P(B) = 0.499887</span>"
      ],
      "text/plain": [
       "<IPython.core.display.Markdown object>"
      ]
     },
     "metadata": {},
     "output_type": "display_data"
    },
    {
     "name": "stdout",
     "output_type": "stream",
     "text": [
      "r(B)(Events/s) = 16.655038\n",
      "1.0000000000000002\n",
      "r(Suuccess)(Events/s) = 8.331007\n",
      "r(S)(Events/s) = 8.335217\n",
      "Success probability evts: 0.500131\n",
      "0.999307553664591\n",
      "---------------------\n"
     ]
    },
    {
     "data": {
      "text/markdown": [
       "<span style=\"color: #af0000\">P(S) = 0.600018</span>"
      ],
      "text/plain": [
       "<IPython.core.display.Markdown object>"
      ]
     },
     "metadata": {},
     "output_type": "display_data"
    },
    {
     "data": {
      "text/markdown": [
       "<span style=\"color: #00af00\">P(N) = 0.000000</span>"
      ],
      "text/plain": [
       "<IPython.core.display.Markdown object>"
      ]
     },
     "metadata": {},
     "output_type": "display_data"
    },
    {
     "data": {
      "text/markdown": [
       "<span style=\"color: #0000af\">P(B) = 0.399982</span>"
      ],
      "text/plain": [
       "<IPython.core.display.Markdown object>"
      ]
     },
     "metadata": {},
     "output_type": "display_data"
    },
    {
     "name": "stdout",
     "output_type": "stream",
     "text": [
      "r(B)(Events/s) = 13.332162\n",
      "1.0000000000000002\n",
      "r(Suuccess)(Events/s) = 7.997433\n",
      "r(S)(Events/s) = 10.000298\n",
      "Success probability evts: 0.599853\n",
      "0.9994470071889066\n",
      "---------------------\n"
     ]
    },
    {
     "data": {
      "text/markdown": [
       "<span style=\"color: #af0000\">P(S) = 0.699890</span>"
      ],
      "text/plain": [
       "<IPython.core.display.Markdown object>"
      ]
     },
     "metadata": {},
     "output_type": "display_data"
    },
    {
     "data": {
      "text/markdown": [
       "<span style=\"color: #00af00\">P(N) = 0.000000</span>"
      ],
      "text/plain": [
       "<IPython.core.display.Markdown object>"
      ]
     },
     "metadata": {},
     "output_type": "display_data"
    },
    {
     "data": {
      "text/markdown": [
       "<span style=\"color: #0000af\">P(B) = 0.300110</span>"
      ],
      "text/plain": [
       "<IPython.core.display.Markdown object>"
      ]
     },
     "metadata": {},
     "output_type": "display_data"
    },
    {
     "name": "stdout",
     "output_type": "stream",
     "text": [
      "r(B)(Events/s) = 9.998936\n",
      "0.9999999999999999\n",
      "r(Suuccess)(Events/s) = 6.997623\n",
      "r(S)(Events/s) = 11.664835\n",
      "Success probability evts: 0.699760\n",
      "0.9988732394366198\n",
      "---------------------\n"
     ]
    },
    {
     "data": {
      "text/markdown": [
       "<span style=\"color: #af0000\">P(S) = 0.800022</span>"
      ],
      "text/plain": [
       "<IPython.core.display.Markdown object>"
      ]
     },
     "metadata": {},
     "output_type": "display_data"
    },
    {
     "data": {
      "text/markdown": [
       "<span style=\"color: #00af00\">P(N) = 0.000000</span>"
      ],
      "text/plain": [
       "<IPython.core.display.Markdown object>"
      ]
     },
     "metadata": {},
     "output_type": "display_data"
    },
    {
     "data": {
      "text/markdown": [
       "<span style=\"color: #0000af\">P(B) = 0.199978</span>"
      ],
      "text/plain": [
       "<IPython.core.display.Markdown object>"
      ]
     },
     "metadata": {},
     "output_type": "display_data"
    },
    {
     "name": "stdout",
     "output_type": "stream",
     "text": [
      "r(B)(Events/s) = 6.661598\n",
      "1.0\n",
      "r(Suuccess)(Events/s) = 5.325909\n",
      "r(S)(Events/s) = 13.333696\n",
      "Success probability evts: 0.799407\n",
      "0.9949421011579769\n",
      "---------------------\n"
     ]
    },
    {
     "data": {
      "text/markdown": [
       "<span style=\"color: #af0000\">P(S) = 0.900028</span>"
      ],
      "text/plain": [
       "<IPython.core.display.Markdown object>"
      ]
     },
     "metadata": {},
     "output_type": "display_data"
    },
    {
     "data": {
      "text/markdown": [
       "<span style=\"color: #00af00\">P(N) = 0.000000</span>"
      ],
      "text/plain": [
       "<IPython.core.display.Markdown object>"
      ]
     },
     "metadata": {},
     "output_type": "display_data"
    },
    {
     "data": {
      "text/markdown": [
       "<span style=\"color: #0000af\">P(B) = 0.099972</span>"
      ],
      "text/plain": [
       "<IPython.core.display.Markdown object>"
      ]
     },
     "metadata": {},
     "output_type": "display_data"
    },
    {
     "name": "stdout",
     "output_type": "stream",
     "text": [
      "r(B)(Events/s) = 3.333104\n",
      "1.0\n",
      "r(Suuccess)(Events/s) = 2.998490\n",
      "r(S)(Events/s) = 15.000471\n",
      "Success probability evts: 0.899626\n",
      "0.9500393239579151\n",
      "---------------------\n"
     ]
    }
   ],
   "source": [
    "hist1,Eb1,Es1,En1,Ps1 = compute_histogram(raw1,raw2)\n",
    "print(1-hist1[0])\n",
    "print('---------------------')\n",
    "hist2,Eb2,Es2,En2,Ps2 = compute_histogram(raw3,raw4)\n",
    "print(1-hist2[0])\n",
    "print('---------------------')\n",
    "hist3,Eb3,Es3,En3,Ps3 = compute_histogram(raw5,raw6)\n",
    "print(1-hist3[0])\n",
    "print('---------------------')\n",
    "hist4,Eb4,Es4,En4,Ps4 = compute_histogram(raw7,raw8)\n",
    "print(1-hist4[0])\n",
    "print('---------------------')\n",
    "hist5,Eb5,Es5,En5,Ps5 = compute_histogram(raw9,raw10)\n",
    "print(1-hist5[0])\n",
    "print('---------------------')\n",
    "hist6,Eb6,Es6,En6,Ps6 = compute_histogram(raw11,raw12)\n",
    "print(1-hist6[0])\n",
    "print('---------------------')\n",
    "hist7,Eb7,Es7,En7,Ps7 = compute_histogram(raw13,raw14)\n",
    "print(1-hist7[0])\n",
    "print('---------------------')\n",
    "hist8,Eb8,Es8,En8,Ps8 = compute_histogram(raw15,raw16)\n",
    "print(1-hist8[0])\n",
    "print('---------------------')"
   ]
  },
  {
   "cell_type": "code",
   "execution_count": 7,
   "metadata": {},
   "outputs": [
    {
     "data": {
      "image/png": "[encoded data removed]",
      "text/plain": [
       "<Figure size 1440x720 with 1 Axes>"
      ]
     },
     "metadata": {
      "needs_background": "light"
     },
     "output_type": "display_data"
    }
   ],
   "source": [
    "pt.rcParams[\"figure.figsize\"] = (20,10)\n",
    "pt.plot(range(len(hist1)),hist1,label=\"P(succ)= %.3f\"%(100*Ps1))\n",
    "#pt.plot(range(len(hist2)),hist2,label=\"P(succ)= %.3f\"%(100*Ps2))\n",
    "#pt.plot(range(len(hist3)),hist3,label=\"P(succ)= %.3f\"%(100*Ps3))\n",
    "pt.plot(range(len(hist4)),hist4,label=\"P(succ)= %.3f\"%(100*Ps4))\n",
    "#pt.plot(range(len(hist5)),hist5,label=\"P(succ)= %.3f\"%(100*Ps5))\n",
    "#pt.plot(range(len(hist6)),hist6,label=\"P(succ)= %.3f\"%(100*Ps6))\n",
    "pt.plot(range(len(hist7)),hist7,label=\"P(succ)= %.3f\"%(100*Ps7))\n",
    "#pt.plot(range(len(hist8)),hist8,label=\"P(succ)= %.3f\"%(100*Ps8))\n",
    "pt.legend()\n",
    "pt.axis([0,30,0,0.25])\n",
    "pt.xticks(range(30), [str(n) for n in range(30)])\n",
    "pt.xlabel(r'$\\mathcal{k}$', fontsize = 18)\n",
    "pt.ylabel(r'P(k-messages-received)')\n",
    "pt.savefig('test.svg',format='svg',dpi=300, bbox_inches='tight')\n",
    "pt.grid(True)\n",
    "pt.show()"
   ]
  },
  {
   "cell_type": "code",
   "execution_count": null,
   "metadata": {},
   "outputs": [],
   "source": []
  },
  {
   "cell_type": "code",
   "execution_count": null,
   "metadata": {},
   "outputs": [],
   "source": []
  }
 ],
 "metadata": {
  "kernelspec": {
   "display_name": "Python 3",
   "language": "python",
   "name": "python3"
  },
  "language_info": {
   "codemirror_mode": {
    "name": "ipython",
    "version": 3
   },
   "file_extension": ".py",
   "mimetype": "text/x-python",
   "name": "python",
   "nbconvert_exporter": "python",
   "pygments_lexer": "ipython3",
   "version": "3.7.3"
  }
 },
 "nbformat": 4,
 "nbformat_minor": 2
}
