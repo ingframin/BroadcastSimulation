{
 "cells": [
  {
   "cell_type": "code",
   "execution_count": 1,
   "metadata": {},
   "outputs": [],
   "source": [
    "from math import e, factorial,log, gamma, sqrt, floor\n",
    "from matplotlib import pyplot as pt\n",
    "from numpy.random import geometric,exponential,poisson\n",
    "from scipy.stats import ks_2samp\n",
    "from scipy.stats import norm\n",
    "from numpy import linspace\n",
    "from IPython.display import Markdown\n",
    "from analysis import *"
   ]
  },
  {
   "cell_type": "markdown",
   "metadata": {},
   "source": [
    "# Load data"
   ]
  },
  {
   "cell_type": "code",
   "execution_count": 2,
   "metadata": {},
   "outputs": [],
   "source": [
    "f1 = open(\"r1-d0-result.txt\")\n",
    "raw1 = f1.read()\n",
    "f1.close()\n",
    "\n",
    "f2 = open(\"r1-d1-result.txt\")\n",
    "raw2 = f2.read()\n",
    "f2.close()\n",
    "\n",
    "f3 = open(\"r5-d0-result.txt\")\n",
    "raw3 = f3.read()\n",
    "f3.close()\n",
    "\n",
    "f4 = open(\"r5-d1-result.txt\")\n",
    "raw4 = f4.read()\n",
    "f4.close()\n",
    "\n",
    "f5 = open(\"r9-d0-result.txt\")\n",
    "raw5 = f5.read()\n",
    "f5.close()\n",
    "\n",
    "f6 = open(\"r9-d1-result.txt\")\n",
    "raw6 = f6.read()\n",
    "f6.close()\n",
    "\n",
    "f7 = open(\"r47-d0-result.txt\")\n",
    "raw7 = f7.read()\n",
    "f5.close()\n",
    "\n",
    "f8 = open(\"r47-d1-result.txt\")\n",
    "raw8 = f8.read()\n",
    "f8.close()"
   ]
  },
  {
   "cell_type": "code",
   "execution_count": 3,
   "metadata": {},
   "outputs": [],
   "source": [
    "Ttx = 1\n",
    "Trx = 10\n",
    "Tn = 1\n",
    "    \n",
    "def compute_histogram(r1,r2):\n",
    "\n",
    "    Eb,Es,En = computeEvents(r1,Ttx,Trx,Tn)\n",
    "\n",
    "    display(Markdown('<span style=\"color: #af0000\">'+\"P(S) = %.6f\"%(Trx*Es/len(r1))+'</span>'))\n",
    "    display(Markdown('<span style=\"color: #00af00\">'+\"P(N) = %.6f\"%(Tn*En/len(r1))+'</span>'))\n",
    "    display(Markdown('<span style=\"color: #0000af\">'+\"P(B) = %.6f\"%(Ttx*Eb/len(r1))+'</span>'))\n",
    "\n",
    "    l1 = 1000*Eb / (len(r1))\n",
    "\n",
    "    rt = Trx*Eb/len(r1)\n",
    "\n",
    "    print(\"r(B)(Events/s) = %.6f\"%(l1))\n",
    "    print(\"rt = %.6f\"%(rt))\n",
    "\n",
    "    Cb1 = countBroadcast(r2,r1,Trx,Ttx)\n",
    "\n",
    "    hist1 = buildHistogram(Cb1,Trx,Ttx)\n",
    "\n",
    "    print(\"Success probability= %.6f\"%sum(hist1[1:]))\n",
    "    return hist1,rt,Eb,Es,En"
   ]
  },
  {
   "cell_type": "code",
   "execution_count": 4,
   "metadata": {},
   "outputs": [
    {
     "data": {
      "text/markdown": [
       "<span style=\"color: #af0000\">P(S) = 0.847538</span>"
      ],
      "text/plain": [
       "<IPython.core.display.Markdown object>"
      ]
     },
     "metadata": {},
     "output_type": "display_data"
    },
    {
     "data": {
      "text/markdown": [
       "<span style=\"color: #00af00\">P(N) = 0.000000</span>"
      ],
      "text/plain": [
       "<IPython.core.display.Markdown object>"
      ]
     },
     "metadata": {},
     "output_type": "display_data"
    },
    {
     "data": {
      "text/markdown": [
       "<span style=\"color: #0000af\">P(B) = 0.152461</span>"
      ],
      "text/plain": [
       "<IPython.core.display.Markdown object>"
      ]
     },
     "metadata": {},
     "output_type": "display_data"
    },
    {
     "name": "stdout",
     "output_type": "stream",
     "text": [
      "r(B)(Events/s) = 152.461050\n",
      "rt = 1.524611\n",
      "Success probability= 0.838758\n",
      "---------------------\n"
     ]
    },
    {
     "data": {
      "text/markdown": [
       "<span style=\"color: #af0000\">P(S) = 0.909004</span>"
      ],
      "text/plain": [
       "<IPython.core.display.Markdown object>"
      ]
     },
     "metadata": {},
     "output_type": "display_data"
    },
    {
     "data": {
      "text/markdown": [
       "<span style=\"color: #00af00\">P(N) = 0.000000</span>"
      ],
      "text/plain": [
       "<IPython.core.display.Markdown object>"
      ]
     },
     "metadata": {},
     "output_type": "display_data"
    },
    {
     "data": {
      "text/markdown": [
       "<span style=\"color: #0000af\">P(B) = 0.090995</span>"
      ],
      "text/plain": [
       "<IPython.core.display.Markdown object>"
      ]
     },
     "metadata": {},
     "output_type": "display_data"
    },
    {
     "name": "stdout",
     "output_type": "stream",
     "text": [
      "r(B)(Events/s) = 90.995450\n",
      "rt = 0.909954\n",
      "Success probability= 0.499495\n",
      "---------------------\n"
     ]
    },
    {
     "data": {
      "text/markdown": [
       "<span style=\"color: #af0000\">P(S) = 0.980378</span>"
      ],
      "text/plain": [
       "<IPython.core.display.Markdown object>"
      ]
     },
     "metadata": {},
     "output_type": "display_data"
    },
    {
     "data": {
      "text/markdown": [
       "<span style=\"color: #00af00\">P(N) = 0.000000</span>"
      ],
      "text/plain": [
       "<IPython.core.display.Markdown object>"
      ]
     },
     "metadata": {},
     "output_type": "display_data"
    },
    {
     "data": {
      "text/markdown": [
       "<span style=\"color: #0000af\">P(B) = 0.019622</span>"
      ],
      "text/plain": [
       "<IPython.core.display.Markdown object>"
      ]
     },
     "metadata": {},
     "output_type": "display_data"
    },
    {
     "name": "stdout",
     "output_type": "stream",
     "text": [
      "r(B)(Events/s) = 19.622250\n",
      "rt = 0.196222\n",
      "Success probability= 0.108117\n",
      "---------------------\n"
     ]
    },
    {
     "data": {
      "text/markdown": [
       "<span style=\"color: #af0000\">P(S) = 0.980448</span>"
      ],
      "text/plain": [
       "<IPython.core.display.Markdown object>"
      ]
     },
     "metadata": {},
     "output_type": "display_data"
    },
    {
     "data": {
      "text/markdown": [
       "<span style=\"color: #00af00\">P(N) = 0.000000</span>"
      ],
      "text/plain": [
       "<IPython.core.display.Markdown object>"
      ]
     },
     "metadata": {},
     "output_type": "display_data"
    },
    {
     "data": {
      "text/markdown": [
       "<span style=\"color: #0000af\">P(B) = 0.019552</span>"
      ],
      "text/plain": [
       "<IPython.core.display.Markdown object>"
      ]
     },
     "metadata": {},
     "output_type": "display_data"
    },
    {
     "name": "stdout",
     "output_type": "stream",
     "text": [
      "r(B)(Events/s) = 19.551550\n",
      "rt = 0.195516\n",
      "Success probability= 0.166808\n",
      "---------------------\n"
     ]
    }
   ],
   "source": [
    "hist1,rt1,Eb1,Es1,En1 = compute_histogram(raw1,raw2)\n",
    "print('---------------------')\n",
    "hist2,rt2,Eb2,Es2,En2 = compute_histogram(raw3,raw4)\n",
    "print('---------------------')\n",
    "hist3,rt3,Eb3,Es3,En3 = compute_histogram(raw5,raw6)\n",
    "print('---------------------')\n",
    "hist4,rt4,Eb4,Es4,En4 = compute_histogram(raw7,raw8)\n",
    "print('---------------------')\n",
    "\n",
    "geom_d1 = geom_dist(hist1[0],len(hist1))\n",
    "geom_d2 = geom_dist(hist2[0],len(hist2))\n",
    "geom_d3 = geom_dist(hist3[0],len(hist3))"
   ]
  },
  {
   "cell_type": "code",
   "execution_count": 5,
   "metadata": {},
   "outputs": [
    {
     "name": "stdout",
     "output_type": "stream",
     "text": [
      "RMSE Poisson= 0.033248\n",
      "0.1612416427092921\n",
      "RMSE Geom= 0.079433\n",
      "---------------------\n",
      "RMSE Poisson= 0.032006\n",
      "0.5005046729586993\n",
      "RMSE Geom= 0.005485\n",
      "---------------------\n",
      "RMSE Poisson= 0.028008\n",
      "0.8918830287494429\n",
      "RMSE Geom= 0.009625\n"
     ]
    }
   ],
   "source": [
    "def check_distribution(hist,rt):\n",
    "    rvd = poisson_dist(rt,len(hist1))\n",
    "    print(\"RMSE Poisson= %.6f\"%rmse(rvd,hist)) \n",
    "    geom_d = geom_dist(hist[0],len(hist))\n",
    "    print(hist[0])\n",
    "    print(\"RMSE Geom= %.6f\"%rmse(geom_d,hist))\n",
    "    \n",
    "check_distribution(hist1, rt1)\n",
    "print('---------------------')\n",
    "check_distribution(hist2, rt2)\n",
    "print('---------------------')\n",
    "check_distribution(hist3, rt3)"
   ]
  },
  {
   "cell_type": "code",
   "execution_count": 6,
   "metadata": {},
   "outputs": [
    {
     "data": {
      "image/png": "[encoded data removed]",
      "text/plain": [
       "<Figure size 1440x720 with 1 Axes>"
      ]
     },
     "metadata": {
      "needs_background": "light"
     },
     "output_type": "display_data"
    }
   ],
   "source": [
    "pt.rcParams[\"figure.figsize\"] = (20,10)\n",
    "#pt.plot(range(len(hist1)),hist1,label=\"P(Rx)= %.3f,T(B)/T(Total)= %.2f%%\"%(sum(hist1[1:]),100*Ttx*Eb1/len(raw1)))\n",
    "#pt.plot(range(len(hist2)),hist2,label=\"P(Rx)= %.3f,T(B)/T(Total)= %.2f%%\"%(sum(hist2[1:]),100*Ttx*Eb2/len(raw2)))\n",
    "pt.plot(range(len(hist3)),hist3,label=\"P(Rx)= %.3f,T(B)/T(Total)= %.2f%%\"%(sum(hist3[1:]),100*Ttx*Eb3/len(raw3)))\n",
    "pt.plot(range(len(hist4)),hist4,label=\"P(Rx)= %.3f,T(B)/T(Total)= %.2f%%\"%(sum(hist4[1:]),100*Ttx*Eb4/len(raw4)))\n",
    "pt.legend()\n",
    "pt.axis([0,len(hist1),0,1])\n",
    "pt.xticks(range(len(hist1)), [str(n/10) for n in range(len(hist1))])\n",
    "pt.xlabel(r'$\\mathcal{k}$', fontsize = 18)\n",
    "pt.ylabel(r'P(k-messages-received)')\n",
    "pt.grid(True)\n",
    "pt.show()"
   ]
  },
  {
   "cell_type": "code",
   "execution_count": null,
   "metadata": {},
   "outputs": [],
   "source": []
  }
 ],
 "metadata": {
  "kernelspec": {
   "display_name": "Python 3",
   "language": "python",
   "name": "python3"
  },
  "language_info": {
   "codemirror_mode": {
    "name": "ipython",
    "version": 3
   },
   "file_extension": ".py",
   "mimetype": "text/x-python",
   "name": "python",
   "nbconvert_exporter": "python",
   "pygments_lexer": "ipython3",
   "version": "3.6.2"
  }
 },
 "nbformat": 4,
 "nbformat_minor": 2
}
