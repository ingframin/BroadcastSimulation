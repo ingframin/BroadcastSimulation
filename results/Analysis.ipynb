{
 "cells": [
  {
   "cell_type": "code",
   "execution_count": 1,
   "metadata": {},
   "outputs": [],
   "source": [
    "from math import e, factorial,log, gamma, sqrt, floor\n",
    "from matplotlib import pyplot as pt\n",
    "from numpy.random import geometric, poisson, exponential\n",
    "from scipy.stats import ks_2samp\n",
    "from scipy.stats import norm,poisson\n",
    "from numpy import linspace\n",
    "from IPython.display import Markdown"
   ]
  },
  {
   "cell_type": "markdown",
   "metadata": {},
   "source": [
    "## Utility functions"
   ]
  },
  {
   "cell_type": "code",
   "execution_count": 2,
   "metadata": {},
   "outputs": [],
   "source": [
    "def computeEvents(V, ttx, trx, tn):\n",
    "    Eb = 0\n",
    "    Es = 0\n",
    "    En = 0\n",
    "\n",
    "    for c in V:\n",
    "        if c == 'B':\n",
    "            Eb += 1\n",
    "        elif c == 'S':\n",
    "            Es += 1\n",
    "        else:\n",
    "            En += 1\n",
    "    \n",
    "    return (Eb/ttx,Es/trx,En/tn)\n",
    "\n",
    "def countSuccessT1(V1,V2):\n",
    "    Cb = []\n",
    "    i = 0\n",
    "    for b,s in zip(V1,V2):\n",
    "        if b =='B' and s =='S':\n",
    "            Cb.append(i)\n",
    "        i+=1\n",
    "    return Cb\n",
    "\n",
    "def countBroadcast(V1,V2,Trx,Ttx):\n",
    "    indexes = []\n",
    "    i = 0\n",
    "    Cb = {}\n",
    "    while i<len(V2):\n",
    "        if V2[i] == 'S':\n",
    "            indexes.append(i)\n",
    "            i += Trx\n",
    "\n",
    "        else:\n",
    "            i+=1\n",
    "    for ind in indexes:\n",
    "        Cb[ind] = 0\n",
    "        for j in range(ind,ind+Trx):\n",
    "            if j >= len(V1):\n",
    "                break\n",
    "            if V1[j] == 'B':\n",
    "                Cb[ind] += 1\n",
    "        Cb[ind] = floor(Cb[ind]/Ttx)\n",
    "    \n",
    "    return Cb\n",
    "\n",
    "def buildHistogram(Cb,Trx,Ttx):\n",
    "    hist = [0 for x in range(int(2*Trx/Ttx))]\n",
    "    n = 1/len(Cb)\n",
    "    for k in Cb:\n",
    "        try:\n",
    "            hist[round(Cb[k])] += n\n",
    "        except:\n",
    "            print(round(Cb[k]))\n",
    "    return hist\n",
    "\n",
    "def buildHistogramV(V, l = 0):\n",
    "    hist = None\n",
    "    if l:\n",
    "        hist = [0 for x in range(l)]\n",
    "    else:\n",
    "        hist = [0 for x in range(len(V))]\n",
    "\n",
    "    for k in V:\n",
    "        try:\n",
    "            hist[k] += 1\n",
    "        except:\n",
    "            break\n",
    "        \n",
    "    return hist\n",
    "\n",
    "def rmse(v1,v2):\n",
    "    rmse = 0\n",
    "    for x1,x2 in zip(v1,v2):\n",
    "        rmse += (x1-x2)**2\n",
    "    return sqrt(rmse/len(v1))"
   ]
  },
  {
   "cell_type": "markdown",
   "metadata": {},
   "source": [
    "## Probability mass functions \n",
    "- Geometric \n",
    "- Poisson \n",
    "- Exponential\n"
   ]
  },
  {
   "cell_type": "code",
   "execution_count": 3,
   "metadata": {},
   "outputs": [],
   "source": [
    "def geom_pmf(p,maxK):\n",
    "    return [p*(1-p)**k for k in range(0,maxK)]\n",
    "\n",
    "def poisson_pmf(lam,maxK):\n",
    "    return [e**(k*log(lam)-(lam)-log(gamma((k+1)))) for k in range(0,maxK)]\n",
    "\n",
    "def exponential_pmf(lam, maxK):\n",
    "    return [lam*(e**(-lam*k)) for k in range(0,maxK)]\n"
   ]
  },
  {
   "cell_type": "markdown",
   "metadata": {},
   "source": [
    "# Load data"
   ]
  },
  {
   "cell_type": "code",
   "execution_count": 4,
   "metadata": {},
   "outputs": [],
   "source": [
    "f1 = open(\"r5-d0-result.txt\")\n",
    "raw1 = f1.read()\n",
    "f1.close()\n",
    "\n",
    "f2 = open(\"r5-d1-result.txt\")\n",
    "raw2 = f2.read()\n",
    "f2.close()"
   ]
  },
  {
   "cell_type": "code",
   "execution_count": 5,
   "metadata": {},
   "outputs": [
    {
     "data": {
      "text/markdown": [
       "<span style=\"color: #af0000\">P(S) = 0.939021</span>"
      ],
      "text/plain": [
       "<IPython.core.display.Markdown object>"
      ]
     },
     "metadata": {},
     "output_type": "display_data"
    },
    {
     "data": {
      "text/markdown": [
       "<span style=\"color: #00af00\">P(N) = 0.000000</span>"
      ],
      "text/plain": [
       "<IPython.core.display.Markdown object>"
      ]
     },
     "metadata": {},
     "output_type": "display_data"
    },
    {
     "data": {
      "text/markdown": [
       "<span style=\"color: #0000af\">P(B) = 0.060979</span>"
      ],
      "text/plain": [
       "<IPython.core.display.Markdown object>"
      ]
     },
     "metadata": {},
     "output_type": "display_data"
    },
    {
     "name": "stdout",
     "output_type": "stream",
     "text": [
      "r(B)(Events/s) = 60.979200\n",
      "rt = 0.365875\n",
      "Success probability= 0.274183\n"
     ]
    }
   ],
   "source": [
    "\n",
    "Eb = 0\n",
    "Es = 0\n",
    "En = 0\n",
    "\n",
    "Ttx = 1\n",
    "Trx = 6\n",
    "Tn = 1\n",
    "\n",
    "Eb,Es,En = computeEvents(raw1,Ttx,Trx,Tn)\n",
    "\n",
    "display(Markdown('<span style=\"color: #af0000\">'+\"P(S) = %.6f\"%(Trx*Es/len(raw1))+'</span>'))\n",
    "display(Markdown('<span style=\"color: #00af00\">'+\"P(N) = %.6f\"%(Tn*En/len(raw1))+'</span>'))\n",
    "display(Markdown('<span style=\"color: #0000af\">'+\"P(B) = %.6f\"%(Ttx*Eb/len(raw1))+'</span>'))\n",
    "\n",
    "\n",
    "l1 = 1000*Eb / (len(raw1))\n",
    "\n",
    "t = Trx/1000\n",
    "rt = l1*t\n",
    "\n",
    "print(\"r(B)(Events/s) = %.6f\"%(l1))\n",
    "print(\"rt = %.6f\"%(l1*t))\n",
    "\n",
    "Cb1 = countBroadcast(raw2,raw1,Trx,Ttx)\n",
    "\n",
    "hist1 = buildHistogram(Cb1,Trx,Ttx)\n",
    "\n",
    "print(\"Success probability= %.6f\"%sum(hist1[1:]))"
   ]
  },
  {
   "cell_type": "code",
   "execution_count": 6,
   "metadata": {},
   "outputs": [
    {
     "name": "stdout",
     "output_type": "stream",
     "text": [
      "RMSE Poisson= 0.029950\n",
      "RMSE Poisson= 0.029950\n",
      "RMSE Geom= 0.001872\n"
     ]
    }
   ],
   "source": [
    "pois_d = poisson_pmf(hist1[1],len(hist1))\n",
    "print(\"RMSE Poisson= %.6f\"%rmse(pois_d,hist1)) \n",
    "rv = poisson(hist1[1])\n",
    "rvd = rv.pmf(range(len(hist1)))\n",
    "print(\"RMSE Poisson= %.6f\"%rmse(rvd,hist1)) \n",
    "geom_d = geom_pmf(hist1[0],len(hist1))\n",
    "print(\"RMSE Geom= %.6f\"%rmse(geom_d,hist1))"
   ]
  },
  {
   "cell_type": "code",
   "execution_count": 7,
   "metadata": {},
   "outputs": [
    {
     "data": {
      "image/png": "[encoded data removed]",
      "text/plain": [
       "<Figure size 1440x720 with 1 Axes>"
      ]
     },
     "metadata": {
      "needs_background": "light"
     },
     "output_type": "display_data"
    }
   ],
   "source": [
    "pt.rcParams[\"figure.figsize\"] = (20,10)\n",
    "pt.plot(range(len(hist1)),geom_d,label='Geometric')\n",
    "pt.plot(range(len(hist1)),rvd,label='Poisson')\n",
    "pt.bar(range(len(hist1)),hist1,label=\"P(Rx)= %.3f,T(B)/T(Total)= %.2f%%\"%(sum(hist1[1:]),100*Ttx*Eb/len(raw1)))\n",
    "pt.legend()\n",
    "pt.axis([0,len(hist1),0,1.0])\n",
    "pt.xticks(range(len(hist1)), [str(int(n)) for n in range(len(hist1))])\n",
    "pt.xlabel(r'$\\mathcal{k}$', fontsize = 18)\n",
    "pt.ylabel(r'P(k-messages-received)')\n",
    "pt.grid(True)\n",
    "pt.show()"
   ]
  },
  {
   "cell_type": "code",
   "execution_count": 8,
   "metadata": {},
   "outputs": [
    {
     "data": {
      "text/markdown": [
       "<span style=\"color: #9a0000\">P(S) = 0.769488</span>"
      ],
      "text/plain": [
       "<IPython.core.display.Markdown object>"
      ]
     },
     "metadata": {},
     "output_type": "display_data"
    },
    {
     "data": {
      "text/markdown": [
       "<span style=\"color: #009a00\">P(N) = 0.000000</span>"
      ],
      "text/plain": [
       "<IPython.core.display.Markdown object>"
      ]
     },
     "metadata": {},
     "output_type": "display_data"
    },
    {
     "data": {
      "text/markdown": [
       "<span style=\"color: #00009a\">P(B) = 0.230512</span>"
      ],
      "text/plain": [
       "<IPython.core.display.Markdown object>"
      ]
     },
     "metadata": {},
     "output_type": "display_data"
    },
    {
     "data": {
      "text/markdown": [
       "<span style=\"color: #9a0000\">P(S) = 0.785896</span>"
      ],
      "text/plain": [
       "<IPython.core.display.Markdown object>"
      ]
     },
     "metadata": {},
     "output_type": "display_data"
    },
    {
     "data": {
      "text/markdown": [
       "<span style=\"color: #009a00\">P(N) = 0.000000</span>"
      ],
      "text/plain": [
       "<IPython.core.display.Markdown object>"
      ]
     },
     "metadata": {},
     "output_type": "display_data"
    },
    {
     "data": {
      "text/markdown": [
       "<span style=\"color: #00009a\">P(B) = 0.214104</span>"
      ],
      "text/plain": [
       "<IPython.core.display.Markdown object>"
      ]
     },
     "metadata": {},
     "output_type": "display_data"
    },
    {
     "data": {
      "text/markdown": [
       "<span style=\"color: #9a0000\">P(S) = 0.800039</span>"
      ],
      "text/plain": [
       "<IPython.core.display.Markdown object>"
      ]
     },
     "metadata": {},
     "output_type": "display_data"
    },
    {
     "data": {
      "text/markdown": [
       "<span style=\"color: #009a00\">P(N) = 0.000000</span>"
      ],
      "text/plain": [
       "<IPython.core.display.Markdown object>"
      ]
     },
     "metadata": {},
     "output_type": "display_data"
    },
    {
     "data": {
      "text/markdown": [
       "<span style=\"color: #00009a\">P(B) = 0.199961</span>"
      ],
      "text/plain": [
       "<IPython.core.display.Markdown object>"
      ]
     },
     "metadata": {},
     "output_type": "display_data"
    },
    {
     "data": {
      "text/markdown": [
       "<span style=\"color: #9a0000\">P(S) = 0.812307</span>"
      ],
      "text/plain": [
       "<IPython.core.display.Markdown object>"
      ]
     },
     "metadata": {},
     "output_type": "display_data"
    },
    {
     "data": {
      "text/markdown": [
       "<span style=\"color: #009a00\">P(N) = 0.000001</span>"
      ],
      "text/plain": [
       "<IPython.core.display.Markdown object>"
      ]
     },
     "metadata": {},
     "output_type": "display_data"
    },
    {
     "data": {
      "text/markdown": [
       "<span style=\"color: #00009a\">P(B) = 0.187693</span>"
      ],
      "text/plain": [
       "<IPython.core.display.Markdown object>"
      ]
     },
     "metadata": {},
     "output_type": "display_data"
    },
    {
     "data": {
      "text/markdown": [
       "<span style=\"color: #9a0000\">P(S) = 0.823277</span>"
      ],
      "text/plain": [
       "<IPython.core.display.Markdown object>"
      ]
     },
     "metadata": {},
     "output_type": "display_data"
    },
    {
     "data": {
      "text/markdown": [
       "<span style=\"color: #009a00\">P(N) = 0.000000</span>"
      ],
      "text/plain": [
       "<IPython.core.display.Markdown object>"
      ]
     },
     "metadata": {},
     "output_type": "display_data"
    },
    {
     "data": {
      "text/markdown": [
       "<span style=\"color: #00009a\">P(B) = 0.176723</span>"
      ],
      "text/plain": [
       "<IPython.core.display.Markdown object>"
      ]
     },
     "metadata": {},
     "output_type": "display_data"
    },
    {
     "data": {
      "text/markdown": [
       "<span style=\"color: #9a0000\">P(S) = 0.833623</span>"
      ],
      "text/plain": [
       "<IPython.core.display.Markdown object>"
      ]
     },
     "metadata": {},
     "output_type": "display_data"
    },
    {
     "data": {
      "text/markdown": [
       "<span style=\"color: #009a00\">P(N) = 0.000000</span>"
      ],
      "text/plain": [
       "<IPython.core.display.Markdown object>"
      ]
     },
     "metadata": {},
     "output_type": "display_data"
    },
    {
     "data": {
      "text/markdown": [
       "<span style=\"color: #00009a\">P(B) = 0.166377</span>"
      ],
      "text/plain": [
       "<IPython.core.display.Markdown object>"
      ]
     },
     "metadata": {},
     "output_type": "display_data"
    },
    {
     "data": {
      "text/markdown": [
       "<span style=\"color: #9a0000\">P(S) = 0.842036</span>"
      ],
      "text/plain": [
       "<IPython.core.display.Markdown object>"
      ]
     },
     "metadata": {},
     "output_type": "display_data"
    },
    {
     "data": {
      "text/markdown": [
       "<span style=\"color: #009a00\">P(N) = 0.000000</span>"
      ],
      "text/plain": [
       "<IPython.core.display.Markdown object>"
      ]
     },
     "metadata": {},
     "output_type": "display_data"
    },
    {
     "data": {
      "text/markdown": [
       "<span style=\"color: #00009a\">P(B) = 0.157964</span>"
      ],
      "text/plain": [
       "<IPython.core.display.Markdown object>"
      ]
     },
     "metadata": {},
     "output_type": "display_data"
    },
    {
     "data": {
      "text/markdown": [
       "<span style=\"color: #9a0000\">P(S) = 0.849947</span>"
      ],
      "text/plain": [
       "<IPython.core.display.Markdown object>"
      ]
     },
     "metadata": {},
     "output_type": "display_data"
    },
    {
     "data": {
      "text/markdown": [
       "<span style=\"color: #009a00\">P(N) = 0.000001</span>"
      ],
      "text/plain": [
       "<IPython.core.display.Markdown object>"
      ]
     },
     "metadata": {},
     "output_type": "display_data"
    },
    {
     "data": {
      "text/markdown": [
       "<span style=\"color: #00009a\">P(B) = 0.150052</span>"
      ],
      "text/plain": [
       "<IPython.core.display.Markdown object>"
      ]
     },
     "metadata": {},
     "output_type": "display_data"
    },
    {
     "data": {
      "text/markdown": [
       "<span style=\"color: #9a0000\">P(S) = 0.857324</span>"
      ],
      "text/plain": [
       "<IPython.core.display.Markdown object>"
      ]
     },
     "metadata": {},
     "output_type": "display_data"
    },
    {
     "data": {
      "text/markdown": [
       "<span style=\"color: #009a00\">P(N) = 0.000000</span>"
      ],
      "text/plain": [
       "<IPython.core.display.Markdown object>"
      ]
     },
     "metadata": {},
     "output_type": "display_data"
    },
    {
     "data": {
      "text/markdown": [
       "<span style=\"color: #00009a\">P(B) = 0.142676</span>"
      ],
      "text/plain": [
       "<IPython.core.display.Markdown object>"
      ]
     },
     "metadata": {},
     "output_type": "display_data"
    },
    {
     "data": {
      "text/markdown": [
       "<span style=\"color: #9a0000\">P(S) = 0.863767</span>"
      ],
      "text/plain": [
       "<IPython.core.display.Markdown object>"
      ]
     },
     "metadata": {},
     "output_type": "display_data"
    },
    {
     "data": {
      "text/markdown": [
       "<span style=\"color: #009a00\">P(N) = 0.000001</span>"
      ],
      "text/plain": [
       "<IPython.core.display.Markdown object>"
      ]
     },
     "metadata": {},
     "output_type": "display_data"
    },
    {
     "data": {
      "text/markdown": [
       "<span style=\"color: #00009a\">P(B) = 0.136232</span>"
      ],
      "text/plain": [
       "<IPython.core.display.Markdown object>"
      ]
     },
     "metadata": {},
     "output_type": "display_data"
    },
    {
     "data": {
      "image/png": "[encoded data removed]",
      "text/plain": [
       "<Figure size 1440x720 with 1 Axes>"
      ]
     },
     "metadata": {
      "needs_background": "light"
     },
     "output_type": "display_data"
    }
   ],
   "source": [
    "for i in range(10,20):\n",
    "    f1 = open(\"r%d-d0-result.txt\"%i)\n",
    "    raw1 = f1.read()\n",
    "    f1.close()\n",
    "    f2 = open(\"r%d-d1-result.txt\"%i)\n",
    "    raw2 = f2.read()\n",
    "    f2.close()\n",
    "    Ttx = 1\n",
    "    Trx = i\n",
    "    Tn = 1\n",
    "\n",
    "    Eb,Es,En = computeEvents(raw1,Ttx,Trx,Tn)\n",
    "    display(Markdown('<span style=\"color: #9a0000\">'+\"P(S) = %.6f\"%(Trx*Es/len(raw1))+'</span>'))\n",
    "    display(Markdown('<span style=\"color: #009a00\">'+\"P(N) = %.6f\"%(Tn*En/len(raw1))+'</span>'))\n",
    "    display(Markdown('<span style=\"color: #00009a\">'+\"P(B) = %.6f\"%(Ttx*Eb/len(raw1))+'</span>'))\n",
    "\n",
    "    Cb1 = countBroadcast(raw2,raw1,Trx,Ttx)\n",
    "\n",
    "    hist1 = buildHistogram(Cb1,Trx,Ttx)\n",
    "    pt.rcParams[\"figure.figsize\"] = (20,10)\n",
    "    pt.plot(range(len(hist1)),hist1,label='Trx= %d'%i)\n",
    "    \n",
    "pt.show()\n",
    "    "
   ]
  },
  {
   "cell_type": "code",
   "execution_count": null,
   "metadata": {},
   "outputs": [],
   "source": []
  }
 ],
 "metadata": {
  "kernelspec": {
   "display_name": "Python 3",
   "language": "python",
   "name": "python3"
  },
  "language_info": {
   "codemirror_mode": {
    "name": "ipython",
    "version": 3
   },
   "file_extension": ".py",
   "mimetype": "text/x-python",
   "name": "python",
   "nbconvert_exporter": "python",
   "pygments_lexer": "ipython3",
   "version": "3.6.2"
  }
 },
 "nbformat": 4,
 "nbformat_minor": 2
}
