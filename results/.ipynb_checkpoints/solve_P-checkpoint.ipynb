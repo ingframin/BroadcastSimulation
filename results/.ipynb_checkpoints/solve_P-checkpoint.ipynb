{
 "cells": [
  {
   "cell_type": "code",
   "execution_count": 14,
   "metadata": {},
   "outputs": [
    {
     "name": "stdout",
     "output_type": "stream",
     "text": [
      "0.2242798375963616\n",
      "0.13462776779767843\n",
      "0.6410923946059599\n"
     ]
    }
   ],
   "source": [
    "from scipy.optimize import fsolve\n",
    "Trx = 60\n",
    "Ttx = 21\n",
    "Tn = 100\n",
    "\n",
    "def equations(p):\n",
    "    x, y, z = p\n",
    "    return (Trx*x/(Trx*x+Ttx*z +Tn*y), Tn*y/(Trx*x+Ttx*z +Tn*y),Ttx*z/(Trx*x+Ttx*z+Tn*y))\n",
    "\n",
    "x, y, z =  fsolve(equations, (100,100 ,100))\n",
    "print(x/(x+y+z))\n",
    "print(y/(x+y+z))\n",
    "print(z/(x+y+z))"
   ]
  },
  {
   "cell_type": "code",
   "execution_count": null,
   "metadata": {},
   "outputs": [],
   "source": []
  }
 ],
 "metadata": {
  "kernelspec": {
   "display_name": "Python 3",
   "language": "python",
   "name": "python3"
  },
  "language_info": {
   "codemirror_mode": {
    "name": "ipython",
    "version": 3
   },
   "file_extension": ".py",
   "mimetype": "text/x-python",
   "name": "python",
   "nbconvert_exporter": "python",
   "pygments_lexer": "ipython3",
   "version": "3.7.4"
  }
 },
 "nbformat": 4,
 "nbformat_minor": 2
}
