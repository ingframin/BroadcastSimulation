{
 "cells": [
  {
   "cell_type": "code",
   "execution_count": 1,
   "metadata": {},
   "outputs": [],
   "source": [
    "from math import e, factorial,log, gamma, sqrt, floor\n",
    "from matplotlib import pyplot as pt\n",
    "from numpy.random import geometric,exponential,poisson\n",
    "from scipy.stats import ks_2samp\n",
    "from scipy.stats import norm\n",
    "from numpy import linspace\n",
    "from IPython.display import Markdown\n",
    "from analysis import *"
   ]
  },
  {
   "cell_type": "code",
   "execution_count": 2,
   "metadata": {},
   "outputs": [],
   "source": [
    "f1 = open(\"r1-d0-result.txt\")\n",
    "raw1 = f1.read()\n",
    "f1.close()\n",
    "\n",
    "f2 = open(\"r1-d1-result.txt\")\n",
    "raw2 = f2.read()\n",
    "f2.close()\n",
    "\n",
    "f3 = open(\"r1-d2-result.txt\")\n",
    "raw3 = f3.read()\n",
    "f3.close()\n",
    "\n",
    "f4 = open(\"r1-d3-result.txt\")\n",
    "raw4 = f4.read()\n",
    "f4.close()\n",
    "\n",
    "f5 = open(\"r1-d4-result.txt\")\n",
    "raw5 = f5.read()\n",
    "f5.close()\n",
    "\n",
    "f6 = open(\"r1-d5-result.txt\")\n",
    "raw6 = f6.read()\n",
    "f6.close()\n",
    "\n",
    "f7 = open(\"r1-d6-result.txt\")\n",
    "raw7 = f7.read()\n",
    "f7.close()\n",
    "\n",
    "f8 = open(\"r1-d7-result.txt\")\n",
    "raw8 = f8.read()\n",
    "f8.close()"
   ]
  },
  {
   "cell_type": "code",
   "execution_count": 6,
   "metadata": {},
   "outputs": [],
   "source": [
    "Ttx = 15\n",
    "Trx = 60\n",
    "Tn = 100\n",
    "    \n",
    "def compute_histogram(r1,r2):\n",
    "\n",
    "    Eb,Es,En = computeEvents(r1,Ttx,Trx,Tn)\n",
    "    print(En)\n",
    "    display(Markdown('<span style=\"color: #af0000\">'+\"P(S) = %.6f\"%(Trx*Es/len(r1))+'</span>'))\n",
    "    display(Markdown('<span style=\"color: #00af00\">'+\"P(N) = %.6f\"%(Tn*En/len(r1))+'</span>'))\n",
    "    display(Markdown('<span style=\"color: #0000af\">'+\"P(B) = %.6f\"%(Ttx*Eb/len(r1))+'</span>'))\n",
    "\n",
    "    l1 = 1000*Eb / (len(r1))\n",
    "\n",
    "    print(\"r(B)(Events/s) = %.6f\"%(l1))\n",
    "    \n",
    "    hist1 = genWindowHistogram(r1,r2,1000,Eb)\n",
    "    Ps = checkSuccess(r2,r1)[0]/Eb\n",
    "    print(\"Success probability evts: %.6f\"%(Ps))\n",
    "    return hist1,Eb,Es,En,Ps"
   ]
  },
  {
   "cell_type": "code",
   "execution_count": 7,
   "metadata": {},
   "outputs": [
    {
     "name": "stdout",
     "output_type": "stream",
     "text": [
      "0.0\n"
     ]
    },
    {
     "data": {
      "text/markdown": [
       "<span style=\"color: #af0000\">P(S) = 0.099999</span>"
      ],
      "text/plain": [
       "<IPython.core.display.Markdown object>"
      ]
     },
     "metadata": {},
     "output_type": "display_data"
    },
    {
     "data": {
      "text/markdown": [
       "<span style=\"color: #00af00\">P(N) = 0.000000</span>"
      ],
      "text/plain": [
       "<IPython.core.display.Markdown object>"
      ]
     },
     "metadata": {},
     "output_type": "display_data"
    },
    {
     "data": {
      "text/markdown": [
       "<span style=\"color: #0000af\">P(B) = 0.900001</span>"
      ],
      "text/plain": [
       "<IPython.core.display.Markdown object>"
      ]
     },
     "metadata": {},
     "output_type": "display_data"
    },
    {
     "name": "stdout",
     "output_type": "stream",
     "text": [
      "r(B)(Events/s) = 60.000052\n",
      "0.9999999999999999\n",
      "Success probability evts: 0.100038\n",
      "---------------------\n",
      "0.0\n"
     ]
    },
    {
     "data": {
      "text/markdown": [
       "<span style=\"color: #af0000\">P(S) = 0.099847</span>"
      ],
      "text/plain": [
       "<IPython.core.display.Markdown object>"
      ]
     },
     "metadata": {},
     "output_type": "display_data"
    },
    {
     "data": {
      "text/markdown": [
       "<span style=\"color: #00af00\">P(N) = 0.000000</span>"
      ],
      "text/plain": [
       "<IPython.core.display.Markdown object>"
      ]
     },
     "metadata": {},
     "output_type": "display_data"
    },
    {
     "data": {
      "text/markdown": [
       "<span style=\"color: #0000af\">P(B) = 0.900153</span>"
      ],
      "text/plain": [
       "<IPython.core.display.Markdown object>"
      ]
     },
     "metadata": {},
     "output_type": "display_data"
    },
    {
     "name": "stdout",
     "output_type": "stream",
     "text": [
      "r(B)(Events/s) = 60.010184\n",
      "0.9999999999999999\n",
      "Success probability evts: 0.099806\n",
      "---------------------\n",
      "0.0\n"
     ]
    },
    {
     "data": {
      "text/markdown": [
       "<span style=\"color: #af0000\">P(S) = 0.099959</span>"
      ],
      "text/plain": [
       "<IPython.core.display.Markdown object>"
      ]
     },
     "metadata": {},
     "output_type": "display_data"
    },
    {
     "data": {
      "text/markdown": [
       "<span style=\"color: #00af00\">P(N) = 0.000000</span>"
      ],
      "text/plain": [
       "<IPython.core.display.Markdown object>"
      ]
     },
     "metadata": {},
     "output_type": "display_data"
    },
    {
     "data": {
      "text/markdown": [
       "<span style=\"color: #0000af\">P(B) = 0.900041</span>"
      ],
      "text/plain": [
       "<IPython.core.display.Markdown object>"
      ]
     },
     "metadata": {},
     "output_type": "display_data"
    },
    {
     "name": "stdout",
     "output_type": "stream",
     "text": [
      "r(B)(Events/s) = 60.002744\n",
      "1.0\n",
      "Success probability evts: 0.100001\n",
      "---------------------\n",
      "0.0\n"
     ]
    },
    {
     "data": {
      "text/markdown": [
       "<span style=\"color: #af0000\">P(S) = 0.099897</span>"
      ],
      "text/plain": [
       "<IPython.core.display.Markdown object>"
      ]
     },
     "metadata": {},
     "output_type": "display_data"
    },
    {
     "data": {
      "text/markdown": [
       "<span style=\"color: #00af00\">P(N) = 0.000000</span>"
      ],
      "text/plain": [
       "<IPython.core.display.Markdown object>"
      ]
     },
     "metadata": {},
     "output_type": "display_data"
    },
    {
     "data": {
      "text/markdown": [
       "<span style=\"color: #0000af\">P(B) = 0.900103</span>"
      ],
      "text/plain": [
       "<IPython.core.display.Markdown object>"
      ]
     },
     "metadata": {},
     "output_type": "display_data"
    },
    {
     "name": "stdout",
     "output_type": "stream",
     "text": [
      "r(B)(Events/s) = 60.006852\n",
      "1.0\n",
      "Success probability evts: 0.099840\n",
      "---------------------\n"
     ]
    }
   ],
   "source": [
    "hist1,Eb1,Es1,En1,Ps1 = compute_histogram(raw1,raw2)\n",
    "print('---------------------')\n",
    "hist2,Eb2,Es2,En2,Ps2 = compute_histogram(raw3,raw4)\n",
    "print('---------------------')\n",
    "hist3,Eb3,Es3,En3,Ps3 = compute_histogram(raw5,raw6)\n",
    "print('---------------------')\n",
    "hist4,Eb4,Es4,En4,Ps4 = compute_histogram(raw7,raw8)\n",
    "print('---------------------')\n",
    "hist_final = []\n",
    "for i in range(len(hist1)):\n",
    "    v = (hist1[i]+hist2[i]+hist3[i]+hist4[i])/4\n",
    "    hist_final.append(v)"
   ]
  },
  {
   "cell_type": "code",
   "execution_count": 9,
   "metadata": {},
   "outputs": [
    {
     "data": {
      "image/png": "[encoded data removed]",
      "text/plain": [
       "<Figure size 1440x720 with 1 Axes>"
      ]
     },
     "metadata": {
      "needs_background": "light"
     },
     "output_type": "display_data"
    }
   ],
   "source": [
    "pt.rcParams[\"figure.figsize\"] = (20,10)\n",
    "pt.plot(range(len(hist1)),hist_final,label=\"P(Rx)= %.3f\"%(100*Ps1))\n",
    "pt.legend()\n",
    "pt.axis([0,67,0,0.3])\n",
    "pt.xticks(range(67), [str(n) for n in range(67)])\n",
    "pt.xlabel(r'$\\mathcal{k}$', fontsize = 18)\n",
    "pt.ylabel(r'P(k-messages-received)')\n",
    "\n",
    "pt.grid(True)\n",
    "pt.show()"
   ]
  },
  {
   "cell_type": "code",
   "execution_count": null,
   "metadata": {},
   "outputs": [],
   "source": []
  }
 ],
 "metadata": {
  "kernelspec": {
   "display_name": "Python 3",
   "language": "python",
   "name": "python3"
  },
  "language_info": {
   "codemirror_mode": {
    "name": "ipython",
    "version": 3
   },
   "file_extension": ".py",
   "mimetype": "text/x-python",
   "name": "python",
   "nbconvert_exporter": "python",
   "pygments_lexer": "ipython3",
   "version": "3.7.4"
  }
 },
 "nbformat": 4,
 "nbformat_minor": 2
}
