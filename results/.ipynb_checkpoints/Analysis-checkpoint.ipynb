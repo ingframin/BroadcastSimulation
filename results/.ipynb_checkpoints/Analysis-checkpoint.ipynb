{
 "cells": [
  {
   "cell_type": "code",
   "execution_count": 1,
   "metadata": {},
   "outputs": [],
   "source": [
    "from math import e, factorial,log, gamma, sqrt, floor\n",
    "from matplotlib import pyplot as pt\n",
    "from numpy.random import geometric,exponential,poisson\n",
    "from scipy.stats import ks_2samp\n",
    "from scipy.stats import norm\n",
    "from numpy import linspace\n",
    "from IPython.display import Markdown\n",
    "from analysis import *\n",
    "from threading import Thread\n",
    "from timestamp import *\n",
    "import re\n",
    "import numpy as np\n",
    "import tikzplotlib"
   ]
  },
  {
   "cell_type": "code",
   "execution_count": 2,
   "metadata": {},
   "outputs": [],
   "source": [
    "pt.rcParams[\"figure.figsize\"] = (20,10)"
   ]
  },
  {
   "cell_type": "markdown",
   "metadata": {},
   "source": [
    "# Load data\n",
    "\n",
    "This is a comment\n"
   ]
  },
  {
   "cell_type": "code",
   "execution_count": null,
   "metadata": {},
   "outputs": [],
   "source": []
  },
  {
   "cell_type": "markdown",
   "metadata": {},
   "source": [
    "MSG = re.compile(r'D[0-9]+-.*\\*')\n",
    "SENT = re.compile(r'[0-9]+:[0-9]+:[0-9]+\\.[0-9]+')\n",
    "\n",
    "def save(filename,data):\n",
    "    with open(filename,'w') as fn:\n",
    "        for d in data:\n",
    "            print(d,file=fn)\n",
    "            \n",
    "def read_file(filename):\n",
    "    with open(filename) as f:\n",
    "        raw = f.readlines()\n",
    "        return raw\n",
    "    \n",
    "def cleanup(line):\n",
    "    return line.replace('(','').replace(\"'\",\"\").replace(')','').replace('b','').replace('\\\\t',',').replace('\\\\r\\\\n','').replace('\"','').strip()\n",
    "    \n",
    "def read_data(raw):\n",
    "    \n",
    "    rec = []\n",
    "    \n",
    "    for line in raw:\n",
    "        clean = cleanup(line)\n",
    "        \n",
    "        ssid = MSG.findall(clean)\n",
    "        \n",
    "        if len(ssid) > 0:\n",
    "                                \n",
    "            try:\n",
    "                ls = clean.split(',')\n",
    "                ts = TimeStamp(ls[0])\n",
    "                ssid_str = ssid[0][1:18]\n",
    "                rssi = int(ls[2][5:])\n",
    "                rec.append((ts,ssid_str,rssi))\n",
    "            except:\n",
    "                print(clean)\n",
    "                \n",
    "                \n",
    "    return rec\n",
    "\n",
    "def get_sent(lines):\n",
    "    \n",
    "    sent = []\n",
    "    for line in lines:\n",
    "        if 'sent' in line:\n",
    "            clean = cleanup(line)\n",
    "            ls = clean.split(',')\n",
    "            s = ls[2].replace('*','').replace('sent:','').strip()\n",
    "            sent.append((ls[0],s))\n",
    "    return sent\n",
    "\n",
    "def sent_frequency(sent):\n",
    "    t0 = TimeStamp(sent[0][0]).toSeconds()\n",
    "    t1 = TimeStamp(sent[-1][0]).toSeconds()\n",
    "    return len(sent)/(t1-t0)\n",
    "\n",
    "def compute_ttx(raw):\n",
    "\n",
    "    diff = []\n",
    "  \n",
    "    for line in raw:\n",
    "        \n",
    "        if 'dur' in line and 's-' not in line:\n",
    "            clean = cleanup(line)\n",
    "            ls = clean.split(',')\n",
    "            s = ls[1].split(':')[1]\n",
    "            d = float(s)\n",
    "            diff.append(d)\n",
    "            \n",
    "    return diff\n",
    "\n",
    "def compute_trx(raw):\n",
    "\n",
    "    diff = []\n",
    "  \n",
    "    for line in raw:\n",
    "        \n",
    "        if 's-dur' in line:\n",
    "            clean = cleanup(line)\n",
    "            ls = clean.split(',')\n",
    "            s = ls[1].split(':')[1]\n",
    "            d = float(s)\n",
    "            diff.append(d)\n",
    "            \n",
    "    return diff\n",
    "\n",
    "def scan_frequency(raw):\n",
    "   \n",
    "    scans = []\n",
    "  \n",
    "    for line in raw:\n",
    "        if 'S' in line:\n",
    "            clean = cleanup(line)\n",
    "            ls = clean.split(',')\n",
    "            scans.append(ls[0])\n",
    "    t0 = TimeStamp(scans[0]).toSeconds()\n",
    "    t1 = TimeStamp(scans[-1]).toSeconds()\n",
    "    return len(scans)/(t1-t0)\n",
    "\n",
    "\n",
    "def analysis(res1,res2,n1,n2):\n",
    "    rec = read_data(res2)\n",
    "    \n",
    "    tr = Thread(target=save,args=('received-%s.txt'%n2,rec))\n",
    "    tr.start()\n",
    "    sent = get_sent(res1)\n",
    "    \n",
    "    tr2 = Thread(target=save,args=('sent-%s.txt'%n1,sent))\n",
    "    tr2.start()\n",
    "      \n",
    "    sent_set = set([s[1] for s in sent])\n",
    "    rec_set = set([r[1].replace('*','') for r in rec])\n",
    "    received = len(rec_set.intersection(sent_set))\n",
    "    t0 = rec[0][0].toSeconds()\n",
    "    t1 = rec[-1][0].toSeconds()\n",
    "    \n",
    "    print('Reception rate: ',len(rec)/(t1-t0))\n",
    "    \n",
    "    print('Success: %.6f%%'%(100*received/len(sent)))\n",
    "\n",
    "    print('Transmission rate [msg/s]:', sent_frequency(sent))\n",
    "\n",
    "            \n",
    "    wnd = {}\n",
    "    wnd[0] = []\n",
    "    tref = rec[0][0].toSeconds()\n",
    "    i = 0\n",
    "    for r in rec:\n",
    "        if r[0].toSeconds() - tref < 1:\n",
    "            wnd[i].append(r)\n",
    "        else:\n",
    "            tref = r[0].toSeconds()\n",
    "            i += 1\n",
    "            wnd[i] = []\n",
    "    hist = []\n",
    "    for w in wnd:\n",
    "        hist.append(len(wnd[w]))\n",
    "    tr.join()\n",
    "    tr2.join()\n",
    "    return hist\n",
    "\n",
    "    \n",
    "res1 = read_file('res-1.txt')\n",
    "res2 = read_file('res-2.txt')\n",
    "\n",
    "h1 = analysis(res1,res2,'res-1','res-2')\n",
    "h2 = analysis(res2,res1,'res2','res-1')\n",
    "    \n",
    "diff1 = compute_ttx(res1)\n",
    "diff2 = compute_ttx(res2)\n",
    "diff_r1 = compute_trx(res1)\n",
    "diff_r2 = compute_trx(res2)\n",
    "B = 0\n",
    "S = 0\n",
    "for line in res1:\n",
    "    if '>' in line:\n",
    "        B+=1\n",
    "    if 'S' in line:\n",
    "        S+=1\n",
    "Btime = B*np.average(diff1)/1000\n",
    "Stime = S*np.average(diff_r1)/1000\n",
    "print('B1(%): ',100*Btime/(Btime+Stime))\n",
    "print('S1(%): ',100*Stime/(Btime+Stime))\n",
    "\n",
    "B = 0\n",
    "S = 0\n",
    "for line in res2:\n",
    "    if '>' in line:\n",
    "        B+=1\n",
    "    if 'S' in line:\n",
    "        S+=1\n",
    "Btime = B*np.average(diff2)/1000\n",
    "Stime = S*np.average(diff_r2)/1000\n",
    "print('B2(%): ',100*Btime/(Btime+Stime))\n",
    "print('S2(%): ',100*Stime/(Btime+Stime))\n",
    "\n",
    "#plt.hist(h1,bins=20,density=True,histtype='bar')\n",
    "#plt.hist(h2,density=True,histtype='step')\n",
    "#plt.show()"
   ]
  },
  {
   "cell_type": "code",
   "execution_count": 9,
   "metadata": {
    "scrolled": false
   },
   "outputs": [
    {
     "data": {
      "text/markdown": [
       "<span style=\"color: #af0000\">P(S) = 0.500026</span>"
      ],
      "text/plain": [
       "<IPython.core.display.Markdown object>"
      ]
     },
     "metadata": {},
     "output_type": "display_data"
    },
    {
     "data": {
      "text/markdown": [
       "<span style=\"color: #00af00\">P(N) = 0.000000</span>"
      ],
      "text/plain": [
       "<IPython.core.display.Markdown object>"
      ]
     },
     "metadata": {},
     "output_type": "display_data"
    },
    {
     "data": {
      "text/markdown": [
       "<span style=\"color: #0000af\">P(B) = 0.499974</span>"
      ],
      "text/plain": [
       "<IPython.core.display.Markdown object>"
      ]
     },
     "metadata": {},
     "output_type": "display_data"
    },
    {
     "name": "stdout",
     "output_type": "stream",
     "text": [
      "r(B)(Events/s) = 16.675313\n",
      "1.0000000000000002\n",
      "r(Suuccess)(Events/s) = 8.335040\n",
      "r(S)(Events/s) = 16.667527\n",
      "Success probability evts: 0.499843\n"
     ]
    },
    {
     "ename": "KeyboardInterrupt",
     "evalue": "",
     "output_type": "error",
     "traceback": [
      "\u001b[1;31m---------------------------------------------------------------------------\u001b[0m",
      "\u001b[1;31mKeyboardInterrupt\u001b[0m                         Traceback (most recent call last)",
      "\u001b[1;32m<ipython-input-9-e80092ea0604>\u001b[0m in \u001b[0;36m<module>\u001b[1;34m\u001b[0m\n\u001b[0;32m     12\u001b[0m     \u001b[0mf2\u001b[0m\u001b[1;33m.\u001b[0m\u001b[0mclose\u001b[0m\u001b[1;33m(\u001b[0m\u001b[1;33m)\u001b[0m\u001b[1;33m\u001b[0m\u001b[1;33m\u001b[0m\u001b[0m\n\u001b[0;32m     13\u001b[0m \u001b[1;33m\u001b[0m\u001b[0m\n\u001b[1;32m---> 14\u001b[1;33m     \u001b[0mhist\u001b[0m\u001b[1;33m,\u001b[0m\u001b[0mEb\u001b[0m\u001b[1;33m,\u001b[0m\u001b[0mEs\u001b[0m\u001b[1;33m,\u001b[0m\u001b[0mEn\u001b[0m\u001b[1;33m,\u001b[0m\u001b[0mPs\u001b[0m \u001b[1;33m=\u001b[0m \u001b[0mcompute_histogram\u001b[0m\u001b[1;33m(\u001b[0m\u001b[0mraw1\u001b[0m\u001b[1;33m,\u001b[0m\u001b[0mraw2\u001b[0m\u001b[1;33m,\u001b[0m\u001b[0mTrx\u001b[0m\u001b[1;33m=\u001b[0m\u001b[1;33m(\u001b[0m\u001b[0mi\u001b[0m\u001b[1;33m*\u001b[0m\u001b[1;36m10\u001b[0m\u001b[1;33m+\u001b[0m\u001b[1;36m20\u001b[0m\u001b[1;33m)\u001b[0m\u001b[1;33m)\u001b[0m\u001b[1;33m\u001b[0m\u001b[1;33m\u001b[0m\u001b[0m\n\u001b[0m\u001b[0;32m     15\u001b[0m     \u001b[0ml\u001b[0m \u001b[1;33m=\u001b[0m \u001b[1;34m\"$T_{S}=%d ms$\"\u001b[0m\u001b[1;33m%\u001b[0m\u001b[1;33m(\u001b[0m\u001b[0mi\u001b[0m\u001b[1;33m*\u001b[0m\u001b[1;36m10\u001b[0m\u001b[1;33m+\u001b[0m\u001b[1;36m20\u001b[0m\u001b[1;33m)\u001b[0m\u001b[1;33m\u001b[0m\u001b[1;33m\u001b[0m\u001b[0m\n\u001b[0;32m     16\u001b[0m \u001b[1;33m\u001b[0m\u001b[0m\n",
      "\u001b[1;32mD:\\BroadcastSimulation\\results\\analysis.py\u001b[0m in \u001b[0;36mcompute_histogram\u001b[1;34m(r1, r2, Trx, Ttx, Tn)\u001b[0m\n\u001b[0;32m    115\u001b[0m \u001b[1;32mdef\u001b[0m \u001b[0mcompute_histogram\u001b[0m\u001b[1;33m(\u001b[0m\u001b[0mr1\u001b[0m\u001b[1;33m,\u001b[0m \u001b[0mr2\u001b[0m\u001b[1;33m,\u001b[0m \u001b[0mTrx\u001b[0m\u001b[1;33m=\u001b[0m\u001b[1;36m60\u001b[0m\u001b[1;33m,\u001b[0m \u001b[0mTtx\u001b[0m\u001b[1;33m=\u001b[0m\u001b[1;36m30\u001b[0m\u001b[1;33m,\u001b[0m \u001b[0mTn\u001b[0m\u001b[1;33m=\u001b[0m\u001b[1;36m100\u001b[0m\u001b[1;33m)\u001b[0m\u001b[1;33m:\u001b[0m\u001b[1;33m\u001b[0m\u001b[1;33m\u001b[0m\u001b[0m\n\u001b[0;32m    116\u001b[0m \u001b[1;33m\u001b[0m\u001b[0m\n\u001b[1;32m--> 117\u001b[1;33m     \u001b[0mEb1\u001b[0m\u001b[1;33m,\u001b[0m \u001b[0mEs1\u001b[0m\u001b[1;33m,\u001b[0m \u001b[0mEn1\u001b[0m \u001b[1;33m=\u001b[0m \u001b[0mcomputeEvents\u001b[0m\u001b[1;33m(\u001b[0m\u001b[0mr1\u001b[0m\u001b[1;33m,\u001b[0m \u001b[0mTtx\u001b[0m\u001b[1;33m,\u001b[0m \u001b[0mTrx\u001b[0m\u001b[1;33m,\u001b[0m \u001b[0mTn\u001b[0m\u001b[1;33m)\u001b[0m\u001b[1;33m\u001b[0m\u001b[1;33m\u001b[0m\u001b[0m\n\u001b[0m\u001b[0;32m    118\u001b[0m     \u001b[0mEb2\u001b[0m\u001b[1;33m,\u001b[0m \u001b[0mEs2\u001b[0m\u001b[1;33m,\u001b[0m \u001b[0mEn2\u001b[0m \u001b[1;33m=\u001b[0m \u001b[0mcomputeEvents\u001b[0m\u001b[1;33m(\u001b[0m\u001b[0mr2\u001b[0m\u001b[1;33m,\u001b[0m \u001b[0mTtx\u001b[0m\u001b[1;33m,\u001b[0m \u001b[0mTrx\u001b[0m\u001b[1;33m,\u001b[0m \u001b[0mTn\u001b[0m\u001b[1;33m)\u001b[0m\u001b[1;33m\u001b[0m\u001b[1;33m\u001b[0m\u001b[0m\n\u001b[0;32m    119\u001b[0m     display(Markdown('<span style=\"color: #af0000\">' +\n",
      "\u001b[1;32mD:\\BroadcastSimulation\\results\\analysis.py\u001b[0m in \u001b[0;36mcomputeEvents\u001b[1;34m(V, ttx, trx, tn)\u001b[0m\n\u001b[0;32m     18\u001b[0m             \u001b[0mEb\u001b[0m \u001b[1;33m+=\u001b[0m \u001b[1;36m1\u001b[0m\u001b[1;33m\u001b[0m\u001b[1;33m\u001b[0m\u001b[0m\n\u001b[0;32m     19\u001b[0m         \u001b[1;32melif\u001b[0m \u001b[0mc\u001b[0m \u001b[1;33m==\u001b[0m \u001b[1;34m'S'\u001b[0m\u001b[1;33m:\u001b[0m\u001b[1;33m\u001b[0m\u001b[1;33m\u001b[0m\u001b[0m\n\u001b[1;32m---> 20\u001b[1;33m             \u001b[0mEs\u001b[0m \u001b[1;33m+=\u001b[0m \u001b[1;36m1\u001b[0m\u001b[1;33m\u001b[0m\u001b[1;33m\u001b[0m\u001b[0m\n\u001b[0m\u001b[0;32m     21\u001b[0m         \u001b[1;32melif\u001b[0m \u001b[0mc\u001b[0m \u001b[1;33m==\u001b[0m \u001b[1;34m'N'\u001b[0m\u001b[1;33m:\u001b[0m\u001b[1;33m\u001b[0m\u001b[1;33m\u001b[0m\u001b[0m\n\u001b[0;32m     22\u001b[0m             \u001b[0mEn\u001b[0m \u001b[1;33m+=\u001b[0m \u001b[1;36m1\u001b[0m\u001b[1;33m\u001b[0m\u001b[1;33m\u001b[0m\u001b[0m\n",
      "\u001b[1;31mKeyboardInterrupt\u001b[0m: "
     ]
    },
    {
     "data": {
      "image/png": "[encoded data removed]",
      "text/plain": [
       "<Figure size 1440x720 with 1 Axes>"
      ]
     },
     "metadata": {
      "needs_background": "light"
     },
     "output_type": "display_data"
    }
   ],
   "source": [
    "markers = ['D','o','*','v','X','s','H']\n",
    "\n",
    "for i in range(1,8):\n",
    "    if i not in [1,4,7]:\n",
    "        continue\n",
    "    f1 = open(\"r%d-d0-result.txt\"%i)\n",
    "    raw1 = f1.read()\n",
    "    f1.close()\n",
    "\n",
    "    f2 = open(\"r%d-d1-result.txt\"%i)\n",
    "    raw2 = f2.read()\n",
    "    f2.close()\n",
    "\n",
    "    hist,Eb,Es,En,Ps = compute_histogram(raw1,raw2,Trx=(i*10+20))\n",
    "    l = \"$T_{S}=%d ms$\"%(i*10+20)\n",
    "    \n",
    "    pt.plot(range(len(hist)),hist,'-'+markers[i-1],markersize=30,label=l)\n",
    "    with open('test-%d.txt'%i,'w') as f:\n",
    "        for l,k in zip(range(len(hist)),hist):\n",
    "            print('%.6f\\t%.6f',file=f)\n",
    "    \n",
    "def pois(l,k):\n",
    "    v = []\n",
    "    for x in range(k):\n",
    "        p = (l**x)*exp(-l)/factorial(x)\n",
    "        v.append(p)\n",
    "    return v\n",
    "\n",
    "#h,b,p = pt.hist(h2,bins=20,density=True,histtype='step',label=\"Experimental results\",align=\"left\",linewidth=5)\n",
    "#pt.show()\n",
    "\n",
    "#p = pois(8.339678,20)\n",
    "#pt.plot(range(20),p,'-g',markersize=25,label='Poisson distribution ($\\lambda = 8$)')\n",
    "#pt.plot(range(len(h)),h,'ob',label=\"Experimental results ($P_B =50\\%$,Ttx=30ms,Trx=60ms)\",markersize=20)\n",
    "\n",
    "\n",
    "pt.axis([0,20,0,0.18])\n",
    "pt.xticks(range(20), [str(n) for n in range(20)],fontsize=30)\n",
    "pt.yticks(fontsize=30)\n",
    "pt.xlabel(r'Throughput [msg/s]', fontsize = 30)\n",
    "pt.ylabel(r'PDF', fontsize = 30)\n",
    "pt.legend(fontsize=30)\n",
    "pt.grid(True)\n",
    "pt.savefig('change_TS.pdf',format='pdf',dpi=300, bbox_inches='tight')\n",
    "tikzplotlib.save(\"test.tex\")\n",
    "pt.show()\n"
   ]
  },
  {
   "cell_type": "code",
   "execution_count": null,
   "metadata": {},
   "outputs": [],
   "source": [
    "def pois(l,k):\n",
    "    v = []\n",
    "    for x in range(k):\n",
    "        p = (l**x)*exp(-l)/factorial(x)\n",
    "        v.append(p)\n",
    "    return v\n",
    "\n",
    "#h,b,p = pt.hist(h2,bins=20,density=True,histtype='step',label=\"Experimental results\",align=\"left\",linewidth=5)\n",
    "#pt.show()\n",
    "\n",
    "p = pois(8.33,20)\n",
    "pt.plot(range(20),p,'-g',markersize=25,label='Poisson distribution ($\\lambda = 8$)')\n",
    "#pt.plot(range(len(h)),h,'ob',label=\"Experimental results ($P_B =50\\%$,Ttx=30ms,Trx=60ms)\",markersize=20)\n",
    "\n",
    "\n",
    "pt.axis([0,20,0,0.2])\n",
    "pt.xticks(range(20), [str(n) for n in range(20)],fontsize=20)\n",
    "pt.yticks(fontsize=20)\n",
    "pt.xlabel(r'Throughput [msg/s]', fontsize = 20)\n",
    "pt.ylabel(r'PDF', fontsize = 20)\n",
    "pt.legend(fontsize=20)\n",
    "pt.grid(True)\n",
    "pt.savefig('sim_vs_experiment.pdf',format='pdf',dpi=300, bbox_inches='tight')\n",
    "pt.show()"
   ]
  },
  {
   "cell_type": "code",
   "execution_count": null,
   "metadata": {},
   "outputs": [],
   "source": [
    "def pois(l,k):\n",
    "    v = []\n",
    "    for x in range(k):\n",
    "        p = (l**x)*exp(-l)/factorial(x)\n",
    "        v.append(p)\n",
    "    return v\n",
    "\n",
    "\n",
    "p = pois(8,20)\n",
    "print(p)\n",
    "pt.plot(p)\n",
    "pt.show()"
   ]
  },
  {
   "cell_type": "code",
   "execution_count": null,
   "metadata": {},
   "outputs": [],
   "source": []
  }
 ],
 "metadata": {
  "kernelspec": {
   "display_name": "Python 3",
   "language": "python",
   "name": "python3"
  },
  "language_info": {
   "codemirror_mode": {
    "name": "ipython",
    "version": 3
   },
   "file_extension": ".py",
   "mimetype": "text/x-python",
   "name": "python",
   "nbconvert_exporter": "python",
   "pygments_lexer": "ipython3",
   "version": "3.7.4"
  }
 },
 "nbformat": 4,
 "nbformat_minor": 2
}
