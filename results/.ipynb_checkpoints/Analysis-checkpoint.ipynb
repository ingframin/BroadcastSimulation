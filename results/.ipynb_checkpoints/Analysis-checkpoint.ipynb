{
 "cells": [
  {
   "cell_type": "code",
   "execution_count": 1,
   "metadata": {},
   "outputs": [],
   "source": [
    "from math import e, factorial,log, gamma, sqrt, floor\n",
    "from matplotlib import pyplot as pt\n",
    "from numpy.random import geometric, poisson, exponential\n",
    "from scipy.stats import ks_2samp\n",
    "from scipy.stats import norm,poisson\n",
    "from numpy import linspace"
   ]
  },
  {
   "cell_type": "markdown",
   "metadata": {},
   "source": [
    "## Utility functions"
   ]
  },
  {
   "cell_type": "code",
   "execution_count": 2,
   "metadata": {},
   "outputs": [],
   "source": [
    "def computeEvents(V, ttx, trx, tn):\n",
    "    Eb = 0\n",
    "    Es = 0\n",
    "    En = 0\n",
    "\n",
    "    for c in V:\n",
    "        if c == 'B':\n",
    "            Eb += 1\n",
    "        elif c == 'S':\n",
    "            Es += 1\n",
    "        else:\n",
    "            En += 1\n",
    "    \n",
    "    return (Eb/ttx,Es/trx,En/tn)\n",
    "\n",
    "def countSuccessT1(V1,V2):\n",
    "    Cb = []\n",
    "    i = 0\n",
    "    for b,s in zip(V1,V2):\n",
    "        if b =='B' and s =='S':\n",
    "            Cb.append(i)\n",
    "        i+=1\n",
    "    return Cb\n",
    "\n",
    "def countBroadcast(V1,V2,Trx,Ttx):\n",
    "    indexes = []\n",
    "    i = 0\n",
    "    Cb = {}\n",
    "    while i<len(V2):\n",
    "        if V2[i] == 'S':\n",
    "            indexes.append(i)\n",
    "            i += Trx\n",
    "\n",
    "        else:\n",
    "            i+=1\n",
    "    for ind in indexes:\n",
    "        Cb[ind] = 0\n",
    "        for j in range(ind,ind+Trx):\n",
    "            if j >= len(V1):\n",
    "                break\n",
    "            if V1[j] == 'B':\n",
    "                Cb[ind] += 1\n",
    "        Cb[ind] = floor(Cb[ind]/Ttx)\n",
    "    \n",
    "    return Cb\n",
    "\n",
    "def buildHistogram(Cb,Trx,Ttx):\n",
    "    hist = [0 for x in range(int(2*Trx/Ttx))]\n",
    "    n = 1/len(Cb)\n",
    "    for k in Cb:\n",
    "        try:\n",
    "            hist[round(Cb[k])] += n\n",
    "        except:\n",
    "            print(round(Cb[k]))\n",
    "    return hist\n",
    "\n",
    "def buildHistogramV(V, l = 0):\n",
    "    hist = None\n",
    "    if l:\n",
    "        hist = [0 for x in range(l)]\n",
    "    else:\n",
    "        hist = [0 for x in range(len(V))]\n",
    "\n",
    "    for k in V:\n",
    "        try:\n",
    "            hist[k] += 1\n",
    "        except:\n",
    "            break\n",
    "        \n",
    "    return hist\n",
    "\n",
    "def rmse(v1,v2):\n",
    "    rmse = 0\n",
    "    for x1,x2 in zip(v1,v2):\n",
    "        rmse += (x1-x2)**2\n",
    "    return sqrt(rmse/len(v1))"
   ]
  },
  {
   "cell_type": "markdown",
   "metadata": {},
   "source": [
    "## Probability mass functions \n",
    "- Geometric \n",
    "- Poisson \n",
    "- Exponential\n"
   ]
  },
  {
   "cell_type": "code",
   "execution_count": 3,
   "metadata": {},
   "outputs": [],
   "source": [
    "def geom_pmf(p,maxK):\n",
    "    return [p*(1-p)**k for k in range(0,maxK)]\n",
    "\n",
    "def poisson_pmf(lam,maxK):\n",
    "    return [e**(k*log(lam)-(lam)-log(gamma((k+1)))) for k in range(0,maxK)]\n",
    "\n",
    "def exponential_pmf(lam, maxK):\n",
    "    return [lam*(e**(-lam*k)) for k in range(0,maxK)]\n"
   ]
  },
  {
   "cell_type": "markdown",
   "metadata": {},
   "source": [
    "# Load data"
   ]
  },
  {
   "cell_type": "code",
   "execution_count": 23,
   "metadata": {},
   "outputs": [],
   "source": [
    "f1 = open(\"r9-d0-result.txt\")\n",
    "raw1 = f1.read()\n",
    "f1.close()\n",
    "\n",
    "f2 = open(\"r9-d1-result.txt\")\n",
    "raw2 = f2.read()\n",
    "f2.close()"
   ]
  },
  {
   "cell_type": "code",
   "execution_count": 24,
   "metadata": {},
   "outputs": [
    {
     "name": "stdout",
     "output_type": "stream",
     "text": [
      "P(S) = 0.987171\n",
      "P(N) = 0.000001\n",
      "P(B) = 0.012828\n",
      "r(B)(Events/s) = 12.828467\n",
      "rt = 0.141113\n",
      "Success probability= 0.102718\n"
     ]
    }
   ],
   "source": [
    "\n",
    "Eb = 0\n",
    "Es = 0\n",
    "En = 0\n",
    "\n",
    "Ttx = 1\n",
    "Trx = 11\n",
    "Tn = 1\n",
    "\n",
    "Eb,Es,En = computeEvents(raw1,Ttx,Trx,Tn)\n",
    "\n",
    "print(\"P(S) = %.6f\"%(Trx*Es/len(raw1)))\n",
    "print(\"P(N) = %.6f\"%(Tn*En/len(raw1)))\n",
    "print(\"P(B) = %.6f\"%(Ttx*Eb/len(raw1)))\n",
    "\n",
    "l1 = 1000*Eb / (len(raw1))\n",
    "\n",
    "t = Trx/1000\n",
    "rt = l1*t\n",
    "\n",
    "print(\"r(B)(Events/s) = %.6f\"%(l1))\n",
    "print(\"rt = %.6f\"%(l1*t))\n",
    "\n",
    "Cb1 = countBroadcast(raw2,raw1,Trx,Ttx)\n",
    "\n",
    "hist1 = buildHistogram(Cb1,Trx,Ttx)\n",
    "\n",
    "print(\"Success probability= %.6f\"%sum(hist1[1:]))"
   ]
  },
  {
   "cell_type": "code",
   "execution_count": 25,
   "metadata": {},
   "outputs": [
    {
     "name": "stdout",
     "output_type": "stream",
     "text": [
      "RMSE Poisson= 0.012274\n",
      "RMSE Poisson= 0.012274\n",
      "RMSE Geom= 0.004568\n",
      "RMSE Exp= 0.069113\n"
     ]
    }
   ],
   "source": [
    "pois_d = poisson_pmf(rt,len(hist1))\n",
    "print(\"RMSE Poisson= %.6f\"%rmse(pois_d,hist1)) \n",
    "rv = poisson(rt)\n",
    "rvd = rv.pmf(range(len(hist1)))\n",
    "cp = poisson.cdf(range(len(hist1)),rt)\n",
    "print(\"RMSE Poisson= %.6f\"%rmse(rvd,hist1)) \n",
    "geom_d = geom_pmf(hist1[0],len(hist1))\n",
    "print(\"RMSE Geom= %.6f\"%rmse(geom_d,hist1))\n",
    "exp_d = exponential_pmf(hist1[0],len(hist1))\n",
    "print(\"RMSE Exp= %.6f\"%rmse(exp_d,hist1))"
   ]
  },
  {
   "cell_type": "code",
   "execution_count": 26,
   "metadata": {},
   "outputs": [
    {
     "data": {
      "image/png": "[encoded data removed]",
      "text/plain": [
       "<Figure size 432x288 with 1 Axes>"
      ]
     },
     "metadata": {
      "needs_background": "light"
     },
     "output_type": "display_data"
    }
   ],
   "source": [
    "pt.plot(range(len(hist1)),geom_d,label='Geometric')\n",
    "pt.plot(range(len(hist1)),exp_d,label='Exponential')\n",
    "pt.plot(range(len(hist1)),pois_d,label='Poisson')\n",
    "pt.plot(range(len(hist1)),rvd,label='Poisson')\n",
    "pt.bar(range(len(hist1)),hist1,label=\"P(Rx)= %.3f,T(B)/T(Total)= %.2f%%\"%(sum(hist1[1:]),100*Ttx*Eb/len(raw1)))\n",
    "pt.legend()\n",
    "pt.axis([0,len(hist1),0,1.0])\n",
    "pt.xticks(range(len(hist1)), [str(int(n)) for n in range(len(hist1))])\n",
    "pt.xlabel(r'$\\mathcal{k}$', fontsize = 18)\n",
    "pt.ylabel(r'P(k-messages-received)')\n",
    "pt.grid(True)\n",
    "pt.show()"
   ]
  },
  {
   "cell_type": "code",
   "execution_count": 27,
   "metadata": {},
   "outputs": [
    {
     "data": {
      "text/plain": [
       "Ks_2sampResult(statistic=0.028742117293630742, pvalue=0.0)"
      ]
     },
     "execution_count": 27,
     "metadata": {},
     "output_type": "execute_result"
    }
   ],
   "source": [
    "ks_2samp(list(Cb1.values()), poisson.rvs(rt, size=len(Cb1.values())))"
   ]
  },
  {
   "cell_type": "code",
   "execution_count": null,
   "metadata": {},
   "outputs": [],
   "source": []
  }
 ],
 "metadata": {
  "kernelspec": {
   "display_name": "Python 3",
   "language": "python",
   "name": "python3"
  },
  "language_info": {
   "codemirror_mode": {
    "name": "ipython",
    "version": 3
   },
   "file_extension": ".py",
   "mimetype": "text/x-python",
   "name": "python",
   "nbconvert_exporter": "python",
   "pygments_lexer": "ipython3",
   "version": "3.7.3"
  }
 },
 "nbformat": 4,
 "nbformat_minor": 2
}
