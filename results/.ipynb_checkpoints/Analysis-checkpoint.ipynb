{
 "cells": [
  {
   "cell_type": "code",
   "execution_count": 1,
   "metadata": {},
   "outputs": [],
   "source": [
    "from math import e, factorial,log, gamma, sqrt, floor\n",
    "from matplotlib import pyplot as pt\n",
    "from numpy.random import geometric,exponential,poisson\n",
    "from scipy.stats import ks_2samp\n",
    "from scipy.stats import norm\n",
    "from numpy import linspace\n",
    "from IPython.display import Markdown\n",
    "from analysis import *\n",
    "from threading import Thread"
   ]
  },
  {
   "cell_type": "code",
   "execution_count": 2,
   "metadata": {},
   "outputs": [],
   "source": [
    "pt.rcParams[\"figure.figsize\"] = (20,10)"
   ]
  },
  {
   "cell_type": "markdown",
   "metadata": {},
   "source": [
    "# Load data\n",
    "\n",
    "This is a comment\n"
   ]
  },
  {
   "cell_type": "code",
   "execution_count": 3,
   "metadata": {},
   "outputs": [],
   "source": [
    "Ttx = 30\n",
    "Trx = 60\n",
    "Tn = 100\n",
    "    \n",
    "def compute_histogram(r1,r2):\n",
    "\n",
    "    Eb1,Es1,En1 = computeEvents(r1,Ttx,Trx,Tn)\n",
    "    Eb2,Es2,En2 = computeEvents(r2,Ttx,Trx,Tn)\n",
    "    display(Markdown('<span style=\"color: #af0000\">'+\"P(S) = %.6f\"%(Trx*Es1/len(r1))+'</span>'))\n",
    "    display(Markdown('<span style=\"color: #00af00\">'+\"P(N) = %.6f\"%(Tn*En1/len(r1))+'</span>'))\n",
    "    display(Markdown('<span style=\"color: #0000af\">'+\"P(B) = %.6f\"%(Ttx*Eb1/len(r1))+'</span>'))\n",
    "\n",
    "    Pb2 = Eb2*Ttx/(Eb2*Ttx+En2*Tn+Es2*Trx)\n",
    "    rt1 = Pb2/(Ttx/1000)\n",
    "    \n",
    "    print(\"r(B)(Events/s) = %.6f\"%(rt1))\n",
    "    \n",
    "    hist1 = genWindowHistogram(r1,r2,1000)\n",
    "    Esuc = checkSuccess(r2,r1)\n",
    "    Ps=Esuc/Eb2\n",
    "    rs2 = Esuc*1000/len(r1)\n",
    "    print(\"r(Suuccess)(Events/s) = %.6f\"%rs2)\n",
    "    Pscan = Trx*Es1/len(r1)\n",
    "    r_scan = 1000*Pscan/Trx\n",
    "    print(\"r(S)(Events/s) = %.6f\"%r_scan)\n",
    "    Ns = Ps*1000/Ttx\n",
    "    Nb = rt1*1000\n",
    "    print(\"Success probability evts: %.6f\"%(Ps))\n",
    "    return hist1,Eb1,Es1,En1,Ps"
   ]
  },
  {
   "cell_type": "code",
   "execution_count": 9,
   "metadata": {
    "scrolled": false
   },
   "outputs": [
    {
     "data": {
      "text/markdown": [
       "<span style=\"color: #af0000\">P(S) = 0.200706</span>"
      ],
      "text/plain": [
       "<IPython.core.display.Markdown object>"
      ]
     },
     "metadata": {},
     "output_type": "display_data"
    },
    {
     "data": {
      "text/markdown": [
       "<span style=\"color: #00af00\">P(N) = 0.000000</span>"
      ],
      "text/plain": [
       "<IPython.core.display.Markdown object>"
      ]
     },
     "metadata": {},
     "output_type": "display_data"
    },
    {
     "data": {
      "text/markdown": [
       "<span style=\"color: #0000af\">P(B) = 0.799294</span>"
      ],
      "text/plain": [
       "<IPython.core.display.Markdown object>"
      ]
     },
     "metadata": {},
     "output_type": "display_data"
    },
    {
     "name": "stdout",
     "output_type": "stream",
     "text": [
      "r(B)(Events/s) = 26.678609\n"
     ]
    },
    {
     "ename": "KeyboardInterrupt",
     "evalue": "",
     "output_type": "error",
     "traceback": [
      "\u001b[1;31m---------------------------------------------------------------------------\u001b[0m",
      "\u001b[1;31mKeyboardInterrupt\u001b[0m                         Traceback (most recent call last)",
      "\u001b[1;32m<ipython-input-9-0b92ba20f155>\u001b[0m in \u001b[0;36m<module>\u001b[1;34m\u001b[0m\n\u001b[0;32m      9\u001b[0m     \u001b[0mf2\u001b[0m\u001b[1;33m.\u001b[0m\u001b[0mclose\u001b[0m\u001b[1;33m(\u001b[0m\u001b[1;33m)\u001b[0m\u001b[1;33m\u001b[0m\u001b[1;33m\u001b[0m\u001b[0m\n\u001b[0;32m     10\u001b[0m \u001b[1;33m\u001b[0m\u001b[0m\n\u001b[1;32m---> 11\u001b[1;33m     \u001b[0mhist\u001b[0m\u001b[1;33m,\u001b[0m\u001b[0mEb\u001b[0m\u001b[1;33m,\u001b[0m\u001b[0mEs\u001b[0m\u001b[1;33m,\u001b[0m\u001b[0mEn\u001b[0m\u001b[1;33m,\u001b[0m\u001b[0mPs\u001b[0m \u001b[1;33m=\u001b[0m \u001b[0mcompute_histogram\u001b[0m\u001b[1;33m(\u001b[0m\u001b[0mraw1\u001b[0m\u001b[1;33m,\u001b[0m\u001b[0mraw2\u001b[0m\u001b[1;33m)\u001b[0m\u001b[1;33m\u001b[0m\u001b[1;33m\u001b[0m\u001b[0m\n\u001b[0m\u001b[0;32m     12\u001b[0m     \u001b[0mprint\u001b[0m\u001b[1;33m(\u001b[0m\u001b[1;36m1\u001b[0m\u001b[1;33m-\u001b[0m\u001b[0mhist\u001b[0m\u001b[1;33m[\u001b[0m\u001b[1;36m0\u001b[0m\u001b[1;33m]\u001b[0m\u001b[1;33m)\u001b[0m\u001b[1;33m\u001b[0m\u001b[1;33m\u001b[0m\u001b[0m\n\u001b[0;32m     13\u001b[0m     \u001b[0mprint\u001b[0m\u001b[1;33m(\u001b[0m\u001b[1;34m'---------------------'\u001b[0m\u001b[1;33m)\u001b[0m\u001b[1;33m\u001b[0m\u001b[1;33m\u001b[0m\u001b[0m\n",
      "\u001b[1;32m<ipython-input-3-84f0abd1473f>\u001b[0m in \u001b[0;36mcompute_histogram\u001b[1;34m(r1, r2)\u001b[0m\n\u001b[0;32m     16\u001b[0m     \u001b[0mprint\u001b[0m\u001b[1;33m(\u001b[0m\u001b[1;34m\"r(B)(Events/s) = %.6f\"\u001b[0m\u001b[1;33m%\u001b[0m\u001b[1;33m(\u001b[0m\u001b[0mrt1\u001b[0m\u001b[1;33m)\u001b[0m\u001b[1;33m)\u001b[0m\u001b[1;33m\u001b[0m\u001b[1;33m\u001b[0m\u001b[0m\n\u001b[0;32m     17\u001b[0m \u001b[1;33m\u001b[0m\u001b[0m\n\u001b[1;32m---> 18\u001b[1;33m     \u001b[0mhist1\u001b[0m \u001b[1;33m=\u001b[0m \u001b[0mgenWindowHistogram\u001b[0m\u001b[1;33m(\u001b[0m\u001b[0mr1\u001b[0m\u001b[1;33m,\u001b[0m\u001b[0mr2\u001b[0m\u001b[1;33m,\u001b[0m\u001b[1;36m1000\u001b[0m\u001b[1;33m)\u001b[0m\u001b[1;33m\u001b[0m\u001b[1;33m\u001b[0m\u001b[0m\n\u001b[0m\u001b[0;32m     19\u001b[0m     \u001b[0mEsuc\u001b[0m \u001b[1;33m=\u001b[0m \u001b[0mcheckSuccess\u001b[0m\u001b[1;33m(\u001b[0m\u001b[0mr2\u001b[0m\u001b[1;33m,\u001b[0m\u001b[0mr1\u001b[0m\u001b[1;33m)\u001b[0m\u001b[1;33m\u001b[0m\u001b[1;33m\u001b[0m\u001b[0m\n\u001b[0;32m     20\u001b[0m     \u001b[0mPs\u001b[0m\u001b[1;33m=\u001b[0m\u001b[0mEsuc\u001b[0m\u001b[1;33m/\u001b[0m\u001b[0mEb2\u001b[0m\u001b[1;33m\u001b[0m\u001b[1;33m\u001b[0m\u001b[0m\n",
      "\u001b[1;32mD:\\BroadcastSimulation\\results\\analysis.py\u001b[0m in \u001b[0;36mgenWindowHistogram\u001b[1;34m(r1, r2, wnd)\u001b[0m\n\u001b[0;32m     83\u001b[0m             \u001b[1;32mtry\u001b[0m\u001b[1;33m:\u001b[0m\u001b[1;33m\u001b[0m\u001b[1;33m\u001b[0m\u001b[0m\n\u001b[0;32m     84\u001b[0m                 \u001b[1;32mif\u001b[0m \u001b[0mr1\u001b[0m\u001b[1;33m[\u001b[0m\u001b[0mj\u001b[0m\u001b[1;33m]\u001b[0m \u001b[1;33m==\u001b[0m \u001b[1;34m'S'\u001b[0m \u001b[1;32mand\u001b[0m \u001b[0mr2\u001b[0m\u001b[1;33m[\u001b[0m\u001b[0mj\u001b[0m\u001b[1;33m]\u001b[0m \u001b[1;33m==\u001b[0m \u001b[1;34m'B'\u001b[0m\u001b[1;33m:\u001b[0m\u001b[1;33m\u001b[0m\u001b[1;33m\u001b[0m\u001b[0m\n\u001b[1;32m---> 85\u001b[1;33m                     \u001b[0mcount\u001b[0m \u001b[1;33m+=\u001b[0m \u001b[1;36m1\u001b[0m\u001b[1;33m\u001b[0m\u001b[1;33m\u001b[0m\u001b[0m\n\u001b[0m\u001b[0;32m     86\u001b[0m             \u001b[1;32mexcept\u001b[0m\u001b[1;33m:\u001b[0m\u001b[1;33m\u001b[0m\u001b[1;33m\u001b[0m\u001b[0m\n\u001b[0;32m     87\u001b[0m                 \u001b[1;32mpass\u001b[0m\u001b[1;33m\u001b[0m\u001b[1;33m\u001b[0m\u001b[0m\n",
      "\u001b[1;31mKeyboardInterrupt\u001b[0m: "
     ]
    }
   ],
   "source": [
    "leg = [20,30,40,50,60,70,80,90]\n",
    "for i in range(1,9):\n",
    "    f1 = open(\"r%d-d0-result.txt\"%i)\n",
    "    raw1 = f1.read()\n",
    "    f1.close()\n",
    "\n",
    "    f2 = open(\"r%d-d1-result.txt\"%i)\n",
    "    raw2 = f2.read()\n",
    "    f2.close()\n",
    "\n",
    "    hist,Eb,Es,En,Ps = compute_histogram(raw1,raw2)\n",
    "    print(1-hist[0])\n",
    "    print('---------------------')\n",
    "    pt.plot(range(len(hist)),hist,label=\"P(B)= %d%%\"%(20+i*10))\n",
    "    del(hist)\n",
    "    \n",
    "pt.axis([0,20,0,0.25])\n",
    "pt.xticks(range(20), [str(n) for n in range(20)])\n",
    "pt.xlabel(r'$\\mathcal{k}$', fontsize = 18)\n",
    "pt.ylabel(r'P(k-messages-received)')\n",
    "pt.legend()\n",
    "pt.grid(True)\n",
    "pt.savefig('arrival_distribution.pdf',format='pdf',dpi=300, bbox_inches='tight')\n",
    "pt.show()"
   ]
  },
  {
   "cell_type": "code",
   "execution_count": null,
   "metadata": {},
   "outputs": [],
   "source": [
    "\n"
   ]
  },
  {
   "cell_type": "code",
   "execution_count": null,
   "metadata": {},
   "outputs": [],
   "source": []
  },
  {
   "cell_type": "code",
   "execution_count": null,
   "metadata": {},
   "outputs": [],
   "source": []
  }
 ],
 "metadata": {
  "kernelspec": {
   "display_name": "Python 3",
   "language": "python",
   "name": "python3"
  },
  "language_info": {
   "codemirror_mode": {
    "name": "ipython",
    "version": 3
   },
   "file_extension": ".py",
   "mimetype": "text/x-python",
   "name": "python",
   "nbconvert_exporter": "python",
   "pygments_lexer": "ipython3",
   "version": "3.7.4"
  }
 },
 "nbformat": 4,
 "nbformat_minor": 2
}
