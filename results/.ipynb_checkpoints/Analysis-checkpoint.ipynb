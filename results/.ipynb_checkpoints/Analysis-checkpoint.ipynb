{
 "cells": [
  {
   "cell_type": "code",
   "execution_count": 1,
   "metadata": {},
   "outputs": [],
   "source": [
    "from math import e, factorial,log, gamma, sqrt, floor\n",
    "from matplotlib import pyplot as pt\n",
    "from numpy.random import geometric,exponential,poisson\n",
    "from scipy.stats import ks_2samp\n",
    "from scipy.stats import norm\n",
    "from numpy import linspace\n",
    "from IPython.display import Markdown\n",
    "from analysis import *"
   ]
  },
  {
   "cell_type": "markdown",
   "metadata": {},
   "source": [
    "# Load data"
   ]
  },
  {
   "cell_type": "code",
   "execution_count": 2,
   "metadata": {},
   "outputs": [],
   "source": [
    "f1 = open(\"r1-d0-result.txt\")\n",
    "raw1 = f1.read()\n",
    "f1.close()\n",
    "\n",
    "f2 = open(\"r1-d1-result.txt\")\n",
    "raw2 = f2.read()\n",
    "f2.close()\n",
    "\n",
    "f3 = open(\"r5-d0-result.txt\")\n",
    "raw3 = f3.read()\n",
    "f3.close()\n",
    "\n",
    "f4 = open(\"r5-d1-result.txt\")\n",
    "raw4 = f4.read()\n",
    "f4.close()\n",
    "\n",
    "f5 = open(\"r9-d0-result.txt\")\n",
    "raw5 = f5.read()\n",
    "f5.close()\n",
    "\n",
    "f6 = open(\"r9-d1-result.txt\")\n",
    "raw6 = f6.read()\n",
    "f6.close()"
   ]
  },
  {
   "cell_type": "code",
   "execution_count": 3,
   "metadata": {},
   "outputs": [],
   "source": [
    "Ttx = 1\n",
    "Trx = 10\n",
    "Tn = 1\n",
    "    \n",
    "def compute_histogram(r1,r2):\n",
    "    \n",
    "    Eb = 0\n",
    "    Es = 0\n",
    "    En = 0\n",
    "\n",
    "    Eb,Es,En = computeEvents(r1,Ttx,Trx,Tn)\n",
    "\n",
    "    display(Markdown('<span style=\"color: #af0000\">'+\"P(S) = %.6f\"%(Trx*Es/len(r1))+'</span>'))\n",
    "    display(Markdown('<span style=\"color: #00af00\">'+\"P(N) = %.6f\"%(Tn*En/len(r1))+'</span>'))\n",
    "    display(Markdown('<span style=\"color: #0000af\">'+\"P(B) = %.6f\"%(Ttx*Eb/len(r1))+'</span>'))\n",
    "\n",
    "\n",
    "    l1 = 1000*Eb / (len(r1))\n",
    "\n",
    "    t = Trx/1000\n",
    "    rt = l1*t\n",
    "\n",
    "    print(\"r(B)(Events/s) = %.6f\"%(l1))\n",
    "    print(\"rt = %.6f\"%(l1*t))\n",
    "\n",
    "    Cb1 = countBroadcast(r2,r1,Trx,Ttx)\n",
    "\n",
    "    hist1 = buildHistogram(Cb1,Trx,Ttx)\n",
    "\n",
    "    print(\"Success probability= %.6f\"%sum(hist1[1:]))\n",
    "    return hist1,rt,Eb,Es,En"
   ]
  },
  {
   "cell_type": "code",
   "execution_count": 4,
   "metadata": {},
   "outputs": [
    {
     "data": {
      "text/markdown": [
       "<span style=\"color: #af0000\">P(S) = 0.847417</span>"
      ],
      "text/plain": [
       "<IPython.core.display.Markdown object>"
      ]
     },
     "metadata": {},
     "output_type": "display_data"
    },
    {
     "data": {
      "text/markdown": [
       "<span style=\"color: #00af00\">P(N) = 0.000000</span>"
      ],
      "text/plain": [
       "<IPython.core.display.Markdown object>"
      ]
     },
     "metadata": {},
     "output_type": "display_data"
    },
    {
     "data": {
      "text/markdown": [
       "<span style=\"color: #0000af\">P(B) = 0.152583</span>"
      ],
      "text/plain": [
       "<IPython.core.display.Markdown object>"
      ]
     },
     "metadata": {},
     "output_type": "display_data"
    },
    {
     "name": "stdout",
     "output_type": "stream",
     "text": [
      "r(B)(Events/s) = 152.583313\n",
      "rt = 1.678416\n",
      "Success probability= 0.915025\n",
      "---------------------\n"
     ]
    },
    {
     "data": {
      "text/markdown": [
       "<span style=\"color: #af0000\">P(S) = 0.909299</span>"
      ],
      "text/plain": [
       "<IPython.core.display.Markdown object>"
      ]
     },
     "metadata": {},
     "output_type": "display_data"
    },
    {
     "data": {
      "text/markdown": [
       "<span style=\"color: #00af00\">P(N) = 0.000000</span>"
      ],
      "text/plain": [
       "<IPython.core.display.Markdown object>"
      ]
     },
     "metadata": {},
     "output_type": "display_data"
    },
    {
     "data": {
      "text/markdown": [
       "<span style=\"color: #0000af\">P(B) = 0.090701</span>"
      ],
      "text/plain": [
       "<IPython.core.display.Markdown object>"
      ]
     },
     "metadata": {},
     "output_type": "display_data"
    },
    {
     "name": "stdout",
     "output_type": "stream",
     "text": [
      "r(B)(Events/s) = 90.701250\n",
      "rt = 0.997714\n",
      "Success probability= 0.545810\n",
      "---------------------\n"
     ]
    },
    {
     "data": {
      "text/markdown": [
       "<span style=\"color: #af0000\">P(S) = 0.980386</span>"
      ],
      "text/plain": [
       "<IPython.core.display.Markdown object>"
      ]
     },
     "metadata": {},
     "output_type": "display_data"
    },
    {
     "data": {
      "text/markdown": [
       "<span style=\"color: #00af00\">P(N) = 0.000000</span>"
      ],
      "text/plain": [
       "<IPython.core.display.Markdown object>"
      ]
     },
     "metadata": {},
     "output_type": "display_data"
    },
    {
     "data": {
      "text/markdown": [
       "<span style=\"color: #0000af\">P(B) = 0.019614</span>"
      ],
      "text/plain": [
       "<IPython.core.display.Markdown object>"
      ]
     },
     "metadata": {},
     "output_type": "display_data"
    },
    {
     "name": "stdout",
     "output_type": "stream",
     "text": [
      "r(B)(Events/s) = 19.614125\n",
      "rt = 0.215755\n",
      "Success probability= 0.117393\n",
      "---------------------\n"
     ]
    }
   ],
   "source": [
    "hist1,rt1,Eb1,Es1,En1 = compute_histogram(raw1,raw2)\n",
    "print('---------------------')\n",
    "hist2,rt2,Eb2,Es2,En2 = compute_histogram(raw3,raw4)\n",
    "print('---------------------')\n",
    "hist3,rt3,Eb3,Es3,En3 = compute_histogram(raw5,raw6)\n",
    "print('---------------------')"
   ]
  },
  {
   "cell_type": "code",
   "execution_count": 5,
   "metadata": {},
   "outputs": [
    {
     "name": "stdout",
     "output_type": "stream",
     "text": [
      "RMSE Poisson= 0.046207\n",
      "RMSE Geom= 0.098988\n",
      "---------------------\n",
      "RMSE Poisson= 0.026171\n",
      "RMSE Geom= 0.011026\n",
      "---------------------\n",
      "RMSE Poisson= 0.028933\n",
      "RMSE Geom= 0.009814\n"
     ]
    }
   ],
   "source": [
    "def check_distribution(hist,rt):\n",
    "    rvd = poisson_dist(rt,len(hist1))\n",
    "    print(\"RMSE Poisson= %.6f\"%rmse(rvd,hist)) \n",
    "    geom_d = geom_dist(hist[0],len(hist))\n",
    "    print(\"RMSE Geom= %.6f\"%rmse(geom_d,hist))\n",
    "    \n",
    "check_distribution(hist1, rt1)\n",
    "print('---------------------')\n",
    "check_distribution(hist2, rt2)\n",
    "print('---------------------')\n",
    "check_distribution(hist3, rt3)"
   ]
  },
  {
   "cell_type": "code",
   "execution_count": 6,
   "metadata": {},
   "outputs": [
    {
     "data": {
      "image/png": "[encoded data removed]",
      "text/plain": [
       "<Figure size 1440x720 with 1 Axes>"
      ]
     },
     "metadata": {
      "needs_background": "light"
     },
     "output_type": "display_data"
    }
   ],
   "source": [
    "pt.rcParams[\"figure.figsize\"] = (20,10)\n",
    "pt.plot(range(len(hist1)),hist1,label=\"P(Rx)= %.3f,T(B)/T(Total)= %.2f%%\"%(sum(hist1[1:]),100*Ttx*Eb1/len(raw1)))\n",
    "pt.plot(range(len(hist2)),hist2,label=\"P(Rx)= %.3f,T(B)/T(Total)= %.2f%%\"%(sum(hist2[1:]),100*Ttx*Eb2/len(raw2)))\n",
    "pt.plot(range(len(hist3)),hist3,label=\"P(Rx)= %.3f,T(B)/T(Total)= %.2f%%\"%(sum(hist3[1:]),100*Ttx*Eb3/len(raw3)))\n",
    "pt.legend()\n",
    "pt.axis([0,len(hist1),0,1.0])\n",
    "pt.xticks(range(len(hist1)), [str(int(n)) for n in range(len(hist1))])\n",
    "pt.xlabel(r'$\\mathcal{k}$', fontsize = 18)\n",
    "pt.ylabel(r'P(k-messages-received)')\n",
    "pt.grid(True)\n",
    "pt.show()"
   ]
  },
  {
   "cell_type": "code",
   "execution_count": null,
   "metadata": {},
   "outputs": [],
   "source": []
  }
 ],
 "metadata": {
  "kernelspec": {
   "display_name": "Python 3",
   "language": "python",
   "name": "python3"
  },
  "language_info": {
   "codemirror_mode": {
    "name": "ipython",
    "version": 3
   },
   "file_extension": ".py",
   "mimetype": "text/x-python",
   "name": "python",
   "nbconvert_exporter": "python",
   "pygments_lexer": "ipython3",
   "version": "3.7.3"
  }
 },
 "nbformat": 4,
 "nbformat_minor": 2
}
