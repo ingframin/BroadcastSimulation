{
 "cells": [
  {
   "cell_type": "code",
   "execution_count": 1,
   "metadata": {},
   "outputs": [],
   "source": [
    "from math import e, factorial,log, gamma, sqrt, floor\n",
    "from matplotlib import pyplot as pt\n",
    "from numpy import linspace, correlate, average\n",
    "from IPython.display import Markdown\n",
    "from analysis import *"
   ]
  },
  {
   "cell_type": "code",
   "execution_count": 2,
   "metadata": {},
   "outputs": [],
   "source": [
    "Ttx = 30\n",
    "Trx = 60\n",
    "Tn = 100\n",
    "Tw = 1000\n",
    "pt.rcParams[\"figure.figsize\"] = (20,10)"
   ]
  },
  {
   "cell_type": "markdown",
   "metadata": {},
   "source": [
    "## Networking disabled"
   ]
  },
  {
   "cell_type": "code",
   "execution_count": 3,
   "metadata": {
    "scrolled": false
   },
   "outputs": [
    {
     "ename": "TypeError",
     "evalue": "genWindowHistogram() takes 3 positional arguments but 4 were given",
     "output_type": "error",
     "traceback": [
      "\u001b[1;31m---------------------------------------------------------------------------\u001b[0m",
      "\u001b[1;31mTypeError\u001b[0m                                 Traceback (most recent call last)",
      "\u001b[1;32m<ipython-input-3-95fcb99f7f34>\u001b[0m in \u001b[0;36m<module>\u001b[1;34m\u001b[0m\n\u001b[0;32m     13\u001b[0m     \u001b[0mEb2\u001b[0m\u001b[1;33m,\u001b[0m\u001b[0mEs2\u001b[0m\u001b[1;33m,\u001b[0m\u001b[0mEn2\u001b[0m \u001b[1;33m=\u001b[0m \u001b[0mcomputeEvents\u001b[0m\u001b[1;33m(\u001b[0m\u001b[0mraw2\u001b[0m\u001b[1;33m,\u001b[0m\u001b[0mTtx\u001b[0m\u001b[1;33m,\u001b[0m\u001b[0mTrx\u001b[0m\u001b[1;33m,\u001b[0m\u001b[0mTn\u001b[0m\u001b[1;33m)\u001b[0m\u001b[1;33m\u001b[0m\u001b[1;33m\u001b[0m\u001b[0m\n\u001b[0;32m     14\u001b[0m \u001b[1;33m\u001b[0m\u001b[0m\n\u001b[1;32m---> 15\u001b[1;33m     \u001b[0mwnds1\u001b[0m \u001b[1;33m=\u001b[0m \u001b[0mgenWindowHistogram\u001b[0m\u001b[1;33m(\u001b[0m\u001b[0mraw1\u001b[0m\u001b[1;33m,\u001b[0m\u001b[0mraw2\u001b[0m\u001b[1;33m,\u001b[0m\u001b[1;36m1000\u001b[0m\u001b[1;33m,\u001b[0m\u001b[0mTrx\u001b[0m\u001b[1;33m)\u001b[0m\u001b[1;33m\u001b[0m\u001b[1;33m\u001b[0m\u001b[0m\n\u001b[0m\u001b[0;32m     16\u001b[0m     \u001b[0mPs\u001b[0m \u001b[1;33m=\u001b[0m \u001b[0mcheckSuccess\u001b[0m\u001b[1;33m(\u001b[0m\u001b[0mraw2\u001b[0m\u001b[1;33m,\u001b[0m\u001b[0mraw1\u001b[0m\u001b[1;33m)\u001b[0m\u001b[1;33m*\u001b[0m\u001b[0mTtx\u001b[0m\u001b[1;33m/\u001b[0m\u001b[1;33m(\u001b[0m\u001b[0mEb1\u001b[0m\u001b[1;33m*\u001b[0m\u001b[0mTtx\u001b[0m\u001b[1;33m+\u001b[0m\u001b[0mEn1\u001b[0m\u001b[1;33m*\u001b[0m\u001b[0mTn\u001b[0m\u001b[1;33m+\u001b[0m\u001b[0mEs1\u001b[0m\u001b[1;33m*\u001b[0m\u001b[0mTrx\u001b[0m\u001b[1;33m)\u001b[0m\u001b[1;33m\u001b[0m\u001b[1;33m\u001b[0m\u001b[0m\n\u001b[0;32m     17\u001b[0m     \u001b[0mprint\u001b[0m\u001b[1;33m(\u001b[0m\u001b[1;34m\"Success probability evts: %.6f\"\u001b[0m\u001b[1;33m%\u001b[0m\u001b[1;33m(\u001b[0m\u001b[0mPs\u001b[0m\u001b[1;33m)\u001b[0m\u001b[1;33m)\u001b[0m\u001b[1;33m\u001b[0m\u001b[1;33m\u001b[0m\u001b[0m\n",
      "\u001b[1;31mTypeError\u001b[0m: genWindowHistogram() takes 3 positional arguments but 4 were given"
     ]
    }
   ],
   "source": [
    "h1 = []\n",
    "cmp = []\n",
    "for i in range(1,10):\n",
    "    f1 = open(\"r%d-d0-result.txt\"%i)\n",
    "    raw1 = f1.read()\n",
    "    f1.close()\n",
    "\n",
    "    f2 = open(\"r%d-d1-result.txt\"%i)\n",
    "    raw2 = f2.read()\n",
    "    f2.close()\n",
    "    \n",
    "    Eb1,Es1,En1 = computeEvents(raw1,Ttx,Trx,Tn)\n",
    "    Eb2,Es2,En2 = computeEvents(raw2,Ttx,Trx,Tn)\n",
    "    \n",
    "    wnds1 = genWindowHistogram(raw1,raw2,1000,Trx)\n",
    "    Ps = checkSuccess(raw2,raw1)*Ttx/(Eb1*Ttx+En1*Tn+Es1*Trx)\n",
    "    print(\"Success probability evts: %.6f\"%(Ps))\n",
    "    print('-----------------------------------------------------------')\n",
    "    Ps1 = Es1*Trx/(Eb1*Ttx+En1*Tn+Es1*Trx)\n",
    "    Pb2 = Eb2*Ttx/(Eb2*Ttx+En2*Tn+Es2*Trx)\n",
    "    rt1 = Pb2/(Ttx/1000)\n",
    "    P0w = Pb2*(1-Ps1)+Ps1*(1-Pb2)+(1-Ps1)*(1-Pb2)\n",
    "    \n",
    "    print(\"P0w= %.6f;Hist[0]= %.6f\"%(P0w,wnds1[0]))\n",
    "    h1.append(wnds1[0])\n",
    "    cmp.append(P0w)\n",
    "    print(\"PB2= %.6f\"%(Pb2))\n",
    "    print(\"PS1= %.6f\"%(Ps1))\n",
    "    print(\"PB*PS= %.6f\"%(Pb2*Ps1))\n",
    "    print(\"rt1 = %.6f B/s\"%(rt1))\n",
    "    print(\"P(At least 1 beacon during Tw)= %.6f\"%(1-wnds1[0]))\n",
    "    \n",
    "    print('-----------------------------------------------------------')\n",
    "    \n",
    "    pt.plot(range(len(wnds1)),wnds1,label=r\"$P_{S}$= %.6f\"%(Trx*Es1/len(raw1)))\n",
    "\n",
    "print(correlate(h1,cmp))\n",
    "print('-----------------------------------------------------------')\n",
    "pt.legend(prop={'family':'Times New Roman', 'size':20})\n",
    "pt.axis([0,35,0,0.25])\n",
    "pt.xticks(range(0,35,1), [str(n) for n in range(0,35,1)])\n",
    "pt.grid(True)\n",
    "pt.savefig('success_distribution_BS.pdf',dpi=300, bbox_inches='tight')\n",
    "pt.show()"
   ]
  },
  {
   "cell_type": "code",
   "execution_count": null,
   "metadata": {},
   "outputs": [],
   "source": []
  },
  {
   "cell_type": "markdown",
   "metadata": {},
   "source": [
    "## Networking enabled"
   ]
  },
  {
   "cell_type": "code",
   "execution_count": null,
   "metadata": {},
   "outputs": [],
   "source": [
    "for i in range(1,10):\n",
    "    \n",
    "    f3 = open(\"r2%d-d0-result.txt\"%i)\n",
    "    raw3 = f3.read()\n",
    "    f3.close()\n",
    "\n",
    "    f4 = open(\"r2%d-d1-result.txt\"%i)\n",
    "    raw4 = f4.read()\n",
    "    f4.close()\n",
    "    \n",
    "    Eb3,Es3,En3 = computeEvents(raw3,Ttx,Trx,Tn)\n",
    "    Eb4,Es4,En4 = computeEvents(raw4,Ttx,Trx,Tn)\n",
    "    wnds2 = genWindowHistogram(raw3,raw4,1000,Trx)\n",
    "    Ps = checkSuccess(raw4,raw3)*Ttx/(Eb3*Ttx+En3*Tn+Es3*Trx)\n",
    "    print(\"Success probability evts: %.6f\"%(Ps))\n",
    "    print('-----------------------------------------------------------')\n",
    "    Ps1 = Es3*Trx/(Eb3*Ttx+En3*Tn+Es3*Trx)\n",
    "    Pb2 = Eb4*Ttx/(Eb4*Ttx+En4*Tn+Es4*Trx)\n",
    "    rt1 = Pb2/(Ttx/1000)\n",
    "    print(\"PB2= %.6f\"%(Pb2))\n",
    "    print(\"PS1= %.6f\"%(Ps1))\n",
    "    print(\"PB*PS= %.6f\"%(Pb2*Ps1))\n",
    "    print('-----------------------------------------------------------')\n",
    "    pt.plot(range(len(wnds2)),wnds2,label=r\"$P_{S}$: %.6f\"%(Trx*Es3/len(raw3)))\n",
    "\n",
    "    \n",
    "pt.legend()\n",
    "pt.axis([0,35,0,0.25])\n",
    "pt.xticks(range(0,35,1), [str(n) for n in range(0,35,1)])\n",
    "pt.grid(True)\n",
    "pt.savefig('success_distribution_BSN.pdf',dpi=300, bbox_inches='tight')\n",
    "pt.show()"
   ]
  },
  {
   "cell_type": "markdown",
   "metadata": {},
   "source": [
    "    Probability of failure"
   ]
  },
  {
   "cell_type": "code",
   "execution_count": null,
   "metadata": {},
   "outputs": [],
   "source": [
    "Pb = 0.8\n",
    "Ps = 0.2\n",
    "Tw = 1000\n",
    "Tb = 23\n",
    "Ts = 60\n",
    "P0b = e**(-Pb*Tw/Tb)\n",
    "P0s = e**(-Ps*Tw/Ts)\n",
    "Pfail = Ps*(1-Pb) + Pb*(1-Ps) + (1-Pb)*(1-Ps)\n",
    "print(P0b+P0s+P0b*P0s)\n",
    "print(P0b)\n",
    "print(P0s)\n",
    "print(Pfail)"
   ]
  },
  {
   "cell_type": "code",
   "execution_count": null,
   "metadata": {},
   "outputs": [],
   "source": []
  }
 ],
 "metadata": {
  "kernelspec": {
   "display_name": "Python 3",
   "language": "python",
   "name": "python3"
  },
  "language_info": {
   "codemirror_mode": {
    "name": "ipython",
    "version": 3
   },
   "file_extension": ".py",
   "mimetype": "text/x-python",
   "name": "python",
   "nbconvert_exporter": "python",
   "pygments_lexer": "ipython3",
   "version": "3.7.4"
  }
 },
 "nbformat": 4,
 "nbformat_minor": 2
}
