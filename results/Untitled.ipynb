{
 "cells": [
  {
   "cell_type": "code",
   "execution_count": 1,
   "metadata": {},
   "outputs": [],
   "source": [
    "from math import e, factorial,log, gamma, sqrt, floor\n",
    "from matplotlib import pyplot as pt\n",
    "from numpy.random import geometric,exponential,poisson\n",
    "from scipy.stats import ks_2samp\n",
    "from scipy.stats import norm\n",
    "from numpy import linspace\n",
    "from IPython.display import Markdown\n",
    "from analysis import *"
   ]
  },
  {
   "cell_type": "code",
   "execution_count": 3,
   "metadata": {},
   "outputs": [],
   "source": [
    "f9 = open(\"r9-d3-result.txt\")\n",
    "raw9 = f9.read()\n",
    "f9.close()\n",
    "\n",
    "f10 = open(\"r9-d2-result.txt\")\n",
    "raw10 = f10.read()\n",
    "f10.close()\n",
    "Ttx = 23\n",
    "Trx = 60\n",
    "Tn = 100"
   ]
  },
  {
   "cell_type": "code",
   "execution_count": 4,
   "metadata": {},
   "outputs": [],
   "source": [
    "Eb1,Es1,En1 = computeEvents(raw9,Ttx,Trx,Tn)\n",
    "Eb2,Es2,En2 = computeEvents(raw10,Ttx,Trx,Tn)"
   ]
  },
  {
   "cell_type": "code",
   "execution_count": 5,
   "metadata": {},
   "outputs": [
    {
     "name": "stdout",
     "output_type": "stream",
     "text": [
      "225232 774768.0 0.0\n",
      "223997 776003.0 0.0\n"
     ]
    }
   ],
   "source": [
    "print(Eb1,Es1,En1)\n",
    "print(Eb2,Es2,En2)"
   ]
  },
  {
   "cell_type": "code",
   "execution_count": 6,
   "metadata": {},
   "outputs": [],
   "source": [
    "def checkSuccess(Vtx,Vrx):\n",
    "    Cb = 0\n",
    "    \n",
    "    for b,s in zip(Vtx,Vrx):\n",
    "        if b =='B' and s =='S':\n",
    "            Cb+=1\n",
    "    return Cb#number of successfull events"
   ]
  },
  {
   "cell_type": "code",
   "execution_count": 7,
   "metadata": {},
   "outputs": [
    {
     "name": "stdout",
     "output_type": "stream",
     "text": [
      "202643\n"
     ]
    }
   ],
   "source": [
    "print(checkSuccess(raw9,raw10))"
   ]
  },
  {
   "cell_type": "code",
   "execution_count": 8,
   "metadata": {},
   "outputs": [
    {
     "name": "stdout",
     "output_type": "stream",
     "text": [
      "0.9046683660941888\n"
     ]
    }
   ],
   "source": [
    "print(202643/223997)\n"
   ]
  },
  {
   "cell_type": "code",
   "execution_count": null,
   "metadata": {},
   "outputs": [],
   "source": []
  }
 ],
 "metadata": {
  "kernelspec": {
   "display_name": "Python 3",
   "language": "python",
   "name": "python3"
  },
  "language_info": {
   "codemirror_mode": {
    "name": "ipython",
    "version": 3
   },
   "file_extension": ".py",
   "mimetype": "text/x-python",
   "name": "python",
   "nbconvert_exporter": "python",
   "pygments_lexer": "ipython3",
   "version": "3.7.4"
  }
 },
 "nbformat": 4,
 "nbformat_minor": 2
}
