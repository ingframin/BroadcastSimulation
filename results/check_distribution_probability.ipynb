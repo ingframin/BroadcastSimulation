{
 "cells": [
  {
   "cell_type": "code",
   "execution_count": 1,
   "metadata": {},
   "outputs": [],
   "source": [
    "from math import e, factorial,log, gamma, sqrt, floor, exp\n",
    "import re\n",
    "from matplotlib import pyplot as pt\n",
    "from analysis import *"
   ]
  },
  {
   "cell_type": "code",
   "execution_count": 7,
   "metadata": {},
   "outputs": [],
   "source": [
    "f1 = open(\"r1-d0-result.txt\")\n",
    "raw1 = f1.read()\n",
    "f1.close()\n",
    "\n",
    "f2 = open(\"r1-d1-result.txt\")\n",
    "raw2 = f2.read()\n",
    "f2.close()\n",
    "\n",
    "f3 = open(\"r5-d0-result.txt\")\n",
    "raw3 = f3.read()\n",
    "f3.close()\n",
    "\n",
    "f4 = open(\"r5-d1-result.txt\")\n",
    "raw4 = f4.read()\n",
    "f4.close()\n",
    "\n",
    "f5 = open(\"r7-d0-result.txt\")\n",
    "raw5 = f5.read()\n",
    "f5.close()\n",
    "\n",
    "f6 = open(\"r7-d1-result.txt\")\n",
    "raw6 = f6.read()\n",
    "f6.close()\n",
    "\n",
    "Ttx = 21\n",
    "Trx = 60\n",
    "Tn = 100"
   ]
  },
  {
   "cell_type": "code",
   "execution_count": 8,
   "metadata": {},
   "outputs": [],
   "source": [
    "Eb1,Es1,En1 = computeEvents(raw1,Ttx,Trx,Tn)\n",
    "Eb2,Es2,En2 = computeEvents(raw2,Ttx,Trx,Tn)\n",
    "Eb3,Es3,En3 = computeEvents(raw3,Ttx,Trx,Tn)\n",
    "Eb4,Es4,En4 = computeEvents(raw4,Ttx,Trx,Tn)\n",
    "Eb5,Es5,En5 = computeEvents(raw5,Ttx,Trx,Tn)\n",
    "Eb6,Es6,En6 = computeEvents(raw6,Ttx,Trx,Tn)"
   ]
  },
  {
   "cell_type": "code",
   "execution_count": 9,
   "metadata": {},
   "outputs": [
    {
     "name": "stdout",
     "output_type": "stream",
     "text": [
      "0.03758301203455019\n",
      "0.028585863960135505\n",
      "0.021053526335266293\n"
     ]
    }
   ],
   "source": [
    "Pb1 = Eb1/len(raw1)\n",
    "Ps1 = 1-Pb1\n",
    "\n",
    "Pb2 = Eb2/len(raw1)\n",
    "Ps2 = 1-Pb2\n",
    "\n",
    "Pb3 = Eb3/len(raw1)\n",
    "Ps3 = 1-Pb3\n",
    "\n",
    "Pb4 = Eb4/len(raw1)\n",
    "Ps4 = 1-Pb4\n",
    "\n",
    "Pb5 = Eb5/len(raw1)\n",
    "Ps5 = 1-Pb5\n",
    "\n",
    "Pb6 = Eb6/len(raw1)\n",
    "Ps6 = 1-Pb6\n",
    "\n",
    "print(Ps1*Pb2)\n",
    "print(Ps3*Pb4)\n",
    "print(Ps5*Pb6)"
   ]
  },
  {
   "cell_type": "code",
   "execution_count": 10,
   "metadata": {},
   "outputs": [
    {
     "name": "stdout",
     "output_type": "stream",
     "text": [
      "--------------------\n",
      "Poisson RMSE:\n",
      "0.12794059005303923\n",
      "0.10866269830000419\n",
      "0.08528515430161403\n",
      "--------------------\n",
      "Geometric RMSE:\n",
      "0.12803687993289598\n",
      "0.0\n",
      "0.0\n",
      "0.0\n",
      "--------------------\n",
      "0.14929839550436483\n",
      "0.12803687993289598\n",
      "0.14505840486642435\n"
     ]
    }
   ],
   "source": [
    "scan1 = findScanInterval(raw2,raw1,Ttx,Trx)\n",
    "scan2 = findScanInterval(raw4,raw3,Ttx,Trx)\n",
    "scan3 = findScanInterval(raw6,raw5,Ttx,Trx)\n",
    "\n",
    "hist1 = generateHistogram(scan1,Trx)\n",
    "hist2 = generateHistogram(scan2,Trx)\n",
    "hist3 = generateHistogram(scan3,Trx)\n",
    "\n",
    "geom_d1 = geom_dist(hist1[1],len(hist1))\n",
    "geom_d2 = geom_dist(hist2[0],len(hist2))\n",
    "geom_d3 = geom_dist(hist3[0],len(hist3))\n",
    "\n",
    "pois_d1 = poisson_dist(Trx*Eb2/len(raw1),len(hist1))\n",
    "pois_d2 = poisson_dist(Trx*Eb4/len(raw3),len(hist2))\n",
    "pois_d3 = poisson_dist(Trx*Eb6/len(raw5),len(hist3))\n",
    "print('--------------------')\n",
    "print('Poisson RMSE:')\n",
    "print(rmse(pois_d1,hist1))\n",
    "print(rmse(pois_d2,hist2))\n",
    "print(rmse(pois_d3,hist3))\n",
    "print('--------------------')\n",
    "print('Geometric RMSE:')\n",
    "print(rmse(geom_d1,hist1))\n",
    "print(rmse(geom_d2,hist2))\n",
    "print(rmse(geom_d3,hist3))\n",
    "gamma_d1 = gamma_dist(Trx*Eb2/len(raw1),len(hist1),2.3)\n",
    "gamma_d2 = gamma_dist(hist2[1],len(hist2),1)\n",
    "print(sum(gamma_d2))\n",
    "gamma_d3 = gamma_dist(Trx*Eb6/len(raw1),len(hist1),2.3)\n",
    "print('--------------------')\n",
    "print(rmse(gamma_d1,hist1))\n",
    "print(rmse(gamma_d2,hist2))\n",
    "print(rmse(gamma_d3,hist3))"
   ]
  },
  {
   "cell_type": "code",
   "execution_count": 16,
   "metadata": {},
   "outputs": [
    {
     "data": {
      "image/png": "[encoded data removed]",
      "text/plain": [
       "<Figure size 1152x720 with 1 Axes>"
      ]
     },
     "metadata": {
      "needs_background": "light"
     },
     "output_type": "display_data"
    }
   ],
   "source": [
    "pt.rcParams[\"figure.figsize\"] = (16,10)\n",
    "pt.plot(range(15),hist1[0:15])\n",
    "pt.plot(range(15),hist2[0:15])\n",
    "pt.plot(range(15),hist3[0:15])\n",
    "\n",
    "pt.axis([0,15,0,1.0])\n",
    "pt.xticks(range(15), [str(int(n)) for n in range(15)])\n",
    "pt.xlabel(r'$\\mathcal{k}$', fontsize = 18)\n",
    "pt.ylabel(r'P(k-messages-received)')\n",
    "pt.grid(True)\n",
    "pt.show()"
   ]
  },
  {
   "cell_type": "code",
   "execution_count": null,
   "metadata": {},
   "outputs": [],
   "source": []
  }
 ],
 "metadata": {
  "kernelspec": {
   "display_name": "Python 3",
   "language": "python",
   "name": "python3"
  },
  "language_info": {
   "codemirror_mode": {
    "name": "ipython",
    "version": 3
   },
   "file_extension": ".py",
   "mimetype": "text/x-python",
   "name": "python",
   "nbconvert_exporter": "python",
   "pygments_lexer": "ipython3",
   "version": "3.7.4"
  }
 },
 "nbformat": 4,
 "nbformat_minor": 2
}
