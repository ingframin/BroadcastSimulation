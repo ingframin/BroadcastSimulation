{
 "cells": [
  {
   "cell_type": "code",
   "execution_count": 1,
   "metadata": {},
   "outputs": [],
   "source": [
    "from math import e, factorial,log, gamma, sqrt, floor, exp\n",
    "import re\n",
    "from matplotlib import pyplot as pt\n",
    "from analysis import *"
   ]
  },
  {
   "cell_type": "code",
   "execution_count": 2,
   "metadata": {},
   "outputs": [],
   "source": [
    "f1 = open(\"r2-d0-result.txt\")\n",
    "raw1 = f1.read()\n",
    "f1.close()\n",
    "\n",
    "f2 = open(\"r2-d1-result.txt\")\n",
    "raw2 = f2.read()\n",
    "f2.close()\n",
    "\n",
    "f3 = open(\"r5-d0-result.txt\")\n",
    "raw3 = f3.read()\n",
    "f3.close()\n",
    "\n",
    "f4 = open(\"r5-d1-result.txt\")\n",
    "raw4 = f4.read()\n",
    "f4.close()\n",
    "\n",
    "f5 = open(\"r7-d0-result.txt\")\n",
    "raw5 = f5.read()\n",
    "f5.close()\n",
    "\n",
    "f6 = open(\"r7-d1-result.txt\")\n",
    "raw6 = f6.read()\n",
    "f6.close()\n",
    "\n",
    "f7 = open(\"r9-d0-result.txt\")\n",
    "raw7 = f7.read()\n",
    "f7.close()\n",
    "\n",
    "f8 = open(\"r9-d1-result.txt\")\n",
    "raw8 = f8.read()\n",
    "f8.close()\n",
    "\n",
    "Ttx = 23\n",
    "Trx = 60\n",
    "Tn = 100"
   ]
  },
  {
   "cell_type": "code",
   "execution_count": 3,
   "metadata": {},
   "outputs": [],
   "source": [
    "Eb1,Es1,En1 = computeEvents(raw1,Ttx,Trx,Tn)\n",
    "Eb2,Es2,En2 = computeEvents(raw2,Ttx,Trx,Tn)\n",
    "Eb3,Es3,En3 = computeEvents(raw3,Ttx,Trx,Tn)\n",
    "Eb4,Es4,En4 = computeEvents(raw4,Ttx,Trx,Tn)\n",
    "Eb5,Es5,En5 = computeEvents(raw5,Ttx,Trx,Tn)\n",
    "Eb6,Es6,En6 = computeEvents(raw6,Ttx,Trx,Tn)\n",
    "Eb7,Es7,En7 = computeEvents(raw7,Ttx,Trx,Tn)\n",
    "Eb8,Es8,En8 = computeEvents(raw8,Ttx,Trx,Tn)"
   ]
  },
  {
   "cell_type": "code",
   "execution_count": 14,
   "metadata": {},
   "outputs": [
    {
     "name": "stdout",
     "output_type": "stream",
     "text": [
      "0.16077692208401304\n",
      "0.2509217686168981\n",
      "0.20953350031758142\n",
      "0.09014361480213014\n"
     ]
    }
   ],
   "source": [
    "Pb1 = Eb1*Ttx/(Eb1*Ttx+En1*Tn+Es1*Trx)\n",
    "Ps1 = Es1*Trx/(Eb1*Ttx+En1*Tn+Es1*Trx)\n",
    "\n",
    "Pb2 = Eb2*Ttx/(Eb2*Ttx+En2*Tn+Es2*Trx)\n",
    "Ps2 = 1-Pb2\n",
    "\n",
    "Pb3 = Eb3*Ttx/(Eb3*Ttx+En3*Tn+Es3*Trx)\n",
    "Ps3 = 1-Pb3\n",
    "\n",
    "Pb4 = Eb4*Ttx/(Eb4*Ttx+En4*Tn+Es4*Trx)\n",
    "Ps4 = 1-Pb4\n",
    "\n",
    "Pb5 = Eb5*Ttx/(Eb5*Ttx+En5*Tn+Es5*Trx)\n",
    "Ps5 = 1-Pb5\n",
    "\n",
    "Pb6 = Eb6*Ttx/(Eb6*Ttx+En6*Tn+Es6*Trx)\n",
    "Ps6 = 1-Pb6\n",
    "\n",
    "Pb7 = Eb7*Ttx/(Eb7*Ttx+En7*Tn+Es7*Trx)\n",
    "Ps7 = 1-Pb7\n",
    "\n",
    "Pb8 = Eb8*Ttx/(Eb8*Ttx+En8*Tn+Es8*Trx)\n",
    "Ps8 = 1-Pb8\n",
    "\n",
    "print(Ps1*Pb2)\n",
    "print(Ps3*Pb4)\n",
    "print(Ps5*Pb6)\n",
    "print(Ps7*Pb8)"
   ]
  },
  {
   "cell_type": "code",
   "execution_count": null,
   "metadata": {},
   "outputs": [
    {
     "name": "stdout",
     "output_type": "stream",
     "text": [
      "1.0000000000000002\n",
      "0.9999999999999999\n",
      "1.0\n",
      "1.0\n"
     ]
    }
   ],
   "source": [
    "wnds1 = genWindowHistogram(raw1,raw2,1000,Trx)\n",
    "wnds2 = genWindowHistogram(raw3,raw4,1000,Trx)\n",
    "wnds3 = genWindowHistogram(raw5,raw6,1000,Trx)\n",
    "wnds4 = genWindowHistogram(raw7,raw8,1000,Trx)\n",
    "\n",
    "Psuc1 = checkSuccess(raw2,raw1)*Ttx/(Eb1*Ttx+En1*Tn+Es1*Trx)\n",
    "Psuc2 = checkSuccess(raw4,raw3)*Ttx/(Eb3*Ttx+En3*Tn+Es3*Trx)\n",
    "Psuc3 = checkSuccess(raw6,raw5)*Ttx/(Eb5*Ttx+En5*Tn+Es5*Trx)\n",
    "Psuc4 = checkSuccess(raw8,raw7)*Ttx/(Eb7*Ttx+En7*Tn+Es7*Trx)\n",
    "#pois_d1 = poisson_dist(Trx*Eb2/len(raw1),len(wnds1))\n",
    "#pois_d2 = poisson_dist(Trx*Eb4/len(raw3),len(wnds2))\n",
    "#pois_d3 = poisson_dist(Trx*Eb6/len(raw5),len(wnds3))"
   ]
  },
  {
   "cell_type": "code",
   "execution_count": null,
   "metadata": {},
   "outputs": [],
   "source": [
    "pt.rcParams[\"figure.figsize\"] = (16,10)\n",
    "\n",
    "pt.plot(range(len(wnds1)),wnds1,label=r\"$P_{S}=%.3f;~P_{B}=%.3f;~P_{Succ}$= %.3f\"%(Ps1,Pb2,Psuc1))\n",
    "pt.plot(range(len(wnds2)),wnds2,label=r\"$P_{S}=%.3f;~P_{B}=%.3f;~P_{Succ}$= %.3f\"%(Ps3,Pb4,Psuc2))\n",
    "pt.plot(range(len(wnds3)),wnds3,label=r\"$P_{S}=%.3f;~P_{B}=%.3f;~P_{Succ}$= %.3f\"%(Ps5,Pb6,Psuc3))\n",
    "pt.plot(range(len(wnds4)),wnds4,label=r\"$P_{S}=%.3f;~P_{B}=%.3f;~P_{Succ}$= %.3f\"%(Ps7,Pb8,Psuc4))\n",
    "pt.legend(prop={'family':'Times New Roman', 'size':20})\n",
    "#pt.plot(range(len(wnds1)),pois_d1)\n",
    "#pt.plot(range(len(wnds1)),pois_d2)\n",
    "#pt.plot(range(len(wnds1)),pois_d3)\n",
    "pt.axis([0,25,0,0.2])\n",
    "pt.xticks(range(25), [str(int(n)) for n in range(25)])\n",
    "pt.xlabel(r'$\\mathcal{k}$', fontsize = 18)\n",
    "pt.ylabel(r'P(k-messages-received)')\n",
    "pt.grid(True)\n",
    "pt.show()"
   ]
  },
  {
   "cell_type": "code",
   "execution_count": null,
   "metadata": {},
   "outputs": [],
   "source": []
  }
 ],
 "metadata": {
  "kernelspec": {
   "display_name": "Python 3",
   "language": "python",
   "name": "python3"
  },
  "language_info": {
   "codemirror_mode": {
    "name": "ipython",
    "version": 3
   },
   "file_extension": ".py",
   "mimetype": "text/x-python",
   "name": "python",
   "nbconvert_exporter": "python",
   "pygments_lexer": "ipython3",
   "version": "3.7.4"
  }
 },
 "nbformat": 4,
 "nbformat_minor": 2
}
