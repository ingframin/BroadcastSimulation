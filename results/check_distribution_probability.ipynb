{
 "cells": [
  {
   "cell_type": "code",
   "execution_count": 1,
   "metadata": {},
   "outputs": [],
   "source": [
    "from math import e, factorial,log, gamma, sqrt, floor, exp\n",
    "import re\n",
    "from matplotlib import pyplot as pt"
   ]
  },
  {
   "cell_type": "code",
   "execution_count": 2,
   "metadata": {},
   "outputs": [],
   "source": [
    "def computeEvents(V, ttx, trx, tn):\n",
    "    Eb = 0\n",
    "    Es = 0\n",
    "    En = 0\n",
    "\n",
    "    for c in V:\n",
    "        if c == 'B':\n",
    "            Eb += 1\n",
    "        elif c == 'S':\n",
    "            Es += 1\n",
    "        else:\n",
    "            En += 1\n",
    "    \n",
    "    return (Eb/ttx,Es/trx,En/tn)\n",
    "\n",
    "def geom_dist(p,maxK, k0=0):\n",
    "    return [p*(1-p)**(k-k0) for k in range(0,maxK)]\n",
    "\n",
    "def poisson_dist(lam,maxK):\n",
    "    return [e**(k*log(lam)-(lam)-log(gamma((k+1)))) for k in range(0,maxK)]\n",
    "\n",
    "def exponential_dist(lam, maxK):\n",
    "    return [lam*(e**(-lam*k)) for k in range(0,maxK)]\n",
    "\n",
    "def gamma_dist(beta,maxK,alpha):\n",
    "    k = (beta**alpha)/gamma(alpha)\n",
    "    return [k*(x**(alpha-1))*exp(-beta*x) for x in range(maxK)]\n",
    "\n",
    "def rmse(v1,v2):\n",
    "    rmse = 0\n",
    "    for x1,x2 in zip(v1,v2):\n",
    "        rmse += (x1-x2)**2\n",
    "    return sqrt(rmse/len(v1))\n",
    "\n",
    "def checkSuccess(Vtx,Vrx):\n",
    "    Cb = []\n",
    "    i = 0\n",
    "    for b,s in zip(Vtx,Vrx):\n",
    "        if b =='B' and s =='S':\n",
    "            Cb.append(i)\n",
    "        i+=1\n",
    "    return len(Cb),Cb\n",
    "\n",
    "def findScanInterval(Vtx,Vrx,Ttx,Trx):\n",
    "    scan_intervals = [{'s':m.start(),'e':m.end(),'n':0} for m in re.finditer(Trx*'S', Vrx)]\n",
    "    for si in scan_intervals:\n",
    "        si['n'] = Vtx[si['s']:si['e']].count(Ttx*'B')\n",
    "    \n",
    "    return scan_intervals\n",
    "\n",
    "def generateHistogram(sc_int,Trx):\n",
    "    hist = [0 for x in range(Trx+1)]\n",
    "    for si in sc_int:\n",
    "        hist[si['n']]+=1\n",
    "    for i in range(Trx+1):\n",
    "        hist[i] /= len(sc_int)\n",
    "    return hist\n",
    "    \n",
    "    "
   ]
  },
  {
   "cell_type": "code",
   "execution_count": 3,
   "metadata": {},
   "outputs": [],
   "source": [
    "f1 = open(\"r1-d0-result.txt\")\n",
    "raw1 = f1.read()\n",
    "f1.close()\n",
    "\n",
    "f2 = open(\"r1-d1-result.txt\")\n",
    "raw2 = f2.read()\n",
    "f2.close()\n",
    "\n",
    "f3 = open(\"r5-d0-result.txt\")\n",
    "raw3 = f3.read()\n",
    "f3.close()\n",
    "\n",
    "f4 = open(\"r5-d1-result.txt\")\n",
    "raw4 = f4.read()\n",
    "f4.close()\n",
    "\n",
    "f5 = open(\"r7-d0-result.txt\")\n",
    "raw5 = f5.read()\n",
    "f5.close()\n",
    "\n",
    "f6 = open(\"r7-d1-result.txt\")\n",
    "raw6 = f6.read()\n",
    "f6.close()\n",
    "\n",
    "Ttx = 1\n",
    "Trx = 10\n",
    "Tn = 1"
   ]
  },
  {
   "cell_type": "code",
   "execution_count": 4,
   "metadata": {},
   "outputs": [],
   "source": [
    "Eb1,Es1,En1 = computeEvents(raw1,Ttx,Trx,Tn)\n",
    "Eb2,Es2,En2 = computeEvents(raw2,Ttx,Trx,Tn)\n",
    "Eb3,Es3,En3 = computeEvents(raw3,Ttx,Trx,Tn)\n",
    "Eb4,Es4,En4 = computeEvents(raw4,Ttx,Trx,Tn)\n",
    "Eb5,Es5,En5 = computeEvents(raw5,Ttx,Trx,Tn)\n",
    "Eb6,Es6,En6 = computeEvents(raw6,Ttx,Trx,Tn)"
   ]
  },
  {
   "cell_type": "code",
   "execution_count": 5,
   "metadata": {},
   "outputs": [
    {
     "name": "stdout",
     "output_type": "stream",
     "text": [
      "0.11357877697370311\n",
      "0.07094030839221094\n",
      "0.04524865010560546\n"
     ]
    }
   ],
   "source": [
    "Pb1 = Eb1/len(raw1)\n",
    "Ps1 = 1-Pb1\n",
    "\n",
    "Pb2 = Eb2/len(raw1)\n",
    "Ps2 = 1-Pb2\n",
    "\n",
    "Pb3 = Eb3/len(raw1)\n",
    "Ps3 = 1-Pb3\n",
    "\n",
    "Pb4 = Eb4/len(raw1)\n",
    "Ps4 = 1-Pb4\n",
    "\n",
    "Pb5 = Eb5/len(raw1)\n",
    "Ps5 = 1-Pb5\n",
    "\n",
    "Pb6 = Eb6/len(raw1)\n",
    "Ps6 = 1-Pb6\n",
    "\n",
    "print(Ps1*Pb2)\n",
    "print(Ps3*Pb4)\n",
    "print(Ps5*Pb6)"
   ]
  },
  {
   "cell_type": "code",
   "execution_count": 6,
   "metadata": {},
   "outputs": [
    {
     "name": "stdout",
     "output_type": "stream",
     "text": [
      "--------------------\n",
      "Poisson RMSE:\n",
      "0.09982863891547727\n",
      "0.11054421931542492\n",
      "0.09366987768932872\n",
      "--------------------\n",
      "Geometric RMSE:\n",
      "0.10777713918677985\n",
      "0.03327909466829743\n",
      "0.026813270816559348\n",
      "0.70695719072404\n",
      "--------------------\n",
      "0.18278245753158573\n",
      "0.18833983594959927\n",
      "0.26117074072601415\n"
     ]
    }
   ],
   "source": [
    "scan1 = findScanInterval(raw2,raw1,Ttx,Trx)\n",
    "scan2 = findScanInterval(raw4,raw3,Ttx,Trx)\n",
    "scan3 = findScanInterval(raw6,raw5,Ttx,Trx)\n",
    "\n",
    "hist1 = generateHistogram(scan1,Trx)\n",
    "hist2 = generateHistogram(scan2,Trx)\n",
    "hist3 = generateHistogram(scan3,Trx)\n",
    "\n",
    "geom_d1 = geom_dist(hist1[1],len(hist1))\n",
    "geom_d2 = geom_dist(hist2[0],len(hist2))\n",
    "geom_d3 = geom_dist(hist3[0],len(hist3))\n",
    "\n",
    "pois_d1 = poisson_dist(Trx*Eb2/len(raw1),len(hist1))\n",
    "pois_d2 = poisson_dist(Trx*Eb4/len(raw3),len(hist2))\n",
    "pois_d3 = poisson_dist(Trx*Eb6/len(raw5),len(hist3))\n",
    "print('--------------------')\n",
    "print('Poisson RMSE:')\n",
    "print(rmse(pois_d1,hist1))\n",
    "print(rmse(pois_d2,hist2))\n",
    "print(rmse(pois_d3,hist3))\n",
    "print('--------------------')\n",
    "print('Geometric RMSE:')\n",
    "print(rmse(geom_d1,hist1))\n",
    "print(rmse(geom_d2,hist2))\n",
    "print(rmse(geom_d3,hist3))\n",
    "gamma_d1 = gamma_dist(Trx*Eb2/len(raw1),len(hist1),2.3)\n",
    "gamma_d2 = gamma_dist(hist2[1],len(hist2),1)\n",
    "print(sum(gamma_d2))\n",
    "gamma_d3 = gamma_dist(Trx*Eb6/len(raw1),len(hist1),2.3)\n",
    "print('--------------------')\n",
    "print(rmse(gamma_d1,hist1))\n",
    "print(rmse(gamma_d2,hist2))\n",
    "print(rmse(gamma_d3,hist3))"
   ]
  },
  {
   "cell_type": "code",
   "execution_count": 7,
   "metadata": {},
   "outputs": [
    {
     "data": {
      "image/png": "[encoded data removed]",
      "text/plain": [
       "<Figure size 1152x720 with 1 Axes>"
      ]
     },
     "metadata": {
      "needs_background": "light"
     },
     "output_type": "display_data"
    }
   ],
   "source": [
    "pt.rcParams[\"figure.figsize\"] = (16,10)\n",
    "pt.plot(range(Trx+1),hist1)\n",
    "pt.plot(range(Trx+1),gamma_d1)\n",
    "pt.plot(range(Trx+1),gamma_d2)\n",
    "#pt.plot(range(Trx+1),gamma_d3)\n",
    "pt.plot(range(Trx+1),hist2)\n",
    "#pt.plot(range(Trx+1),hist3)\n",
    "#pt.plot(range(Trx+1),geom_d1)\n",
    "#pt.plot(range(Trx+1),geom_d2)\n",
    "#pt.plot(range(Trx+1),geom_d3)\n",
    "#pt.plot(range(Trx+1),pois_d1)\n",
    "#pt.plot(range(Trx+1),pois_d2)\n",
    "#pt.plot(range(Trx+1),pois_d3)\n",
    "pt.axis([0,Trx+1,0,1.0])\n",
    "pt.xticks(range(Trx+1), [str(int(n)) for n in range(Trx+1)])\n",
    "pt.xlabel(r'$\\mathcal{k}$', fontsize = 18)\n",
    "pt.ylabel(r'P(k-messages-received)')\n",
    "pt.grid(True)\n",
    "pt.show()"
   ]
  },
  {
   "cell_type": "code",
   "execution_count": null,
   "metadata": {},
   "outputs": [],
   "source": []
  }
 ],
 "metadata": {
  "kernelspec": {
   "display_name": "Python 3",
   "language": "python",
   "name": "python3"
  },
  "language_info": {
   "codemirror_mode": {
    "name": "ipython",
    "version": 3
   },
   "file_extension": ".py",
   "mimetype": "text/x-python",
   "name": "python",
   "nbconvert_exporter": "python",
   "pygments_lexer": "ipython3",
   "version": "3.6.2"
  }
 },
 "nbformat": 4,
 "nbformat_minor": 2
}
